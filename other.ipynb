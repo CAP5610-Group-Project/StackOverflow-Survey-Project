{
 "cells": [
  {
   "cell_type": "code",
   "execution_count": null,
   "metadata": {},
   "outputs": [],
   "source": [
    "%run funcs.ipynb"
   ]
  }
 ],
 "metadata": {
  "kernelspec": {
   "display_name": "Python 3.8.10 64-bit (microsoft store)",
   "language": "python",
   "name": "python3"
  },
  "language_info": {
   "name": "python",
   "version": "3.8.10"
  },
  "orig_nbformat": 4,
  "vscode": {
   "interpreter": {
    "hash": "7d589866718798f87207e151a2a0f11fa15a968e62d639f20f7b75c59968468f"
   }
  }
 },
 "nbformat": 4,
 "nbformat_minor": 2
}
