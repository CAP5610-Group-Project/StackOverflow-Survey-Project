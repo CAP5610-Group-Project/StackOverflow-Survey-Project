{
  "cells": [
    {
      "cell_type": "code",
      "execution_count": null,
      "metadata": {
        "id": "3r_FKBNHAZUH"
      },
      "outputs": [],
      "source": [
        "import pandas as pd\n",
        "import numpy as np\n",
        "import matplotlib.pyplot as plt\n",
        "import seaborn as sns\n",
        "%matplotlib inline\n",
        "import missingno as msgno\n",
        "import sklearn as skl\n",
        "import tensorflow as tf\n",
        "from sklearn.tree import DecisionTreeRegressor\n",
        "from sklearn.tree import DecisionTreeClassifier\n",
        "from sklearn.model_selection import train_test_split\n",
        "from math import isnan\n",
        "import re"
      ]
    },
    {
      "cell_type": "code",
      "execution_count": null,
      "metadata": {
        "id": "FN45MwbgAZUL"
      },
      "outputs": [],
      "source": [
        "import matplotlib\n",
        "matplotlib.__version__"
      ]
    },
    {
      "cell_type": "code",
      "execution_count": null,
      "metadata": {
        "id": "XX9bvp1FAZUM"
      },
      "outputs": [],
      "source": [
        "survey_2022 = pd.read_csv(\"D:/oldesktop/CAP5610/Project/stack-overflow-developer-survey-2022/survey_results_public.csv\")"
      ]
    },
    {
      "cell_type": "code",
      "execution_count": null,
      "metadata": {
        "id": "EcEEXTf0AZUN"
      },
      "outputs": [],
      "source": [
        "survey_2022"
      ]
    },
    {
      "cell_type": "code",
      "execution_count": null,
      "metadata": {
        "id": "ZD66eZcmAZUN"
      },
      "outputs": [],
      "source": [
        "\n",
        "msgno.matrix(survey_2022, labels=True, figsize=(70,20))\n",
        "plt.xticks(rotation = -80, horizontalalignment=\"center\")\n",
        "plt.tick_params(labelsize=20)\n",
        "plt.show()"
      ]
    },
    {
      "cell_type": "code",
      "execution_count": null,
      "metadata": {
        "id": "Xm2NW9nyAZUO"
      },
      "outputs": [],
      "source": [
        "msgno.bar(survey_2022, figsize=(10,30))\n",
        "plt.yticks(horizontalalignment=\"center\")\n",
        "plt.tick_params(labelsize=20)\n",
        "plt.show()"
      ]
    },
    {
      "cell_type": "code",
      "execution_count": null,
      "metadata": {
        "id": "Al6lvRzjAZUO"
      },
      "outputs": [],
      "source": [
        "msgno.heatmap(survey_2022, figsize=(70,70))\n",
        "plt.xticks(rotation = 90, horizontalalignment=\"center\")\n",
        "\n",
        "plt.show()\n",
        "\n"
      ]
    },
    {
      "cell_type": "code",
      "execution_count": null,
      "metadata": {
        "id": "nkB_5j6AAZUP"
      },
      "outputs": [],
      "source": [
        "survey_2022.select_dtypes(np.number).columns.size"
      ]
    },
    {
      "cell_type": "code",
      "execution_count": null,
      "metadata": {
        "id": "H0UpbK_5AZUQ"
      },
      "outputs": [],
      "source": [
        "survey_2022.select_dtypes(object).columns.size"
      ]
    },
    {
      "cell_type": "code",
      "execution_count": null,
      "metadata": {
        "id": "Ru6M_t1kAZUQ"
      },
      "outputs": [],
      "source": [
        "survey_2022.describe()"
      ]
    },
    {
      "cell_type": "code",
      "execution_count": null,
      "metadata": {
        "id": "UK7wHF6XAZUR"
      },
      "outputs": [],
      "source": [
        "100000"
      ]
    },
    {
      "cell_type": "code",
      "execution_count": null,
      "metadata": {
        "id": "5XiBiF-fAZUR"
      },
      "outputs": [],
      "source": [
        "p = sns.displot(data = survey_2022, x = \"ConvertedCompYearly\", kind=\"kde\").fig.set_dpi(150)\n",
        "\n",
        "plt.show(p)"
      ]
    },
    {
      "cell_type": "code",
      "execution_count": null,
      "metadata": {
        "id": "-yAV4BmXAZUS"
      },
      "outputs": [],
      "source": [
        "p = sns.displot(data = survey_2022, x = \"WorkExp\", kind=\"kde\").fig.set_dpi(150)\n",
        "\n",
        "plt.show(p)"
      ]
    },
    {
      "cell_type": "code",
      "execution_count": null,
      "metadata": {
        "id": "8f_0L2UPAZUS"
      },
      "outputs": [],
      "source": [
        "plt.figure(dpi= 150)\n",
        "sns.boxplot(x = survey_2022[\"ConvertedCompYearly\"])\n",
        "plt.show()"
      ]
    },
    {
      "cell_type": "code",
      "execution_count": null,
      "metadata": {
        "id": "adbLp9Y3AZUS"
      },
      "outputs": [],
      "source": [
        "plt.figure(dpi= 150)\n",
        "sns.boxplot(x = survey_2022[\"WorkExp\"])\n",
        "plt.show()"
      ]
    },
    {
      "cell_type": "code",
      "execution_count": null,
      "metadata": {
        "id": "b-MS9xzXAZUT"
      },
      "outputs": [],
      "source": [
        "survey_2022.describe(include='object')"
      ]
    },
    {
      "cell_type": "code",
      "execution_count": null,
      "metadata": {
        "id": "tzAnrqtbAZUT"
      },
      "outputs": [],
      "source": [
        "plt.figure(dpi= 150)\n",
        "sns.countplot(x = survey_2022[\"MainBranch\"])\n",
        "plt.xticks(rotation = -90)\n",
        "plt.show()"
      ]
    },
    {
      "cell_type": "code",
      "execution_count": null,
      "metadata": {
        "id": "1Lwu866RAZUT"
      },
      "outputs": [],
      "source": []
    },
    {
      "cell_type": "code",
      "execution_count": null,
      "metadata": {
        "id": "xJTh5zdfAZUT"
      },
      "outputs": [],
      "source": [
        "cat_cols = list(survey_2022.select_dtypes(object).columns)\n",
        "cat_cols"
      ]
    },
    {
      "cell_type": "code",
      "execution_count": null,
      "metadata": {
        "id": "HE6rPF-OAZUU"
      },
      "outputs": [],
      "source": [
        "survey_2022[cat_cols].iloc[:,0].unique().size"
      ]
    },
    {
      "cell_type": "code",
      "execution_count": null,
      "metadata": {
        "id": "6MS3B8orAZUU"
      },
      "outputs": [],
      "source": [
        "count = 0\n",
        "for cat in cat_cols:\n",
        "    if(survey_2022[cat].unique().size < 70):\n",
        "        plt.figure(dpi= 150, figsize=(30, 10))\n",
        "        sns.countplot(x = survey_2022[cat])\n",
        "        plt.xticks(rotation = -90)\n",
        "        plt.show()\n",
        "        count += 1\n",
        "\n",
        "print(count)\n",
        "    "
      ]
    },
    {
      "cell_type": "code",
      "execution_count": null,
      "metadata": {
        "id": "tcSEjS77AZUU"
      },
      "outputs": [],
      "source": [
        "count = 0\n",
        "for cat in cat_cols:\n",
        "    if(survey_2022[cat].unique().size >= 70 and survey_2022[cat].unique().size < 350):\n",
        "        plt.figure(dpi= 150, figsize=(30, 10))\n",
        "        sns.countplot(x = survey_2022[cat])\n",
        "        plt.xticks(rotation = -90)\n",
        "        plt.show()\n",
        "        count += 1\n",
        "\n",
        "print(count)"
      ]
    },
    {
      "cell_type": "code",
      "execution_count": null,
      "metadata": {
        "id": "fqF2tq2RAZUU"
      },
      "outputs": [],
      "source": [
        "print(\"hi\")"
      ]
    },
    {
      "cell_type": "code",
      "execution_count": null,
      "metadata": {
        "id": "RkroWVEeAZUV"
      },
      "outputs": [],
      "source": [
        "count = 0\n",
        "for cat in cat_cols:\n",
        "    if(survey_2022[cat].unique().size >= 350 and survey_2022[cat].unique().size < 1500):\n",
        "        plt.figure(dpi= 150, figsize=(30, 10))\n",
        "        sns.countplot(x = survey_2022[cat])\n",
        "        plt.xticks(rotation = -90)\n",
        "        plt.show()\n",
        "        count += 1\n",
        "\n",
        "print(count)"
      ]
    },
    {
      "cell_type": "code",
      "execution_count": null,
      "metadata": {
        "id": "IUxVvIBrAZUV"
      },
      "outputs": [],
      "source": [
        "count = 0\n",
        "for cat in cat_cols:\n",
        "    if(survey_2022[cat].unique().size >= 1500 and survey_2022[cat].unique().size < 5500):\n",
        "        plt.figure(dpi= 150, figsize=(30, 10))\n",
        "        sns.countplot(x = survey_2022[cat])\n",
        "        plt.xticks(rotation = -90)\n",
        "        plt.show()\n",
        "        count += 1\n",
        "\n",
        "print(count)"
      ]
    },
    {
      "cell_type": "code",
      "execution_count": null,
      "metadata": {
        "id": "DKzE4wcyAZUV"
      },
      "outputs": [],
      "source": [
        "count = 0\n",
        "for cat in cat_cols:\n",
        "    if(survey_2022[cat].unique().size >= 5500 and survey_2022[cat].unique().size < 7500):\n",
        "        plt.figure(dpi= 150, figsize=(30, 10))\n",
        "        sns.countplot(x = survey_2022[cat])\n",
        "        plt.xticks(rotation = -90)\n",
        "        plt.show()\n",
        "        count += 1\n",
        "\n",
        "print(count)"
      ]
    },
    {
      "cell_type": "code",
      "execution_count": null,
      "metadata": {
        "id": "10-0RS8pAZUW"
      },
      "outputs": [],
      "source": [
        "count = 0\n",
        "for cat in cat_cols:\n",
        "    if(survey_2022[cat].unique().size >= 7500 and survey_2022[cat].unique().size < 8500):\n",
        "        #plt.figure(dpi= 150, figsize=(30, 10))\n",
        "        plt.tick_params(axis='x', which='both', bottom=False, top=False,labelbottom=False)\n",
        "        sns.countplot(x = survey_2022[cat])\n",
        "        plt.xticks(rotation = -90)\n",
        "        plt.show()\n",
        "        count += 1\n",
        "\n",
        "print(count)\n"
      ]
    },
    {
      "cell_type": "code",
      "execution_count": null,
      "metadata": {
        "id": "tGj0kT_OAZUW"
      },
      "outputs": [],
      "source": [
        "count = 0\n",
        "for cat in cat_cols:\n",
        "    if(survey_2022[cat].unique().size >= 8500 and survey_2022[cat].unique().size < 9500):\n",
        "        #plt.figure(dpi= 150, figsize=(30, 10))\n",
        "        plt.tick_params(axis='x', which='both', bottom=False, top=False,labelbottom=False)\n",
        "        sns.countplot(x = survey_2022[cat])\n",
        "        plt.xticks(rotation = -90)\n",
        "        plt.show()\n",
        "        count += 1\n",
        "\n",
        "print(count)"
      ]
    },
    {
      "cell_type": "code",
      "execution_count": null,
      "metadata": {
        "id": "8C5TUJALAZUW"
      },
      "outputs": [],
      "source": [
        "count = 0\n",
        "for cat in cat_cols:\n",
        "    if(survey_2022[cat].unique().size >= 9500 and survey_2022[cat].unique().size < 10500):\n",
        "        #plt.figure(dpi= 150, figsize=(30, 10))\n",
        "        plt.tick_params(axis='x', which='both', bottom=False, top=False,labelbottom=False)\n",
        "        sns.countplot(x = survey_2022[cat])\n",
        "        plt.xticks(rotation = -90)\n",
        "        plt.show()\n",
        "        count += 1\n",
        "\n",
        "print(count)"
      ]
    },
    {
      "cell_type": "code",
      "execution_count": null,
      "metadata": {
        "id": "pQePILsMAZUW"
      },
      "outputs": [],
      "source": [
        "count = 0\n",
        "for cat in cat_cols:\n",
        "    if(survey_2022[cat].unique().size >= 10500 and survey_2022[cat].unique().size < 16500):\n",
        "        #plt.figure(dpi= 150, figsize=(30, 10))\n",
        "        plt.tick_params(axis='x', which='both', bottom=False, top=False,labelbottom=False)\n",
        "        sns.countplot(x = survey_2022[cat])\n",
        "        plt.xticks(rotation = -90)\n",
        "        plt.show()\n",
        "        count += 1\n",
        "\n",
        "print(count)"
      ]
    },
    {
      "cell_type": "code",
      "execution_count": null,
      "metadata": {
        "id": "A0FJvb3nAZUX"
      },
      "outputs": [],
      "source": [
        "count = 0\n",
        "for cat in cat_cols:\n",
        "    if(survey_2022[cat].unique().size >= 16500 and survey_2022[cat].unique().size < 25500):\n",
        "        #plt.figure(dpi= 150, figsize=(30, 10))\n",
        "        plt.tick_params(axis='x', which='both', bottom=False, top=False,labelbottom=False)\n",
        "        sns.countplot(x = survey_2022[cat])\n",
        "        plt.xticks(rotation = -90)\n",
        "        plt.show()\n",
        "        count += 1\n",
        "\n",
        "print(count)"
      ]
    },
    {
      "cell_type": "code",
      "execution_count": null,
      "metadata": {
        "id": "qhkFcX_NAZUX"
      },
      "outputs": [],
      "source": [
        "count = 0\n",
        "for cat in cat_cols:\n",
        "    if(survey_2022[cat].unique().size >= 25500):\n",
        "        #plt.figure(dpi= 150, figsize=(30, 10))\n",
        "        plt.tick_params(axis='x', which='both', bottom=False, top=False,labelbottom=False)\n",
        "        sns.countplot(x = survey_2022[cat])\n",
        "        plt.xticks(rotation = -90)\n",
        "        plt.show()\n",
        "        count += 1\n",
        "\n",
        "print(count)"
      ]
    },
    {
      "cell_type": "code",
      "execution_count": null,
      "metadata": {
        "id": "R5-YWsqKAZUX"
      },
      "outputs": [],
      "source": [
        "survey_2022.select_dtypes(np.number)"
      ]
    },
    {
      "cell_type": "code",
      "execution_count": null,
      "metadata": {
        "id": "QjJDhLg0AZUX"
      },
      "outputs": [],
      "source": [
        "survey_2022.describe()"
      ]
    },
    {
      "cell_type": "code",
      "execution_count": null,
      "metadata": {
        "id": "D6rVsp0EAZUX"
      },
      "outputs": [],
      "source": [
        "q = survey_2022[\"ConvertedCompYearly\"].quantile(0.95)\n",
        "\n",
        "survey_2022[survey_2022[\"ConvertedCompYearly\"] < q]"
      ]
    },
    {
      "cell_type": "code",
      "execution_count": null,
      "metadata": {
        "id": "Jcjfn-I9AZUY"
      },
      "outputs": [],
      "source": [
        "sns.scatterplot(data=survey_2022[survey_2022[\"ConvertedCompYearly\"] < q], x= \"WorkExp\", y= \"ConvertedCompYearly\")\n",
        "plt.show()"
      ]
    },
    {
      "cell_type": "code",
      "execution_count": null,
      "metadata": {
        "id": "dp2TMk7IAZUY"
      },
      "outputs": [],
      "source": [
        "survey_2022.select_dtypes(object)"
      ]
    },
    {
      "cell_type": "code",
      "execution_count": null,
      "metadata": {
        "id": "uzIYLC9JAZUY"
      },
      "outputs": [],
      "source": [
        "q = survey_2022[\"ConvertedCompYearly\"].quantile(0.95)\n",
        "\n",
        "survey_2022[survey_2022[\"ConvertedCompYearly\"] < q]"
      ]
    },
    {
      "cell_type": "code",
      "execution_count": null,
      "metadata": {
        "id": "Id2bljdqAZUY"
      },
      "outputs": [],
      "source": [
        "sns.boxplot(data= survey_2022[survey_2022[\"ConvertedCompYearly\"] < q], x=\"ConvertedCompYearly\", y=\"EdLevel\")"
      ]
    },
    {
      "cell_type": "code",
      "execution_count": null,
      "metadata": {
        "id": "BzFCa7NtAZUY"
      },
      "outputs": [],
      "source": [
        "survey_2022[\"YearsCodePro\"].sort_values().unique()"
      ]
    },
    {
      "cell_type": "code",
      "execution_count": null,
      "metadata": {
        "id": "NzKK-9f2AZUY"
      },
      "outputs": [],
      "source": [
        "['Less than 1 year', '1', '2', '6', '7', '8', '9', '10', '11', '12', '13', '14', '15', '16', '17', '18', '19',\n",
        "       '20', '21', '22', '23', '24', '25', '26', '27', '28', '29',\n",
        "       '3', '30', '31', '32', '33', '34', '35', '36', '37', '38', '39',\n",
        "       '4', '40', '41', '42', '43', '44', '45', '46', '47', '48', '49',\n",
        "       '5', '50', \n",
        "       'More than 50 years']"
      ]
    },
    {
      "cell_type": "code",
      "execution_count": null,
      "metadata": {
        "id": "5UzPkwrZAZUZ"
      },
      "outputs": [],
      "source": [
        "use_order = np.append(np.append(np.array([\"Less than 1 year\"]), pd.Series(np.arange(1, 51)).apply(str).values), np.array(\"More than 50 years\"))\n",
        "use_order"
      ]
    },
    {
      "cell_type": "code",
      "execution_count": null,
      "metadata": {
        "id": "DVZaiqcaAZUZ"
      },
      "outputs": [],
      "source": [
        "plt.figure(figsize=(10, 30))\n",
        "sns.boxplot(data= survey_2022[survey_2022[\"ConvertedCompYearly\"] < q], x=\"ConvertedCompYearly\", y=\"YearsCodePro\", order=use_order)"
      ]
    },
    {
      "cell_type": "code",
      "execution_count": null,
      "metadata": {
        "id": "osAW_E0nAZUZ"
      },
      "outputs": [],
      "source": [
        "order = survey_2022[survey_2022[\"ConvertedCompYearly\"] < q].groupby([\"Employment\"]).median()[\"ConvertedCompYearly\"].sort_values().index"
      ]
    },
    {
      "cell_type": "code",
      "execution_count": null,
      "metadata": {
        "id": "Ja6mJYkMAZUZ"
      },
      "outputs": [],
      "source": [
        "survey_2022[survey_2022[\"ConvertedCompYearly\"] < q].groupby([\"Employment\"]).median()[\"ConvertedCompYearly\"].sort_values()[:13]"
      ]
    },
    {
      "cell_type": "code",
      "execution_count": null,
      "metadata": {
        "id": "tpbqTIxfAZUZ"
      },
      "outputs": [],
      "source": [
        "order[:12]"
      ]
    },
    {
      "cell_type": "code",
      "execution_count": null,
      "metadata": {
        "id": "UAyEUhx5AZUZ"
      },
      "outputs": [],
      "source": [
        "plt.figure(figsize=(10, 30))\n",
        "sns.boxplot(data= survey_2022[survey_2022[\"ConvertedCompYearly\"] < q], x=\"ConvertedCompYearly\", y=\"Employment\", order=order[:13])"
      ]
    },
    {
      "cell_type": "code",
      "execution_count": null,
      "metadata": {
        "id": "wL1pyCQxAZUa"
      },
      "outputs": [],
      "source": [
        "order = survey_2022[survey_2022[\"ConvertedCompYearly\"] < q].groupby([\"MainBranch\"]).median()[\"ConvertedCompYearly\"].sort_values().index"
      ]
    },
    {
      "cell_type": "code",
      "execution_count": null,
      "metadata": {
        "id": "hz31GCCVAZUa"
      },
      "outputs": [],
      "source": [
        "order"
      ]
    },
    {
      "cell_type": "code",
      "execution_count": null,
      "metadata": {
        "id": "azzaqhpOAZUa"
      },
      "outputs": [],
      "source": [
        "plt.figure(figsize=(10, 30))\n",
        "sns.boxplot(data= survey_2022[survey_2022[\"ConvertedCompYearly\"] < q], x=\"ConvertedCompYearly\", y=\"MainBranch\", order=order)"
      ]
    },
    {
      "cell_type": "code",
      "execution_count": null,
      "metadata": {
        "id": "Ph6xwgJlAZUa"
      },
      "outputs": [],
      "source": [
        "survey_2022.select_dtypes(object).columns"
      ]
    },
    {
      "cell_type": "code",
      "execution_count": null,
      "metadata": {
        "id": "EELB_S05AZUa"
      },
      "outputs": [],
      "source": [
        "count = 0\n",
        "for cat in cat_cols:\n",
        "    if(survey_2022[cat].unique().size < 70):\n",
        "        plt.figure(dpi= 150, figsize=(30, 10))\n",
        "        order = survey_2022[survey_2022[\"ConvertedCompYearly\"] < q].groupby([cat]).median()[\"ConvertedCompYearly\"].sort_values().index\n",
        "        sns.boxplot(data= survey_2022[survey_2022[\"ConvertedCompYearly\"] < q], x=\"ConvertedCompYearly\", y=cat, order=order)\n",
        "        plt.xticks(rotation = -90)\n",
        "        plt.show()\n",
        "        count += 1\n",
        "\n",
        "print(count)"
      ]
    },
    {
      "cell_type": "code",
      "execution_count": null,
      "metadata": {
        "id": "H3GwuLxpAZUa"
      },
      "outputs": [],
      "source": [
        "count = 0\n",
        "for cat in cat_cols:\n",
        "    if(survey_2022[cat].unique().size >= 70 and survey_2022[cat].unique().size < 350):\n",
        "        plt.figure(dpi= 150, figsize=(10, 40))\n",
        "        order = survey_2022[survey_2022[\"ConvertedCompYearly\"] < q].groupby([cat]).median()[\"ConvertedCompYearly\"].sort_values().index\n",
        "        sns.boxplot(data= survey_2022[survey_2022[\"ConvertedCompYearly\"] < q], x=\"ConvertedCompYearly\", y=cat, order=order)\n",
        "        plt.xticks(rotation = -90)\n",
        "        plt.show()\n",
        "        count += 1\n",
        "\n",
        "print(count)"
      ]
    },
    {
      "cell_type": "code",
      "execution_count": null,
      "metadata": {
        "id": "W7-zVjdrAZUb"
      },
      "outputs": [],
      "source": [
        "count = 0\n",
        "for cat in cat_cols:\n",
        "    if(survey_2022[cat].unique().size >= 350 and survey_2022[cat].unique().size < 1500):\n",
        "        plt.figure(dpi= 150, figsize=(10, 100))\n",
        "        order = survey_2022[survey_2022[\"ConvertedCompYearly\"] < q].groupby([cat]).median()[\"ConvertedCompYearly\"].sort_values().index\n",
        "        sns.boxplot(data= survey_2022[survey_2022[\"ConvertedCompYearly\"] < q], x=\"ConvertedCompYearly\", y=cat, order=order)\n",
        "        plt.xticks(rotation = -90)\n",
        "        plt.show()\n",
        "        count += 1\n",
        "\n",
        "print(count)"
      ]
    },
    {
      "cell_type": "code",
      "execution_count": null,
      "metadata": {
        "id": "v1uiovePAZUb"
      },
      "outputs": [],
      "source": [
        "survey_2022"
      ]
    },
    {
      "cell_type": "code",
      "execution_count": null,
      "metadata": {
        "id": "EzKsZyr9AZUb"
      },
      "outputs": [],
      "source": [
        "msgno.matrix(survey_2022, labels=True, figsize=(70,20))\n",
        "plt.xticks(rotation = -80, horizontalalignment=\"center\")\n",
        "plt.tick_params(labelsize=20)\n",
        "plt.show()"
      ]
    },
    {
      "cell_type": "code",
      "execution_count": null,
      "metadata": {
        "id": "vPzxj0g2AZUb"
      },
      "outputs": [],
      "source": [
        "msgno.bar(survey_2022)\n",
        "plt.yticks(horizontalalignment=\"center\")\n",
        "plt.tick_params(labelsize=20)"
      ]
    },
    {
      "cell_type": "code",
      "execution_count": null,
      "metadata": {
        "id": "cpmcZhYpAZUb"
      },
      "outputs": [],
      "source": [
        "survey_2022.notna().sum().sort_values()"
      ]
    },
    {
      "cell_type": "code",
      "execution_count": null,
      "metadata": {
        "id": "RDkttRH7AZUb"
      },
      "outputs": [],
      "source": [
        "survey_2022.drop([\"VCHostingPersonal use\", \"VCHostingProfessional use\"], axis=1, inplace=True)"
      ]
    },
    {
      "cell_type": "code",
      "execution_count": null,
      "metadata": {
        "id": "HH9DvsD2AZUc"
      },
      "outputs": [],
      "source": [
        "survey_2022.select_dtypes(np.number).corr()"
      ]
    },
    {
      "cell_type": "code",
      "execution_count": null,
      "metadata": {
        "id": "Mwg4fZl5AZUc"
      },
      "outputs": [],
      "source": [
        "survey_2022.select_dtypes(object).columns"
      ]
    },
    {
      "cell_type": "code",
      "execution_count": null,
      "metadata": {
        "id": "2C4qcdAyAZUc"
      },
      "outputs": [],
      "source": [
        "survey_2022_yearly_comp = survey_2022[survey_2022[\"ConvertedCompYearly\"].notna()]"
      ]
    },
    {
      "cell_type": "code",
      "execution_count": null,
      "metadata": {
        "id": "WwyjAtpNAZUc"
      },
      "outputs": [],
      "source": []
    },
    {
      "cell_type": "code",
      "execution_count": null,
      "metadata": {
        "id": "OENk-BaZAZUc"
      },
      "outputs": [],
      "source": [
        "plt.figure(figsize=(10, 30), dpi=150)\n",
        "plt.xticks(rotation = -90, horizontalalignment=\"center\")\n",
        "sns.countplot(data=survey_2022[survey_2022[\"ConvertedCompYearly\"] < q], x=\"Employment\", hue=\"Age\")"
      ]
    },
    {
      "cell_type": "code",
      "execution_count": null,
      "metadata": {
        "id": "XTAWBUTXAZUc"
      },
      "outputs": [],
      "source": [
        "plt.figure(figsize=(10, 30), dpi=150)\n",
        "plt.xticks(rotation = -90, horizontalalignment=\"center\")\n",
        "sns.countplot(data=survey_2022[survey_2022[\"ConvertedCompYearly\"] < q], x=\"Sexuality\", hue=\"Trans\")"
      ]
    },
    {
      "cell_type": "code",
      "execution_count": null,
      "metadata": {
        "id": "qttnlTc-AZUc"
      },
      "outputs": [],
      "source": [
        "survey_2022[\"DevType\"].value_counts()"
      ]
    },
    {
      "cell_type": "code",
      "execution_count": null,
      "metadata": {
        "id": "cJEmRx7iAZUd"
      },
      "outputs": [],
      "source": [
        "too_litte = survey_2022[\"DevType\"].value_counts()[survey_2022[\"DevType\"].value_counts() > 10].index"
      ]
    },
    {
      "cell_type": "code",
      "execution_count": null,
      "metadata": {
        "id": "iv01SHyPAZUd"
      },
      "outputs": [],
      "source": [
        "survey_2022[survey_2022[\"DevType\"].apply(lambda x: x in too_litte)][\"DevType\"]"
      ]
    },
    {
      "cell_type": "code",
      "execution_count": null,
      "metadata": {
        "id": "zVQFXd8VAZUd"
      },
      "outputs": [],
      "source": [
        "survey_2022[(survey_2022[\"ConvertedCompYearly\"] < q) & (survey_2022[\"DevType\"].apply(lambda x: x in too_litte))][\"DevType\"].unique().size"
      ]
    },
    {
      "cell_type": "code",
      "execution_count": null,
      "metadata": {
        "id": "S2SVtGCIAZUd"
      },
      "outputs": [],
      "source": [
        "\n",
        "order = survey_2022[(survey_2022[\"ConvertedCompYearly\"] < q) & (survey_2022[\"DevType\"].apply(lambda x: x in too_litte))].groupby([\"DevType\"]).median()[\"ConvertedCompYearly\"].sort_values().index"
      ]
    },
    {
      "cell_type": "code",
      "execution_count": null,
      "metadata": {
        "id": "h3fDucByAZUd"
      },
      "outputs": [],
      "source": [
        "plt.figure(dpi= 150, figsize=(20,70))\n",
        "sns.boxplot(data= survey_2022[(survey_2022[\"ConvertedCompYearly\"] < q) & (survey_2022[\"DevType\"].apply(lambda x: x in too_litte))], x=\"ConvertedCompYearly\", y=\"DevType\", order=order)\n",
        "plt.xticks(rotation = -90)\n",
        "plt.show()"
      ]
    },
    {
      "cell_type": "code",
      "execution_count": null,
      "metadata": {
        "id": "av4Vb3ZZAZUd"
      },
      "outputs": [],
      "source": [
        "modified_survey_2022 = survey_2022.copy()\n",
        "modified2_survey_2022 = survey_2022.copy()\n",
        "modified_combined_survey_2022 = survey_2022.copy()"
      ]
    },
    {
      "cell_type": "code",
      "execution_count": null,
      "metadata": {
        "id": "1sAfLykmAZUd"
      },
      "outputs": [],
      "source": [
        "modified_too_little = survey_2022[\"DevType\"].value_counts()[survey_2022[\"DevType\"].value_counts() > 10].index"
      ]
    },
    {
      "cell_type": "code",
      "execution_count": null,
      "metadata": {
        "id": "Iiv6tYaYAZUe"
      },
      "outputs": [],
      "source": [
        "modified_survey_2022[modified_survey_2022[\"DevType\"].apply(lambda x: x in modified_too_little)].shape"
      ]
    },
    {
      "cell_type": "code",
      "execution_count": null,
      "metadata": {
        "id": "m114BmfQAZUe"
      },
      "outputs": [],
      "source": [
        "modified_survey_2022 = modified_survey_2022[modified_survey_2022[\"DevType\"].apply(lambda x: x in modified_too_little)]"
      ]
    },
    {
      "cell_type": "code",
      "execution_count": null,
      "metadata": {
        "id": "ke0lD-52AZUe"
      },
      "outputs": [],
      "source": [
        "modified_survey_2022"
      ]
    },
    {
      "cell_type": "code",
      "execution_count": null,
      "metadata": {
        "id": "wYh95zWQAZUe"
      },
      "outputs": [],
      "source": [
        "qle = survey_2022[\"ConvertedCompYearly\"].quantile(0.995)\n",
        "\n",
        "qle"
      ]
    },
    {
      "cell_type": "code",
      "execution_count": null,
      "metadata": {
        "id": "XsnThVS1AZUe"
      },
      "outputs": [],
      "source": [
        "modified_survey_2022[modified_survey_2022[\"ConvertedCompYearly\"] < qle].shape"
      ]
    },
    {
      "cell_type": "code",
      "execution_count": null,
      "metadata": {
        "id": "vweYe3ooAZUe"
      },
      "outputs": [],
      "source": [
        "modified_survey_2022 = modified_survey_2022[modified_survey_2022[\"ConvertedCompYearly\"] < qle]"
      ]
    },
    {
      "cell_type": "code",
      "execution_count": null,
      "metadata": {
        "id": "QQuuZskQAZUe"
      },
      "outputs": [],
      "source": [
        "modified_survey_2022.shape"
      ]
    },
    {
      "cell_type": "code",
      "execution_count": null,
      "metadata": {
        "id": "tKiHV4vtAZUf"
      },
      "outputs": [],
      "source": [
        "modified_survey_2022.shape\n"
      ]
    },
    {
      "cell_type": "code",
      "execution_count": null,
      "metadata": {
        "id": "ZW1UBCzkAZUf"
      },
      "outputs": [],
      "source": [
        "cats = modified_survey_2022.select_dtypes(object).columns"
      ]
    },
    {
      "cell_type": "code",
      "execution_count": null,
      "metadata": {
        "id": "Zt0uVLffAZUf"
      },
      "outputs": [],
      "source": [
        "modified_survey_2022[\"MainBranch\"].value_counts()"
      ]
    },
    {
      "cell_type": "code",
      "execution_count": null,
      "metadata": {
        "id": "femvYPJdAZUf"
      },
      "outputs": [],
      "source": [
        "too_litte = modified_survey_2022[\"MainBranch\"].value_counts()[modified_survey_2022[\"MainBranch\"].value_counts() > 10].index\n",
        "survey_2022[survey_2022[\"DevType\"].apply(lambda x: x in too_litte)][\"DevType\"]\n"
      ]
    },
    {
      "cell_type": "code",
      "execution_count": null,
      "metadata": {
        "id": "gleHCnS2AZUf"
      },
      "outputs": [],
      "source": [
        "for cat in cats:\n",
        "    print(cat)"
      ]
    },
    {
      "cell_type": "code",
      "execution_count": null,
      "metadata": {
        "id": "smFobocZAZUf"
      },
      "outputs": [],
      "source": [
        "modified_survey_2022_copy = modified_survey_2022.copy()"
      ]
    },
    {
      "cell_type": "code",
      "execution_count": null,
      "metadata": {
        "id": "uTIdpPRvAZUf"
      },
      "outputs": [],
      "source": [
        "modified_survey_2022_copy.shape"
      ]
    },
    {
      "cell_type": "code",
      "execution_count": null,
      "metadata": {
        "id": "1n_tIQQLAZUg"
      },
      "outputs": [],
      "source": [
        "count = 0\n",
        "for cat in cats:\n",
        "    too_litte = modified_survey_2022_copy[cat].value_counts()[modified_survey_2022_copy[cat].value_counts() == 1].index\n",
        "    if(modified_survey_2022_copy[cat].apply(lambda x: x in too_litte).sum() > 0):\n",
        "        print(modified_survey_2022_copy[cat].apply(lambda x: x in too_litte).sum())\n",
        "        count += 1\n",
        "\n",
        "print()\n",
        "print(\"count : \",count)"
      ]
    },
    {
      "cell_type": "code",
      "execution_count": null,
      "metadata": {
        "id": "HcxgnFuZAZUg"
      },
      "outputs": [],
      "source": [
        "for cat in cats:\n",
        "    too_litte = modified_survey_2022_copy[cat].value_counts()[modified_survey_2022_copy[cat].value_counts() == 1].index\n",
        "    if(modified_survey_2022_copy[cat].apply(lambda x: x in too_litte).sum() > 0):\n",
        "        modified_survey_2022_copy = modified_survey_2022_copy[modified_survey_2022_copy[cat].apply(lambda x: x not in too_litte)]\n",
        "        "
      ]
    },
    {
      "cell_type": "code",
      "execution_count": null,
      "metadata": {
        "id": "hK9y5EkwAZUg"
      },
      "outputs": [],
      "source": [
        "modified_survey_2022_copy"
      ]
    },
    {
      "cell_type": "code",
      "execution_count": null,
      "metadata": {
        "id": "jGza8gzOAZUg"
      },
      "outputs": [],
      "source": [
        "modified_survey_2022 = modified_survey_2022_copy.copy()"
      ]
    },
    {
      "cell_type": "code",
      "execution_count": null,
      "metadata": {
        "id": "rLnXW-QaAZUg"
      },
      "outputs": [],
      "source": [
        "modified_survey_2022[[\"LanguageHaveWorkedWith\", \"LanguageWantToWorkWith\"]]"
      ]
    },
    {
      "cell_type": "code",
      "execution_count": null,
      "metadata": {
        "id": "p__gs8BnAZUg"
      },
      "outputs": [],
      "source": [
        "too_litte = modified_survey_2022[\"LanguageHaveWorkedWith\"].value_counts()[modified_survey_2022[\"LanguageHaveWorkedWith\"].value_counts() > 4].index"
      ]
    },
    {
      "cell_type": "code",
      "execution_count": null,
      "metadata": {
        "id": "2Zx8wdfwAZUg"
      },
      "outputs": [],
      "source": [
        "order = modified_survey_2022[(modified_survey_2022[\"ConvertedCompYearly\"] < q) & (modified_survey_2022[\"LanguageHaveWorkedWith\"].apply(lambda x: x in too_litte))].groupby([\"LanguageHaveWorkedWith\"]).median()[\"ConvertedCompYearly\"].sort_values().index"
      ]
    },
    {
      "cell_type": "code",
      "execution_count": null,
      "metadata": {
        "id": "EhdtW-sWAZUh"
      },
      "outputs": [],
      "source": [
        "plt.figure(dpi= 150, figsize=(20,70))\n",
        "sns.boxplot(data= modified_survey_2022[(modified_survey_2022[\"ConvertedCompYearly\"] < q) & (modified_survey_2022[\"LanguageHaveWorkedWith\"].apply(lambda x: x in too_litte))], x=\"ConvertedCompYearly\", y=\"LanguageHaveWorkedWith\", order=order)\n",
        "plt.xticks(rotation = -90)\n",
        "plt.show()"
      ]
    },
    {
      "cell_type": "code",
      "execution_count": null,
      "metadata": {
        "id": "fpylFiqNAZUh"
      },
      "outputs": [],
      "source": [
        "modified_survey_2022"
      ]
    },
    {
      "cell_type": "code",
      "execution_count": null,
      "metadata": {
        "id": "ARcEMImTAZUh"
      },
      "outputs": [],
      "source": [
        "modified_survey_2022"
      ]
    },
    {
      "cell_type": "code",
      "execution_count": null,
      "metadata": {
        "id": "lS1uQSuXAZUh"
      },
      "outputs": [],
      "source": [
        "modified_survey_2022.columns"
      ]
    },
    {
      "cell_type": "code",
      "execution_count": null,
      "metadata": {
        "id": "Shr0b0y9AZUh"
      },
      "outputs": [],
      "source": [
        "modified_survey_2022.iloc[:,-1]"
      ]
    },
    {
      "cell_type": "code",
      "execution_count": null,
      "metadata": {
        "id": "JIDyoDzCAZUh"
      },
      "outputs": [],
      "source": [
        "int(modified_survey_2022.iloc[:,-1].max())"
      ]
    },
    {
      "cell_type": "code",
      "execution_count": null,
      "metadata": {
        "id": "JH60mGbGAZUh"
      },
      "outputs": [],
      "source": [
        "ar = np.arange(0, int(modified_survey_2022.iloc[:,-1].max()) + 10000, 10000)"
      ]
    },
    {
      "cell_type": "code",
      "execution_count": null,
      "metadata": {
        "id": "U6QjtlqfAZUh"
      },
      "outputs": [],
      "source": [
        "len(ar)"
      ]
    },
    {
      "cell_type": "code",
      "execution_count": null,
      "metadata": {
        "id": "SaVxvexNAZUi"
      },
      "outputs": [],
      "source": [
        "def func(x, y):\n",
        "    for i in range(len(x)):\n",
        "        if(y <= x[i]):\n",
        "            return i"
      ]
    },
    {
      "cell_type": "code",
      "execution_count": null,
      "metadata": {
        "id": "G1Ry6deKAZUi"
      },
      "outputs": [],
      "source": [
        "modified_survey_2022.iloc[:, -1].apply(lambda x :func(ar, x))"
      ]
    },
    {
      "cell_type": "code",
      "execution_count": null,
      "metadata": {
        "id": "Vmr-8WnsAZUi"
      },
      "outputs": [],
      "source": [
        "modified_survey_2022.iloc[:,1:-1][\"MainBranch\"].unique()"
      ]
    },
    {
      "cell_type": "code",
      "execution_count": null,
      "metadata": {
        "id": "6c357ybqAZUi"
      },
      "outputs": [],
      "source": [
        "modified_survey_2022.iloc[:,1:-1].columns"
      ]
    },
    {
      "cell_type": "code",
      "execution_count": null,
      "metadata": {
        "id": "uWT75qZ_AZUi"
      },
      "outputs": [],
      "source": [
        "modified_survey_2022.iloc[:,1:-1][\"EdLevel\"].unique()"
      ]
    },
    {
      "cell_type": "code",
      "execution_count": null,
      "metadata": {
        "id": "uVt9eDkMAZUi"
      },
      "outputs": [],
      "source": [
        "eddict = {'Bachelor’s degree (B.A., B.S., B.Eng., etc.)' : 4,'Master’s degree (M.A., M.S., M.Eng., MBA, etc.)' : 5, \n",
        "'Primary/elementary school' : 0, \n",
        "'Secondary school (e.g. American high school, German Realschule or Gymnasium, etc.)' : 1,\n",
        "'Some college/university study without earning a degree' : 3, 'Associate degree (A.A., A.S., etc.)' : 2,\n",
        "'Professional degree (JD, MD, etc.)' : 5, 'Other doctoral degree (Ph.D., Ed.D., etc.)' : 6,\n",
        "'Something else' : 7\n",
        "}"
      ]
    },
    {
      "cell_type": "code",
      "execution_count": null,
      "metadata": {
        "id": "gB5oMUqkAZUj"
      },
      "outputs": [],
      "source": []
    },
    {
      "cell_type": "code",
      "execution_count": null,
      "metadata": {
        "id": "KvC70zmUAZUj"
      },
      "outputs": [],
      "source": [
        "modified_survey_2022[\"EdLevel\"] = modified_survey_2022.iloc[:,1:-1][\"EdLevel\"].apply(lambda x : eddict[x] if x == x else np.nan)"
      ]
    },
    {
      "cell_type": "code",
      "execution_count": null,
      "metadata": {
        "id": "6khw1UshAZUj"
      },
      "outputs": [],
      "source": [
        "modified_survey_2022['YearsCode'].unique()"
      ]
    },
    {
      "cell_type": "code",
      "execution_count": null,
      "metadata": {
        "id": "bFMQ2Am0AZUj"
      },
      "outputs": [],
      "source": [
        "def strTonum(x):\n",
        "    if(x != x):\n",
        "        return x\n",
        "        \n",
        "    return int(re.findall(r'\\d+', x)[0])"
      ]
    },
    {
      "cell_type": "code",
      "execution_count": null,
      "metadata": {
        "id": "ldYqxjKuAZUj"
      },
      "outputs": [],
      "source": [
        "re.findall(r'\\d+', '5')"
      ]
    },
    {
      "cell_type": "code",
      "execution_count": null,
      "metadata": {
        "id": "qzWt1s9LAZUj"
      },
      "outputs": [],
      "source": [
        "modified_survey_2022[\"YearsCode\"].apply(strTonum)"
      ]
    },
    {
      "cell_type": "code",
      "execution_count": null,
      "metadata": {
        "id": "PrzKfUF7AZUj"
      },
      "outputs": [],
      "source": [
        "modified_survey_2022[\"YearsCode\"] = modified_survey_2022[\"YearsCode\"].apply(strTonum)"
      ]
    },
    {
      "cell_type": "code",
      "execution_count": null,
      "metadata": {
        "id": "gyQvLij5AZUk"
      },
      "outputs": [],
      "source": [
        "modified_survey_2022[[\"YearsCode\", \"EdLevel\"]]"
      ]
    },
    {
      "cell_type": "code",
      "execution_count": null,
      "metadata": {
        "id": "t2nG8-nNAZUk"
      },
      "outputs": [],
      "source": [
        "X_train, X_test, y_train, y_test = train_test_split(modified_survey_2022[[\"YearsCode\", \"EdLevel\"]], modified_survey_2022.iloc[:, -1].apply(lambda x :func(ar, x)), test_size=0.33, random_state=42)"
      ]
    },
    {
      "cell_type": "code",
      "execution_count": null,
      "metadata": {
        "id": "9r5iJsxXAZUk"
      },
      "outputs": [],
      "source": [
        "X_train"
      ]
    },
    {
      "cell_type": "code",
      "execution_count": null,
      "metadata": {
        "id": "KMTp2rWbAZUk"
      },
      "outputs": [],
      "source": [
        "X_train.isna().sum()"
      ]
    },
    {
      "cell_type": "code",
      "execution_count": null,
      "metadata": {
        "id": "EQYZ6KipAZUk"
      },
      "outputs": [],
      "source": [
        "y_train.isna().sum()"
      ]
    },
    {
      "cell_type": "code",
      "execution_count": null,
      "metadata": {
        "id": "_LPVl4oHAZUk"
      },
      "outputs": [],
      "source": [
        "X_train.shape"
      ]
    },
    {
      "cell_type": "code",
      "execution_count": null,
      "metadata": {
        "id": "tVKVM-P1AZUk"
      },
      "outputs": [],
      "source": [
        "y_train.shape"
      ]
    },
    {
      "cell_type": "code",
      "execution_count": null,
      "metadata": {
        "id": "Ei_6Xk3eAZUl"
      },
      "outputs": [],
      "source": [
        "X_train[\"YearsCode\"] = X_train[\"YearsCode\"].apply(lambda x : X_train[\"YearsCode\"].median() if x != x else x)"
      ]
    },
    {
      "cell_type": "code",
      "execution_count": null,
      "metadata": {
        "id": "CBS3BAJfAZUl"
      },
      "outputs": [],
      "source": [
        "X_train[\"EdLevel\"].index[X_train[\"EdLevel\"].isna()]"
      ]
    },
    {
      "cell_type": "code",
      "execution_count": null,
      "metadata": {
        "id": "U1ENmQqbAZUl"
      },
      "outputs": [],
      "source": [
        "X_train, y_train = X_train.drop(27083, axis=0), y_train.drop(27083, axis=0)"
      ]
    },
    {
      "cell_type": "code",
      "execution_count": null,
      "metadata": {
        "id": "rDbJe7AZAZUl"
      },
      "outputs": [],
      "source": []
    },
    {
      "cell_type": "code",
      "execution_count": null,
      "metadata": {
        "id": "s-bDct4yAZUl"
      },
      "outputs": [],
      "source": [
        "dt = DecisionTreeClassifier()"
      ]
    },
    {
      "cell_type": "code",
      "execution_count": null,
      "metadata": {
        "id": "t8FoiTCkAZUl"
      },
      "outputs": [],
      "source": [
        "dt.fit(X_train, y_train)"
      ]
    },
    {
      "cell_type": "code",
      "execution_count": null,
      "metadata": {
        "id": "gcK1jyezAZUl"
      },
      "outputs": [],
      "source": [
        "dt.score(X_train, y_train)"
      ]
    }
  ],
  "metadata": {
    "kernelspec": {
      "display_name": "Python 3.8.12 ('base')",
      "language": "python",
      "name": "python3"
    },
    "language_info": {
      "codemirror_mode": {
        "name": "ipython",
        "version": 3
      },
      "file_extension": ".py",
      "mimetype": "text/x-python",
      "name": "python",
      "nbconvert_exporter": "python",
      "pygments_lexer": "ipython3",
      "version": "3.8.12"
    },
    "orig_nbformat": 4,
    "vscode": {
      "interpreter": {
        "hash": "49d1cf207c92197553c1326cc52484d1ee2809997f5109c15474876a3e083b6e"
      }
    },
    "colab": {
      "provenance": []
    }
  },
  "nbformat": 4,
  "nbformat_minor": 0
}