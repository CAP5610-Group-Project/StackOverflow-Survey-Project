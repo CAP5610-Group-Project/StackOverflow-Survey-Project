{
 "cells": [
  {
   "cell_type": "code",
   "execution_count": null,
   "metadata": {},
   "outputs": [],
   "source": [
    "import pandas as pd\n",
    "import numpy as np\n",
    "import matplotlib.pyplot as plt\n",
    "import seaborn as sns\n",
    "%matplotlib inline\n",
    "import missingno as msgno"
   ]
  },
  {
   "cell_type": "code",
   "execution_count": null,
   "metadata": {},
   "outputs": [],
   "source": [
    "survey_2022 = pd.read_csv(\"./stack-overflow-developer-survey-2022/survey_results_public.csv\")"
   ]
  },
  {
   "cell_type": "code",
   "execution_count": null,
   "metadata": {},
   "outputs": [],
   "source": [
    "survey_2022"
   ]
  },
  {
   "cell_type": "code",
   "execution_count": null,
   "metadata": {},
   "outputs": [],
   "source": [
    "\n",
    "msgno.matrix(survey_2022, labels=True, figsize=(70,20))\n",
    "plt.xticks(rotation = -80, horizontalalignment=\"center\")\n",
    "plt.tick_params(labelsize=20)\n",
    "plt.show()"
   ]
  },
  {
   "cell_type": "code",
   "execution_count": null,
   "metadata": {},
   "outputs": [],
   "source": [
    "msgno.bar(survey_2022)\n",
    "plt.yticks(horizontalalignment=\"center\")\n",
    "plt.tick_params(labelsize=20)"
   ]
  },
  {
   "cell_type": "code",
   "execution_count": null,
   "metadata": {},
   "outputs": [],
   "source": [
    "msgno.heatmap(survey_2022, figsize=(70,70))\n",
    "plt.xticks(rotation = 90, horizontalalignment=\"center\")\n",
    "\n",
    "plt.show()\n",
    "\n"
   ]
  },
  {
   "cell_type": "code",
   "execution_count": null,
   "metadata": {},
   "outputs": [],
   "source": [
    "survey_2022.select_dtypes(np.number).columns.size"
   ]
  },
  {
   "cell_type": "code",
   "execution_count": null,
   "metadata": {},
   "outputs": [],
   "source": [
    "survey_2022.select_dtypes(object).columns.size"
   ]
  },
  {
   "cell_type": "code",
   "execution_count": null,
   "metadata": {},
   "outputs": [],
   "source": [
    "survey_2022.describe()"
   ]
  },
  {
   "cell_type": "code",
   "execution_count": null,
   "metadata": {},
   "outputs": [],
   "source": [
    "100000"
   ]
  },
  {
   "cell_type": "code",
   "execution_count": null,
   "metadata": {},
   "outputs": [],
   "source": [
    "p = sns.displot(data = survey_2022, x = \"ConvertedCompYearly\", kind=\"kde\").fig.set_dpi(150)\n",
    "\n",
    "plt.show(p)"
   ]
  },
  {
   "cell_type": "code",
   "execution_count": null,
   "metadata": {},
   "outputs": [],
   "source": [
    "p = sns.displot(data = survey_2022, x = \"WorkExp\", kind=\"kde\").fig.set_dpi(150)\n",
    "\n",
    "plt.show(p)"
   ]
  },
  {
   "cell_type": "code",
   "execution_count": null,
   "metadata": {},
   "outputs": [],
   "source": [
    "plt.figure(dpi= 150)\n",
    "sns.boxplot(x = survey_2022[\"ConvertedCompYearly\"])\n",
    "plt.show()"
   ]
  },
  {
   "cell_type": "code",
   "execution_count": null,
   "metadata": {},
   "outputs": [],
   "source": [
    "plt.figure(dpi= 150)\n",
    "sns.boxplot(x = survey_2022[\"WorkExp\"])\n",
    "plt.show()"
   ]
  },
  {
   "cell_type": "code",
   "execution_count": null,
   "metadata": {},
   "outputs": [],
   "source": [
    "survey_2022.describe(include='object')"
   ]
  },
  {
   "cell_type": "code",
   "execution_count": null,
   "metadata": {},
   "outputs": [],
   "source": [
    "plt.figure(dpi= 150)\n",
    "sns.countplot(x = survey_2022[\"MainBranch\"])\n",
    "plt.xticks(rotation = -90)\n",
    "plt.show()"
   ]
  },
  {
   "cell_type": "code",
   "execution_count": null,
   "metadata": {},
   "outputs": [],
   "source": [
    "survey_2022[cat_cols].iloc[:,0].unique().size"
   ]
  },
  {
   "cell_type": "code",
   "execution_count": null,
   "metadata": {},
   "outputs": [],
   "source": [
    "cat_cols = list(survey_2022.select_dtypes(object).columns)\n",
    "cat_cols"
   ]
  },
  {
   "cell_type": "code",
   "execution_count": null,
   "metadata": {},
   "outputs": [],
   "source": [
    "count = 0\n",
    "for cat in cat_cols:\n",
    "    if(survey_2022[cat].unique().size < 70):\n",
    "        plt.figure(dpi= 150, figsize=(30, 10))\n",
    "        sns.countplot(x = survey_2022[cat])\n",
    "        plt.xticks(rotation = -90)\n",
    "        plt.show()\n",
    "        count += 1\n",
    "\n",
    "print(count)\n",
    "    "
   ]
  },
  {
   "cell_type": "code",
   "execution_count": null,
   "metadata": {},
   "outputs": [],
   "source": [
    "count = 0\n",
    "for cat in cat_cols:\n",
    "    if(survey_2022[cat].unique().size >= 70 and survey_2022[cat].unique().size < 350):\n",
    "        plt.figure(dpi= 150, figsize=(30, 10))\n",
    "        sns.countplot(x = survey_2022[cat])\n",
    "        plt.xticks(rotation = -90)\n",
    "        plt.show()\n",
    "        count += 1\n",
    "\n",
    "print(count)"
   ]
  },
  {
   "cell_type": "code",
   "execution_count": null,
   "metadata": {},
   "outputs": [],
   "source": []
  },
  {
   "cell_type": "code",
   "execution_count": null,
   "metadata": {},
   "outputs": [],
   "source": [
    "count = 0\n",
    "for cat in cat_cols:\n",
    "    if(survey_2022[cat].unique().size >= 350 and survey_2022[cat].unique().size < 1500):\n",
    "        plt.figure(dpi= 150, figsize=(30, 10))\n",
    "        sns.countplot(x = survey_2022[cat])\n",
    "        plt.xticks(rotation = -90)\n",
    "        plt.show()\n",
    "        count += 1\n",
    "\n",
    "print(count)"
   ]
  },
  {
   "cell_type": "code",
   "execution_count": null,
   "metadata": {},
   "outputs": [],
   "source": [
    "count = 0\n",
    "for cat in cat_cols:\n",
    "    if(survey_2022[cat].unique().size >= 1500 and survey_2022[cat].unique().size < 5500):\n",
    "        plt.figure(dpi= 150, figsize=(30, 10))\n",
    "        sns.countplot(x = survey_2022[cat])\n",
    "        plt.xticks(rotation = -90)\n",
    "        plt.show()\n",
    "        count += 1\n",
    "\n",
    "print(count)"
   ]
  },
  {
   "cell_type": "code",
   "execution_count": null,
   "metadata": {},
   "outputs": [],
   "source": [
    "count = 0\n",
    "for cat in cat_cols:\n",
    "    if(survey_2022[cat].unique().size >= 5500 and survey_2022[cat].unique().size < 7500):\n",
    "        plt.figure(dpi= 150, figsize=(30, 10))\n",
    "        sns.countplot(x = survey_2022[cat])\n",
    "        plt.xticks(rotation = -90)\n",
    "        plt.show()\n",
    "        count += 1\n",
    "\n",
    "print(count)"
   ]
  },
  {
   "cell_type": "code",
   "execution_count": null,
   "metadata": {},
   "outputs": [],
   "source": [
    "count = 0\n",
    "for cat in cat_cols:\n",
    "    if(survey_2022[cat].unique().size >= 7500 and survey_2022[cat].unique().size < 8500):\n",
    "        #plt.figure(dpi= 150, figsize=(30, 10))\n",
    "        plt.tick_params(axis='x', which='both', bottom=False, top=False,labelbottom=False)\n",
    "        sns.countplot(x = survey_2022[cat])\n",
    "        plt.xticks(rotation = -90)\n",
    "        plt.show()\n",
    "        count += 1\n",
    "\n",
    "print(count)\n"
   ]
  },
  {
   "cell_type": "code",
   "execution_count": null,
   "metadata": {},
   "outputs": [],
   "source": [
    "count = 0\n",
    "for cat in cat_cols:\n",
    "    if(survey_2022[cat].unique().size >= 8500 and survey_2022[cat].unique().size < 9500):\n",
    "        #plt.figure(dpi= 150, figsize=(30, 10))\n",
    "        plt.tick_params(axis='x', which='both', bottom=False, top=False,labelbottom=False)\n",
    "        sns.countplot(x = survey_2022[cat])\n",
    "        plt.xticks(rotation = -90)\n",
    "        plt.show()\n",
    "        count += 1\n",
    "\n",
    "print(count)"
   ]
  },
  {
   "cell_type": "code",
   "execution_count": null,
   "metadata": {},
   "outputs": [],
   "source": [
    "count = 0\n",
    "for cat in cat_cols:\n",
    "    if(survey_2022[cat].unique().size >= 9500 and survey_2022[cat].unique().size < 10500):\n",
    "        #plt.figure(dpi= 150, figsize=(30, 10))\n",
    "        plt.tick_params(axis='x', which='both', bottom=False, top=False,labelbottom=False)\n",
    "        sns.countplot(x = survey_2022[cat])\n",
    "        plt.xticks(rotation = -90)\n",
    "        plt.show()\n",
    "        count += 1\n",
    "\n",
    "print(count)"
   ]
  },
  {
   "cell_type": "code",
   "execution_count": null,
   "metadata": {},
   "outputs": [],
   "source": [
    "count = 0\n",
    "for cat in cat_cols:\n",
    "    if(survey_2022[cat].unique().size >= 10500 and survey_2022[cat].unique().size < 16500):\n",
    "        #plt.figure(dpi= 150, figsize=(30, 10))\n",
    "        plt.tick_params(axis='x', which='both', bottom=False, top=False,labelbottom=False)\n",
    "        sns.countplot(x = survey_2022[cat])\n",
    "        plt.xticks(rotation = -90)\n",
    "        plt.show()\n",
    "        count += 1\n",
    "\n",
    "print(count)"
   ]
  },
  {
   "cell_type": "code",
   "execution_count": null,
   "metadata": {},
   "outputs": [],
   "source": [
    "count = 0\n",
    "for cat in cat_cols:\n",
    "    if(survey_2022[cat].unique().size >= 16500 and survey_2022[cat].unique().size < 25500):\n",
    "        #plt.figure(dpi= 150, figsize=(30, 10))\n",
    "        plt.tick_params(axis='x', which='both', bottom=False, top=False,labelbottom=False)\n",
    "        sns.countplot(x = survey_2022[cat])\n",
    "        plt.xticks(rotation = -90)\n",
    "        plt.show()\n",
    "        count += 1\n",
    "\n",
    "print(count)"
   ]
  },
  {
   "cell_type": "code",
   "execution_count": null,
   "metadata": {},
   "outputs": [],
   "source": [
    "count = 0\n",
    "for cat in cat_cols:\n",
    "    if(survey_2022[cat].unique().size >= 25500):\n",
    "        #plt.figure(dpi= 150, figsize=(30, 10))\n",
    "        plt.tick_params(axis='x', which='both', bottom=False, top=False,labelbottom=False)\n",
    "        sns.countplot(x = survey_2022[cat])\n",
    "        plt.xticks(rotation = -90)\n",
    "        plt.show()\n",
    "        count += 1\n",
    "\n",
    "print(count)"
   ]
  },
  {
   "cell_type": "code",
   "execution_count": null,
   "metadata": {},
   "outputs": [],
   "source": [
    "survey_2022.select_dtypes(np.number)"
   ]
  },
  {
   "cell_type": "code",
   "execution_count": null,
   "metadata": {},
   "outputs": [],
   "source": [
    "survey_2022.describe()"
   ]
  },
  {
   "cell_type": "code",
   "execution_count": null,
   "metadata": {},
   "outputs": [],
   "source": [
    "q = survey_2022[\"ConvertedCompYearly\"].quantile(0.95)\n",
    "\n",
    "survey_2022[survey_2022[\"ConvertedCompYearly\"] < q]"
   ]
  },
  {
   "cell_type": "code",
   "execution_count": null,
   "metadata": {},
   "outputs": [],
   "source": [
    "sns.scatterplot(data=survey_2022[survey_2022[\"ConvertedCompYearly\"] < q], x= \"WorkExp\", y= \"ConvertedCompYearly\")\n",
    "plt.show()"
   ]
  },
  {
   "cell_type": "code",
   "execution_count": null,
   "metadata": {},
   "outputs": [],
   "source": [
    "survey_2022.select_dtypes(object)"
   ]
  },
  {
   "cell_type": "code",
   "execution_count": null,
   "metadata": {},
   "outputs": [],
   "source": [
    "q = survey_2022[\"ConvertedCompYearly\"].quantile(0.95)\n",
    "\n",
    "survey_2022[survey_2022[\"ConvertedCompYearly\"] < q]"
   ]
  },
  {
   "cell_type": "code",
   "execution_count": null,
   "metadata": {},
   "outputs": [],
   "source": [
    "sns.boxplot(data= survey_2022[survey_2022[\"ConvertedCompYearly\"] < q], x=\"ConvertedCompYearly\", y=\"EdLevel\")"
   ]
  },
  {
   "cell_type": "code",
   "execution_count": null,
   "metadata": {},
   "outputs": [],
   "source": [
    "survey_2022[\"YearsCodePro\"].sort_values().unique()"
   ]
  },
  {
   "cell_type": "code",
   "execution_count": null,
   "metadata": {},
   "outputs": [],
   "source": [
    "['Less than 1 year', '1', '2', '6', '7', '8', '9', '10', '11', '12', '13', '14', '15', '16', '17', '18', '19',\n",
    "       '20', '21', '22', '23', '24', '25', '26', '27', '28', '29',\n",
    "       '3', '30', '31', '32', '33', '34', '35', '36', '37', '38', '39',\n",
    "       '4', '40', '41', '42', '43', '44', '45', '46', '47', '48', '49',\n",
    "       '5', '50', ,\n",
    "       'More than 50 years']"
   ]
  },
  {
   "cell_type": "code",
   "execution_count": null,
   "metadata": {},
   "outputs": [],
   "source": [
    "use_order = np.append(np.append(np.array([\"Less than 1 year\"]), pd.Series(np.arange(1, 51)).apply(str).values), np.array(\"More than 50 years\"))\n",
    "use_order"
   ]
  },
  {
   "cell_type": "code",
   "execution_count": null,
   "metadata": {},
   "outputs": [],
   "source": [
    "plt.figure(figsize=(10, 30))\n",
    "sns.boxplot(data= survey_2022[survey_2022[\"ConvertedCompYearly\"] < q], x=\"ConvertedCompYearly\", y=\"YearsCodePro\", order=use_order)"
   ]
  }
 ],
 "metadata": {
  "kernelspec": {
   "display_name": "Python 3.9.7 ('tf-gpu')",
   "language": "python",
   "name": "python3"
  },
  "language_info": {
   "codemirror_mode": {
    "name": "ipython",
    "version": 3
   },
   "file_extension": ".py",
   "mimetype": "text/x-python",
   "name": "python",
   "nbconvert_exporter": "python",
   "pygments_lexer": "ipython3",
   "version": "3.9.7"
  },
  "orig_nbformat": 4,
  "vscode": {
   "interpreter": {
    "hash": "38bd4560307326feadfc74a2bb2a6bc7e5ca8cf4b0d19138419770a38e614785"
   }
  }
 },
 "nbformat": 4,
 "nbformat_minor": 2
}
