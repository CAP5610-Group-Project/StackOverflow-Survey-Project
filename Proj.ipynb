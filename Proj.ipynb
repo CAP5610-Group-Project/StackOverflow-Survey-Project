{
  "cells": [
    {
      "cell_type": "code",
      "execution_count": null,
      "metadata": {
        "id": "qtUDSClYwDow"
      },
      "outputs": [],
      "source": [
        "#@title\n",
        "import pandas as pd\n",
        "import numpy as np\n",
        "import matplotlib.pyplot as plt\n",
        "import seaborn as sns\n",
        "%matplotlib inline\n",
        "import missingno as msgno\n",
        "import sklearn as skl\n",
        "import tensorflow as tf\n",
        "from sklearn.tree import DecisionTreeRegressor\n",
        "from sklearn.tree import DecisionTreeClassifier\n",
        "from sklearn.model_selection import train_test_split"
      ]
    },
    {
      "cell_type": "code",
      "execution_count": null,
      "metadata": {
        "collapsed": true,
        "id": "dFQSN5LFwDoz"
      },
      "outputs": [],
      "source": [
        "import matplotlib\n",
        "matplotlib.__version__"
      ]
    },
    {
      "cell_type": "code",
      "execution_count": null,
      "metadata": {
        "id": "4qNSy8qLwDo0"
      },
      "outputs": [],
      "source": [
        "survey_2022 = pd.read_csv(\"D:/oldesktop/CAP5610/Project/stack-overflow-developer-survey-2022/survey_results_public.csv\")"
      ]
    },
    {
      "cell_type": "code",
      "execution_count": null,
      "metadata": {
        "collapsed": true,
        "id": "0Skzq5wQwDo1"
      },
      "outputs": [],
      "source": [
        "survey_2022"
      ]
    },
    {
      "cell_type": "code",
      "execution_count": null,
      "metadata": {
        "collapsed": true,
        "id": "aXWMhMRnwDo1"
      },
      "outputs": [],
      "source": [
        "\n",
        "msgno.matrix(survey_2022, labels=True, figsize=(70,20))\n",
        "plt.xticks(rotation = -80, horizontalalignment=\"center\")\n",
        "plt.tick_params(labelsize=20)\n",
        "plt.show()"
      ]
    },
    {
      "cell_type": "code",
      "execution_count": null,
      "metadata": {
        "collapsed": true,
        "id": "G0BljE7NwDo2"
      },
      "outputs": [],
      "source": [
        "msgno.bar(survey_2022, figsize=(10,30))\n",
        "plt.yticks(horizontalalignment=\"center\")\n",
        "plt.tick_params(labelsize=20)\n",
        "plt.show()"
      ]
    },
    {
      "cell_type": "code",
      "execution_count": null,
      "metadata": {
        "collapsed": true,
        "id": "c4T3xslTwDo2"
      },
      "outputs": [],
      "source": [
        "msgno.heatmap(survey_2022, figsize=(70,70))\n",
        "plt.xticks(rotation = 90, horizontalalignment=\"center\")\n",
        "\n",
        "plt.show()\n",
        "\n"
      ]
    },
    {
      "cell_type": "code",
      "execution_count": null,
      "metadata": {
        "collapsed": true,
        "id": "3YHkIlrBwDo3"
      },
      "outputs": [],
      "source": [
        "survey_2022.select_dtypes(np.number).columns.size"
      ]
    },
    {
      "cell_type": "code",
      "execution_count": null,
      "metadata": {
        "collapsed": true,
        "id": "3tiIu-bGwDo4"
      },
      "outputs": [],
      "source": [
        "survey_2022.select_dtypes(object).columns.size"
      ]
    },
    {
      "cell_type": "code",
      "execution_count": null,
      "metadata": {
        "collapsed": true,
        "id": "3aDFp7pTwDo4"
      },
      "outputs": [],
      "source": [
        "survey_2022.describe()"
      ]
    },
    {
      "cell_type": "code",
      "execution_count": null,
      "metadata": {
        "collapsed": true,
        "id": "BCZptqGIwDo5"
      },
      "outputs": [],
      "source": [
        "100000"
      ]
    },
    {
      "cell_type": "code",
      "execution_count": null,
      "metadata": {
        "collapsed": true,
        "id": "VwrsUKTrwDo5"
      },
      "outputs": [],
      "source": [
        "p = sns.displot(data = survey_2022, x = \"ConvertedCompYearly\", kind=\"kde\").fig.set_dpi(150)\n",
        "\n",
        "plt.show(p)"
      ]
    },
    {
      "cell_type": "code",
      "execution_count": null,
      "metadata": {
        "collapsed": true,
        "id": "LXDHDxZVwDo6"
      },
      "outputs": [],
      "source": [
        "p = sns.displot(data = survey_2022, x = \"WorkExp\", kind=\"kde\").fig.set_dpi(150)\n",
        "\n",
        "plt.show(p)"
      ]
    },
    {
      "cell_type": "code",
      "execution_count": null,
      "metadata": {
        "collapsed": true,
        "id": "gfU7shtlwDo6"
      },
      "outputs": [],
      "source": [
        "plt.figure(dpi= 150)\n",
        "sns.boxplot(x = survey_2022[\"ConvertedCompYearly\"])\n",
        "plt.show()"
      ]
    },
    {
      "cell_type": "code",
      "execution_count": null,
      "metadata": {
        "collapsed": true,
        "id": "lVlEUpG_wDo6"
      },
      "outputs": [],
      "source": [
        "plt.figure(dpi= 150)\n",
        "sns.boxplot(x = survey_2022[\"WorkExp\"])\n",
        "plt.show()"
      ]
    },
    {
      "cell_type": "code",
      "execution_count": null,
      "metadata": {
        "collapsed": true,
        "id": "ZMmk7LGvwDo7"
      },
      "outputs": [],
      "source": [
        "survey_2022.describe(include='object')"
      ]
    },
    {
      "cell_type": "code",
      "execution_count": null,
      "metadata": {
        "collapsed": true,
        "id": "Owj_EtphwDo7"
      },
      "outputs": [],
      "source": [
        "plt.figure(dpi= 150)\n",
        "sns.countplot(x = survey_2022[\"MainBranch\"])\n",
        "plt.xticks(rotation = -90)\n",
        "plt.show()"
      ]
    },
    {
      "cell_type": "code",
      "execution_count": null,
      "metadata": {
        "id": "NJWrjWfFwDo7"
      },
      "outputs": [],
      "source": []
    },
    {
      "cell_type": "code",
      "execution_count": null,
      "metadata": {
        "collapsed": true,
        "id": "i1kPACLSwDo7"
      },
      "outputs": [],
      "source": [
        "cat_cols = list(survey_2022.select_dtypes(object).columns)\n",
        "cat_cols"
      ]
    },
    {
      "cell_type": "code",
      "execution_count": null,
      "metadata": {
        "collapsed": true,
        "id": "MWwrDrcgwDo7"
      },
      "outputs": [],
      "source": [
        "survey_2022[cat_cols].iloc[:,0].unique().size"
      ]
    },
    {
      "cell_type": "code",
      "execution_count": null,
      "metadata": {
        "collapsed": true,
        "id": "-5GOOdjuwDo8"
      },
      "outputs": [],
      "source": [
        "count = 0\n",
        "for cat in cat_cols:\n",
        "    if(survey_2022[cat].unique().size < 70):\n",
        "        plt.figure(dpi= 150, figsize=(30, 10))\n",
        "        sns.countplot(x = survey_2022[cat])\n",
        "        plt.xticks(rotation = -90)\n",
        "        plt.show()\n",
        "        count += 1\n",
        "\n",
        "print(count)\n",
        "    "
      ]
    },
    {
      "cell_type": "code",
      "execution_count": null,
      "metadata": {
        "collapsed": true,
        "id": "SymvX_PZwDo8"
      },
      "outputs": [],
      "source": [
        "count = 0\n",
        "for cat in cat_cols:\n",
        "    if(survey_2022[cat].unique().size >= 70 and survey_2022[cat].unique().size < 350):\n",
        "        plt.figure(dpi= 150, figsize=(30, 10))\n",
        "        sns.countplot(x = survey_2022[cat])\n",
        "        plt.xticks(rotation = -90)\n",
        "        plt.show()\n",
        "        count += 1\n",
        "\n",
        "print(count)"
      ]
    },
    {
      "cell_type": "code",
      "execution_count": null,
      "metadata": {
        "collapsed": true,
        "id": "2zm0igQ2wDo8"
      },
      "outputs": [],
      "source": [
        "print(\"hi\")"
      ]
    },
    {
      "cell_type": "code",
      "execution_count": null,
      "metadata": {
        "collapsed": true,
        "id": "TDjKU0NdwDo9"
      },
      "outputs": [],
      "source": [
        "count = 0\n",
        "for cat in cat_cols:\n",
        "    if(survey_2022[cat].unique().size >= 350 and survey_2022[cat].unique().size < 1500):\n",
        "        plt.figure(dpi= 150, figsize=(30, 10))\n",
        "        sns.countplot(x = survey_2022[cat])\n",
        "        plt.xticks(rotation = -90)\n",
        "        plt.show()\n",
        "        count += 1\n",
        "\n",
        "print(count)"
      ]
    },
    {
      "cell_type": "code",
      "execution_count": null,
      "metadata": {
        "collapsed": true,
        "id": "JNNx4dI_wDo9"
      },
      "outputs": [],
      "source": [
        "count = 0\n",
        "for cat in cat_cols:\n",
        "    if(survey_2022[cat].unique().size >= 1500 and survey_2022[cat].unique().size < 5500):\n",
        "        plt.figure(dpi= 150, figsize=(30, 10))\n",
        "        sns.countplot(x = survey_2022[cat])\n",
        "        plt.xticks(rotation = -90)\n",
        "        plt.show()\n",
        "        count += 1\n",
        "\n",
        "print(count)"
      ]
    },
    {
      "cell_type": "code",
      "execution_count": null,
      "metadata": {
        "collapsed": true,
        "id": "bEcsfv1_wDo9"
      },
      "outputs": [],
      "source": [
        "count = 0\n",
        "for cat in cat_cols:\n",
        "    if(survey_2022[cat].unique().size >= 5500 and survey_2022[cat].unique().size < 7500):\n",
        "        plt.figure(dpi= 150, figsize=(30, 10))\n",
        "        sns.countplot(x = survey_2022[cat])\n",
        "        plt.xticks(rotation = -90)\n",
        "        plt.show()\n",
        "        count += 1\n",
        "\n",
        "print(count)"
      ]
    },
    {
      "cell_type": "code",
      "execution_count": null,
      "metadata": {
        "collapsed": true,
        "id": "RWxuAWRDwDo9"
      },
      "outputs": [],
      "source": [
        "count = 0\n",
        "for cat in cat_cols:\n",
        "    if(survey_2022[cat].unique().size >= 7500 and survey_2022[cat].unique().size < 8500):\n",
        "        #plt.figure(dpi= 150, figsize=(30, 10))\n",
        "        plt.tick_params(axis='x', which='both', bottom=False, top=False,labelbottom=False)\n",
        "        sns.countplot(x = survey_2022[cat])\n",
        "        plt.xticks(rotation = -90)\n",
        "        plt.show()\n",
        "        count += 1\n",
        "\n",
        "print(count)\n"
      ]
    },
    {
      "cell_type": "code",
      "execution_count": null,
      "metadata": {
        "collapsed": true,
        "id": "ABgLmm1kwDo-"
      },
      "outputs": [],
      "source": [
        "count = 0\n",
        "for cat in cat_cols:\n",
        "    if(survey_2022[cat].unique().size >= 8500 and survey_2022[cat].unique().size < 9500):\n",
        "        #plt.figure(dpi= 150, figsize=(30, 10))\n",
        "        plt.tick_params(axis='x', which='both', bottom=False, top=False,labelbottom=False)\n",
        "        sns.countplot(x = survey_2022[cat])\n",
        "        plt.xticks(rotation = -90)\n",
        "        plt.show()\n",
        "        count += 1\n",
        "\n",
        "print(count)"
      ]
    },
    {
      "cell_type": "code",
      "execution_count": null,
      "metadata": {
        "collapsed": true,
        "id": "9cgVvBXXwDo-"
      },
      "outputs": [],
      "source": [
        "count = 0\n",
        "for cat in cat_cols:\n",
        "    if(survey_2022[cat].unique().size >= 9500 and survey_2022[cat].unique().size < 10500):\n",
        "        #plt.figure(dpi= 150, figsize=(30, 10))\n",
        "        plt.tick_params(axis='x', which='both', bottom=False, top=False,labelbottom=False)\n",
        "        sns.countplot(x = survey_2022[cat])\n",
        "        plt.xticks(rotation = -90)\n",
        "        plt.show()\n",
        "        count += 1\n",
        "\n",
        "print(count)"
      ]
    },
    {
      "cell_type": "code",
      "execution_count": null,
      "metadata": {
        "collapsed": true,
        "id": "Bkpsm2-ewDo-"
      },
      "outputs": [],
      "source": [
        "count = 0\n",
        "for cat in cat_cols:\n",
        "    if(survey_2022[cat].unique().size >= 10500 and survey_2022[cat].unique().size < 16500):\n",
        "        #plt.figure(dpi= 150, figsize=(30, 10))\n",
        "        plt.tick_params(axis='x', which='both', bottom=False, top=False,labelbottom=False)\n",
        "        sns.countplot(x = survey_2022[cat])\n",
        "        plt.xticks(rotation = -90)\n",
        "        plt.show()\n",
        "        count += 1\n",
        "\n",
        "print(count)"
      ]
    },
    {
      "cell_type": "code",
      "execution_count": null,
      "metadata": {
        "collapsed": true,
        "id": "HfagjgCVwDo_"
      },
      "outputs": [],
      "source": [
        "count = 0\n",
        "for cat in cat_cols:\n",
        "    if(survey_2022[cat].unique().size >= 16500 and survey_2022[cat].unique().size < 25500):\n",
        "        #plt.figure(dpi= 150, figsize=(30, 10))\n",
        "        plt.tick_params(axis='x', which='both', bottom=False, top=False,labelbottom=False)\n",
        "        sns.countplot(x = survey_2022[cat])\n",
        "        plt.xticks(rotation = -90)\n",
        "        plt.show()\n",
        "        count += 1\n",
        "\n",
        "print(count)"
      ]
    },
    {
      "cell_type": "code",
      "execution_count": null,
      "metadata": {
        "collapsed": true,
        "id": "9UDNixmswDo_"
      },
      "outputs": [],
      "source": [
        "count = 0\n",
        "for cat in cat_cols:\n",
        "    if(survey_2022[cat].unique().size >= 25500):\n",
        "        #plt.figure(dpi= 150, figsize=(30, 10))\n",
        "        plt.tick_params(axis='x', which='both', bottom=False, top=False,labelbottom=False)\n",
        "        sns.countplot(x = survey_2022[cat])\n",
        "        plt.xticks(rotation = -90)\n",
        "        plt.show()\n",
        "        count += 1\n",
        "\n",
        "print(count)"
      ]
    },
    {
      "cell_type": "code",
      "execution_count": null,
      "metadata": {
        "collapsed": true,
        "id": "ed_XTLkvwDo_"
      },
      "outputs": [],
      "source": [
        "survey_2022.select_dtypes(np.number)"
      ]
    },
    {
      "cell_type": "code",
      "execution_count": null,
      "metadata": {
        "collapsed": true,
        "id": "3sl64Y7IwDo_"
      },
      "outputs": [],
      "source": [
        "survey_2022.describe()"
      ]
    },
    {
      "cell_type": "code",
      "execution_count": null,
      "metadata": {
        "collapsed": true,
        "id": "4xePd5rzwDo_"
      },
      "outputs": [],
      "source": [
        "q = survey_2022[\"ConvertedCompYearly\"].quantile(0.95)\n",
        "\n",
        "survey_2022[survey_2022[\"ConvertedCompYearly\"] < q]"
      ]
    },
    {
      "cell_type": "code",
      "execution_count": null,
      "metadata": {
        "collapsed": true,
        "id": "-neqmbMwwDo_"
      },
      "outputs": [],
      "source": [
        "sns.scatterplot(data=survey_2022[survey_2022[\"ConvertedCompYearly\"] < q], x= \"WorkExp\", y= \"ConvertedCompYearly\")\n",
        "plt.show()"
      ]
    },
    {
      "cell_type": "code",
      "execution_count": null,
      "metadata": {
        "collapsed": true,
        "id": "Fsy__barwDpA"
      },
      "outputs": [],
      "source": [
        "survey_2022.select_dtypes(object)"
      ]
    },
    {
      "cell_type": "code",
      "execution_count": null,
      "metadata": {
        "collapsed": true,
        "id": "q2eCsAAewDpA"
      },
      "outputs": [],
      "source": [
        "q = survey_2022[\"ConvertedCompYearly\"].quantile(0.95)\n",
        "\n",
        "survey_2022[survey_2022[\"ConvertedCompYearly\"] < q]"
      ]
    },
    {
      "cell_type": "code",
      "execution_count": null,
      "metadata": {
        "collapsed": true,
        "id": "tq4Nb_jKwDpA"
      },
      "outputs": [],
      "source": [
        "sns.boxplot(data= survey_2022[survey_2022[\"ConvertedCompYearly\"] < q], x=\"ConvertedCompYearly\", y=\"EdLevel\")"
      ]
    },
    {
      "cell_type": "code",
      "execution_count": null,
      "metadata": {
        "collapsed": true,
        "id": "qlJQNgY4wDpA"
      },
      "outputs": [],
      "source": [
        "survey_2022[\"YearsCodePro\"].sort_values().unique()"
      ]
    },
    {
      "cell_type": "code",
      "execution_count": null,
      "metadata": {
        "collapsed": true,
        "id": "_m-1J_B3wDpA"
      },
      "outputs": [],
      "source": [
        "['Less than 1 year', '1', '2', '6', '7', '8', '9', '10', '11', '12', '13', '14', '15', '16', '17', '18', '19',\n",
        "       '20', '21', '22', '23', '24', '25', '26', '27', '28', '29',\n",
        "       '3', '30', '31', '32', '33', '34', '35', '36', '37', '38', '39',\n",
        "       '4', '40', '41', '42', '43', '44', '45', '46', '47', '48', '49',\n",
        "       '5', '50', \n",
        "       'More than 50 years']"
      ]
    },
    {
      "cell_type": "code",
      "execution_count": null,
      "metadata": {
        "collapsed": true,
        "id": "RfonUanMwDpB"
      },
      "outputs": [],
      "source": [
        "use_order = np.append(np.append(np.array([\"Less than 1 year\"]), pd.Series(np.arange(1, 51)).apply(str).values), np.array(\"More than 50 years\"))\n",
        "use_order"
      ]
    },
    {
      "cell_type": "code",
      "execution_count": null,
      "metadata": {
        "collapsed": true,
        "id": "E88wNeAnwDpB"
      },
      "outputs": [],
      "source": [
        "plt.figure(figsize=(10, 30))\n",
        "sns.boxplot(data= survey_2022[survey_2022[\"ConvertedCompYearly\"] < q], x=\"ConvertedCompYearly\", y=\"YearsCodePro\", order=use_order)"
      ]
    },
    {
      "cell_type": "code",
      "execution_count": null,
      "metadata": {
        "id": "iH0cQzZCwDpB"
      },
      "outputs": [],
      "source": [
        "order = survey_2022[survey_2022[\"ConvertedCompYearly\"] < q].groupby([\"Employment\"]).median()[\"ConvertedCompYearly\"].sort_values().index"
      ]
    },
    {
      "cell_type": "code",
      "execution_count": null,
      "metadata": {
        "collapsed": true,
        "id": "kwXs413iwDpB"
      },
      "outputs": [],
      "source": [
        "survey_2022[survey_2022[\"ConvertedCompYearly\"] < q].groupby([\"Employment\"]).median()[\"ConvertedCompYearly\"].sort_values()[:13]"
      ]
    },
    {
      "cell_type": "code",
      "execution_count": null,
      "metadata": {
        "collapsed": true,
        "id": "T1A8PAxmwDpB"
      },
      "outputs": [],
      "source": [
        "order[:12]"
      ]
    },
    {
      "cell_type": "code",
      "execution_count": null,
      "metadata": {
        "collapsed": true,
        "id": "S2xUbv4AwDpB"
      },
      "outputs": [],
      "source": [
        "plt.figure(figsize=(10, 30))\n",
        "sns.boxplot(data= survey_2022[survey_2022[\"ConvertedCompYearly\"] < q], x=\"ConvertedCompYearly\", y=\"Employment\", order=order[:13])"
      ]
    },
    {
      "cell_type": "code",
      "execution_count": null,
      "metadata": {
        "id": "b4Uv5U8KwDpC"
      },
      "outputs": [],
      "source": [
        "order = survey_2022[survey_2022[\"ConvertedCompYearly\"] < q].groupby([\"MainBranch\"]).median()[\"ConvertedCompYearly\"].sort_values().index"
      ]
    },
    {
      "cell_type": "code",
      "execution_count": null,
      "metadata": {
        "collapsed": true,
        "id": "652OxkQgwDpC"
      },
      "outputs": [],
      "source": [
        "order"
      ]
    },
    {
      "cell_type": "code",
      "execution_count": null,
      "metadata": {
        "collapsed": true,
        "id": "a_h_0icKwDpC"
      },
      "outputs": [],
      "source": [
        "plt.figure(figsize=(10, 30))\n",
        "sns.boxplot(data= survey_2022[survey_2022[\"ConvertedCompYearly\"] < q], x=\"ConvertedCompYearly\", y=\"MainBranch\", order=order)"
      ]
    },
    {
      "cell_type": "code",
      "execution_count": null,
      "metadata": {
        "collapsed": true,
        "id": "mBujJohUwDpC"
      },
      "outputs": [],
      "source": [
        "survey_2022.select_dtypes(object).columns"
      ]
    },
    {
      "cell_type": "code",
      "execution_count": null,
      "metadata": {
        "collapsed": true,
        "id": "pBv2cwAswDpC"
      },
      "outputs": [],
      "source": [
        "count = 0\n",
        "for cat in cat_cols:\n",
        "    if(survey_2022[cat].unique().size < 70):\n",
        "        plt.figure(dpi= 150, figsize=(30, 10))\n",
        "        order = survey_2022[survey_2022[\"ConvertedCompYearly\"] < q].groupby([cat]).median()[\"ConvertedCompYearly\"].sort_values().index\n",
        "        sns.boxplot(data= survey_2022[survey_2022[\"ConvertedCompYearly\"] < q], x=\"ConvertedCompYearly\", y=cat, order=order)\n",
        "        plt.xticks(rotation = -90)\n",
        "        plt.show()\n",
        "        count += 1\n",
        "\n",
        "print(count)"
      ]
    },
    {
      "cell_type": "code",
      "execution_count": null,
      "metadata": {
        "collapsed": true,
        "id": "2ZiO2OpJwDpD"
      },
      "outputs": [],
      "source": [
        "count = 0\n",
        "for cat in cat_cols:\n",
        "    if(survey_2022[cat].unique().size >= 70 and survey_2022[cat].unique().size < 350):\n",
        "        plt.figure(dpi= 150, figsize=(10, 40))\n",
        "        order = survey_2022[survey_2022[\"ConvertedCompYearly\"] < q].groupby([cat]).median()[\"ConvertedCompYearly\"].sort_values().index\n",
        "        sns.boxplot(data= survey_2022[survey_2022[\"ConvertedCompYearly\"] < q], x=\"ConvertedCompYearly\", y=cat, order=order)\n",
        "        plt.xticks(rotation = -90)\n",
        "        plt.show()\n",
        "        count += 1\n",
        "\n",
        "print(count)"
      ]
    },
    {
      "cell_type": "code",
      "execution_count": null,
      "metadata": {
        "collapsed": true,
        "id": "T1ks_tRNwDpD"
      },
      "outputs": [],
      "source": [
        "count = 0\n",
        "for cat in cat_cols:\n",
        "    if(survey_2022[cat].unique().size >= 350 and survey_2022[cat].unique().size < 1500):\n",
        "        plt.figure(dpi= 150, figsize=(10, 100))\n",
        "        order = survey_2022[survey_2022[\"ConvertedCompYearly\"] < q].groupby([cat]).median()[\"ConvertedCompYearly\"].sort_values().index\n",
        "        sns.boxplot(data= survey_2022[survey_2022[\"ConvertedCompYearly\"] < q], x=\"ConvertedCompYearly\", y=cat, order=order)\n",
        "        plt.xticks(rotation = -90)\n",
        "        plt.show()\n",
        "        count += 1\n",
        "\n",
        "print(count)"
      ]
    },
    {
      "cell_type": "code",
      "execution_count": null,
      "metadata": {
        "collapsed": true,
        "id": "mV_BZQ6lwDpD"
      },
      "outputs": [],
      "source": [
        "survey_2022"
      ]
    },
    {
      "cell_type": "code",
      "execution_count": null,
      "metadata": {
        "collapsed": true,
        "id": "PTEskQoRwDpD"
      },
      "outputs": [],
      "source": [
        "msgno.matrix(survey_2022, labels=True, figsize=(70,20))\n",
        "plt.xticks(rotation = -80, horizontalalignment=\"center\")\n",
        "plt.tick_params(labelsize=20)\n",
        "plt.show()"
      ]
    },
    {
      "cell_type": "code",
      "execution_count": null,
      "metadata": {
        "collapsed": true,
        "id": "2wIO7E3iwDpD"
      },
      "outputs": [],
      "source": [
        "msgno.bar(survey_2022)\n",
        "plt.yticks(horizontalalignment=\"center\")\n",
        "plt.tick_params(labelsize=20)"
      ]
    },
    {
      "cell_type": "code",
      "execution_count": null,
      "metadata": {
        "collapsed": true,
        "id": "01OUjx23wDpE"
      },
      "outputs": [],
      "source": [
        "survey_2022.notna().sum().sort_values()"
      ]
    },
    {
      "cell_type": "code",
      "execution_count": null,
      "metadata": {
        "id": "3FHvNGRGwDpE"
      },
      "outputs": [],
      "source": [
        "survey_2022.drop([\"VCHostingPersonal use\", \"VCHostingProfessional use\"], axis=1, inplace=True)"
      ]
    },
    {
      "cell_type": "code",
      "execution_count": null,
      "metadata": {
        "collapsed": true,
        "id": "d9lW8PpjwDpE"
      },
      "outputs": [],
      "source": [
        "survey_2022.select_dtypes(np.number).corr()"
      ]
    },
    {
      "cell_type": "code",
      "execution_count": null,
      "metadata": {
        "collapsed": true,
        "id": "QekLvcMHwDpE"
      },
      "outputs": [],
      "source": [
        "survey_2022.select_dtypes(object).columns"
      ]
    },
    {
      "cell_type": "code",
      "execution_count": null,
      "metadata": {
        "id": "m_4AGXncwDpE"
      },
      "outputs": [],
      "source": [
        "survey_2022_yearly_comp = survey_2022[survey_2022[\"ConvertedCompYearly\"].notna()]"
      ]
    },
    {
      "cell_type": "code",
      "execution_count": null,
      "metadata": {
        "id": "UnzFI1AQwDpF"
      },
      "outputs": [],
      "source": []
    },
    {
      "cell_type": "code",
      "execution_count": null,
      "metadata": {
        "collapsed": true,
        "id": "PM8XvNJUwDpF"
      },
      "outputs": [],
      "source": [
        "plt.figure(figsize=(10, 30), dpi=150)\n",
        "plt.xticks(rotation = -90, horizontalalignment=\"center\")\n",
        "sns.countplot(data=survey_2022[survey_2022[\"ConvertedCompYearly\"] < q], x=\"Employment\", hue=\"Age\")"
      ]
    },
    {
      "cell_type": "code",
      "execution_count": null,
      "metadata": {
        "collapsed": true,
        "id": "nqeAJQ-dwDpF"
      },
      "outputs": [],
      "source": [
        "plt.figure(figsize=(10, 30), dpi=150)\n",
        "plt.xticks(rotation = -90, horizontalalignment=\"center\")\n",
        "sns.countplot(data=survey_2022[survey_2022[\"ConvertedCompYearly\"] < q], x=\"Sexuality\", hue=\"Trans\")"
      ]
    },
    {
      "cell_type": "code",
      "execution_count": null,
      "metadata": {
        "collapsed": true,
        "id": "d3ExaBzhwDpF"
      },
      "outputs": [],
      "source": [
        "survey_2022[\"DevType\"].value_counts()"
      ]
    },
    {
      "cell_type": "code",
      "execution_count": null,
      "metadata": {
        "id": "YVN4ToGhwDpF"
      },
      "outputs": [],
      "source": [
        "too_litte = survey_2022[\"DevType\"].value_counts()[survey_2022[\"DevType\"].value_counts() > 10].index"
      ]
    },
    {
      "cell_type": "code",
      "execution_count": null,
      "metadata": {
        "collapsed": true,
        "id": "0FWuXTULwDpF"
      },
      "outputs": [],
      "source": [
        "survey_2022[survey_2022[\"DevType\"].apply(lambda x: x in too_litte)][\"DevType\"]"
      ]
    },
    {
      "cell_type": "code",
      "execution_count": null,
      "metadata": {
        "collapsed": true,
        "id": "fsmwn2ipwDpF"
      },
      "outputs": [],
      "source": [
        "survey_2022[(survey_2022[\"ConvertedCompYearly\"] < q) & (survey_2022[\"DevType\"].apply(lambda x: x in too_litte))][\"DevType\"].unique().size"
      ]
    },
    {
      "cell_type": "code",
      "execution_count": null,
      "metadata": {
        "id": "8B3z-FicwDpG"
      },
      "outputs": [],
      "source": [
        "#@title\n",
        "\n",
        "order = survey_2022[(survey_2022[\"ConvertedCompYearly\"] < q) & (survey_2022[\"DevType\"].apply(lambda x: x in too_litte))].groupby([\"DevType\"]).median()[\"ConvertedCompYearly\"].sort_values().index"
      ]
    },
    {
      "cell_type": "code",
      "execution_count": null,
      "metadata": {
        "collapsed": true,
        "id": "xnYAUEJFwDpG"
      },
      "outputs": [],
      "source": [
        "#@title\n",
        "plt.figure(dpi= 150, figsize=(20,70))\n",
        "sns.boxplot(data= survey_2022[(survey_2022[\"ConvertedCompYearly\"] < q) & (survey_2022[\"DevType\"].apply(lambda x: x in too_litte))], x=\"ConvertedCompYearly\", y=\"DevType\", order=order)\n",
        "plt.xticks(rotation = -90)\n",
        "plt.show()"
      ]
    },
    {
      "cell_type": "code",
      "execution_count": null,
      "metadata": {
        "id": "u0th0RZ-wDpG"
      },
      "outputs": [],
      "source": [
        "#@title\n",
        "modified_survey_2022 = survey_2022.copy()\n",
        "modified2_survey_2022 = survey_2022.copy()\n",
        "modified_combined_survey_2022 = survey_2022.copy()"
      ]
    },
    {
      "cell_type": "code",
      "execution_count": null,
      "metadata": {
        "id": "ecko8YjewDpG"
      },
      "outputs": [],
      "source": [
        "#@title\n",
        "modified_too_little = survey_2022[\"DevType\"].value_counts()[survey_2022[\"DevType\"].value_counts() > 10].index"
      ]
    },
    {
      "cell_type": "code",
      "execution_count": null,
      "metadata": {
        "collapsed": true,
        "id": "u4P22DhDwDpG"
      },
      "outputs": [],
      "source": [
        "#@title\n",
        "modified_survey_2022[modified_survey_2022[\"DevType\"].apply(lambda x: x in modified_too_little)].shape"
      ]
    },
    {
      "cell_type": "code",
      "execution_count": null,
      "metadata": {
        "id": "jdlhYzEpwDpG"
      },
      "outputs": [],
      "source": [
        "#@title\n",
        "modified_survey_2022 = modified_survey_2022[modified_survey_2022[\"DevType\"].apply(lambda x: x in modified_too_little)]"
      ]
    },
    {
      "cell_type": "code",
      "execution_count": null,
      "metadata": {
        "collapsed": true,
        "id": "WLbyJDSHwDpH"
      },
      "outputs": [],
      "source": [
        "#@title\n",
        "modified_survey_2022"
      ]
    },
    {
      "cell_type": "code",
      "execution_count": null,
      "metadata": {
        "collapsed": true,
        "id": "-7dYLronwDpH"
      },
      "outputs": [],
      "source": [
        "#@title\n",
        "qle = survey_2022[\"ConvertedCompYearly\"].quantile(0.995)\n",
        "\n",
        "qle"
      ]
    },
    {
      "cell_type": "code",
      "execution_count": null,
      "metadata": {
        "collapsed": true,
        "id": "EMAlji5HwDpH"
      },
      "outputs": [],
      "source": [
        "#@title\n",
        "modified_survey_2022[modified_survey_2022[\"ConvertedCompYearly\"] < qle].shape"
      ]
    },
    {
      "cell_type": "code",
      "execution_count": null,
      "metadata": {
        "id": "hF112n8IwDpH"
      },
      "outputs": [],
      "source": [
        "#@title\n",
        "modified_survey_2022 = modified_survey_2022[modified_survey_2022[\"ConvertedCompYearly\"] < qle]"
      ]
    },
    {
      "cell_type": "code",
      "execution_count": null,
      "metadata": {
        "collapsed": true,
        "id": "gKSS5q8kwDpH"
      },
      "outputs": [],
      "source": [
        "#@title\n",
        "modified_survey_2022.shape"
      ]
    },
    {
      "cell_type": "code",
      "execution_count": null,
      "metadata": {
        "collapsed": true,
        "id": "L51B4whFwDpH"
      },
      "outputs": [],
      "source": [
        "#@title\n",
        "modified_survey_2022.shape\n"
      ]
    },
    {
      "cell_type": "code",
      "execution_count": null,
      "metadata": {
        "id": "unFGUbEZwDpI"
      },
      "outputs": [],
      "source": [
        "#@title\n",
        "cats = modified_survey_2022.select_dtypes(object).columns"
      ]
    },
    {
      "cell_type": "code",
      "execution_count": null,
      "metadata": {
        "collapsed": true,
        "id": "JtoknFViwDpI"
      },
      "outputs": [],
      "source": [
        "#@title\n",
        "modified_survey_2022[\"MainBranch\"].value_counts()"
      ]
    },
    {
      "cell_type": "code",
      "execution_count": null,
      "metadata": {
        "collapsed": true,
        "id": "7386nGHgwDpI"
      },
      "outputs": [],
      "source": [
        "#@title\n",
        "too_litte = modified_survey_2022[\"MainBranch\"].value_counts()[modified_survey_2022[\"MainBranch\"].value_counts() > 10].index\n",
        "survey_2022[survey_2022[\"DevType\"].apply(lambda x: x in too_litte)][\"DevType\"]\n"
      ]
    },
    {
      "cell_type": "code",
      "execution_count": null,
      "metadata": {
        "collapsed": true,
        "id": "bpZCHYFLwDpI"
      },
      "outputs": [],
      "source": [
        "#@title\n",
        "for cat in cats:\n",
        "    print(cat)"
      ]
    },
    {
      "cell_type": "code",
      "execution_count": null,
      "metadata": {
        "id": "wOux7jb7wDpI"
      },
      "outputs": [],
      "source": [
        "#@title\n",
        "modified_survey_2022_copy = modified_survey_2022.copy()"
      ]
    },
    {
      "cell_type": "code",
      "execution_count": null,
      "metadata": {
        "collapsed": true,
        "id": "2PXQ2Ik2wDpI"
      },
      "outputs": [],
      "source": [
        "#@title\n",
        "modified_survey_2022_copy.shape"
      ]
    },
    {
      "cell_type": "code",
      "execution_count": null,
      "metadata": {
        "collapsed": true,
        "id": "4Ey5Sy0UwDpI"
      },
      "outputs": [],
      "source": [
        "#@title\n",
        "count = 0\n",
        "for cat in cats:\n",
        "    too_litte = modified_survey_2022_copy[cat].value_counts()[modified_survey_2022_copy[cat].value_counts() == 1].index\n",
        "    if(modified_survey_2022_copy[cat].apply(lambda x: x in too_litte).sum() > 0):\n",
        "        print(modified_survey_2022_copy[cat].apply(lambda x: x in too_litte).sum())\n",
        "        count += 1\n",
        "\n",
        "print()\n",
        "print(\"count : \",count)"
      ]
    },
    {
      "cell_type": "code",
      "execution_count": null,
      "metadata": {
        "id": "f8CPK2EVwDpJ"
      },
      "outputs": [],
      "source": [
        "#@title\n",
        "for cat in cats:\n",
        "    too_litte = modified_survey_2022_copy[cat].value_counts()[modified_survey_2022_copy[cat].value_counts() == 1].index\n",
        "    if(modified_survey_2022_copy[cat].apply(lambda x: x in too_litte).sum() > 0):\n",
        "        modified_survey_2022_copy = modified_survey_2022_copy[modified_survey_2022_copy[cat].apply(lambda x: x not in too_litte)]\n",
        "        "
      ]
    },
    {
      "cell_type": "code",
      "execution_count": null,
      "metadata": {
        "collapsed": true,
        "id": "H35Df_DSwDpJ"
      },
      "outputs": [],
      "source": [
        "#@title\n",
        "modified_survey_2022_copy"
      ]
    },
    {
      "cell_type": "code",
      "execution_count": null,
      "metadata": {
        "id": "PSQHIDIlwDpJ"
      },
      "outputs": [],
      "source": [
        "#@title\n",
        "modified_survey_2022 = modified_survey_2022_copy.copy()"
      ]
    },
    {
      "cell_type": "code",
      "execution_count": null,
      "metadata": {
        "collapsed": true,
        "id": "XwyPXeVYwDpJ"
      },
      "outputs": [],
      "source": [
        "#@title\n",
        "modified_survey_2022[[\"LanguageHaveWorkedWith\", \"LanguageWantToWorkWith\"]]"
      ]
    },
    {
      "cell_type": "code",
      "execution_count": null,
      "metadata": {
        "id": "JoslqhdNwDpK"
      },
      "outputs": [],
      "source": [
        "#@title\n",
        "too_litte = modified_survey_2022[\"LanguageHaveWorkedWith\"].value_counts()[modified_survey_2022[\"LanguageHaveWorkedWith\"].value_counts() > 4].index"
      ]
    },
    {
      "cell_type": "code",
      "execution_count": null,
      "metadata": {
        "id": "zSIo0bNWwDpK"
      },
      "outputs": [],
      "source": [
        "#@title\n",
        "order = modified_survey_2022[(modified_survey_2022[\"ConvertedCompYearly\"] < q) & (modified_survey_2022[\"LanguageHaveWorkedWith\"].apply(lambda x: x in too_litte))].groupby([\"LanguageHaveWorkedWith\"]).median()[\"ConvertedCompYearly\"].sort_values().index"
      ]
    },
    {
      "cell_type": "code",
      "execution_count": null,
      "metadata": {
        "collapsed": true,
        "id": "R5FRS5vMwDpK"
      },
      "outputs": [],
      "source": [
        "#@title\n",
        "plt.figure(dpi= 150, figsize=(20,70))\n",
        "sns.boxplot(data= modified_survey_2022[(modified_survey_2022[\"ConvertedCompYearly\"] < q) & (modified_survey_2022[\"LanguageHaveWorkedWith\"].apply(lambda x: x in too_litte))], x=\"ConvertedCompYearly\", y=\"LanguageHaveWorkedWith\", order=order)\n",
        "plt.xticks(rotation = -90)\n",
        "plt.show()"
      ]
    },
    {
      "cell_type": "code",
      "execution_count": null,
      "metadata": {
        "collapsed": true,
        "id": "CmxCud5HwDpK"
      },
      "outputs": [],
      "source": [
        "#@title\n",
        "modified_survey_2022"
      ]
    },
    {
      "cell_type": "code",
      "execution_count": null,
      "metadata": {
        "collapsed": true,
        "id": "5RmPBAohwDpK"
      },
      "outputs": [],
      "source": [
        "#@title\n",
        "modified_survey_2022"
      ]
    },
    {
      "cell_type": "code",
      "execution_count": null,
      "metadata": {
        "collapsed": true,
        "id": "aM1pQ4qbwDpK"
      },
      "outputs": [],
      "source": [
        "#@title\n",
        "modified_survey_2022.columns"
      ]
    },
    {
      "cell_type": "code",
      "execution_count": null,
      "metadata": {
        "collapsed": true,
        "id": "NxcMe5diwDpK"
      },
      "outputs": [],
      "source": [
        "#@title\n",
        "modified_survey_2022.iloc[:,-1]"
      ]
    },
    {
      "cell_type": "code",
      "execution_count": null,
      "metadata": {
        "collapsed": true,
        "id": "cyVU-0scwDpL"
      },
      "outputs": [],
      "source": [
        "#@title\n",
        "int(modified_survey_2022.iloc[:,-1].max())"
      ]
    },
    {
      "cell_type": "code",
      "execution_count": null,
      "metadata": {
        "id": "s3telDAzwDpL"
      },
      "outputs": [],
      "source": [
        "#@title\n",
        "ar = np.arange(0, int(modified_survey_2022.iloc[:,-1].max()) + 10000, 10000)"
      ]
    },
    {
      "cell_type": "code",
      "execution_count": null,
      "metadata": {
        "collapsed": true,
        "id": "C686mMCywDpL"
      },
      "outputs": [],
      "source": [
        "#@title\n",
        "len(ar)"
      ]
    },
    {
      "cell_type": "code",
      "execution_count": null,
      "metadata": {
        "id": "xRvhMT-owDpL"
      },
      "outputs": [],
      "source": [
        "#@title\n",
        "def func(x, y):\n",
        "    for i in range(len(x)):\n",
        "        if(y <= x[i]):\n",
        "            return i"
      ]
    },
    {
      "cell_type": "code",
      "execution_count": null,
      "metadata": {
        "collapsed": true,
        "id": "QNpSiA7nwDpL"
      },
      "outputs": [],
      "source": [
        "#@title\n",
        "modified_survey_2022.iloc[:, -1].apply(lambda x :func(ar, x))"
      ]
    },
    {
      "cell_type": "code",
      "execution_count": null,
      "metadata": {
        "id": "E-Efcc10wDpL"
      },
      "outputs": [],
      "source": [
        "#@title\n",
        "X_train, X_test, y_train, y_test = train_test_split(modified_survey_2022.iloc[:,1:-1], modified_survey_2022.iloc[:, -1].apply(lambda x :func(ar, x)), test_size=0.33, random_state=42)"
      ]
    },
    {
      "cell_type": "code",
      "execution_count": null,
      "metadata": {
        "id": "1g24TMV6wDpL"
      },
      "outputs": [],
      "source": [
        "#@title\n",
        "dt = DecisionTreeClassifier()"
      ]
    },
    {
      "cell_type": "code",
      "execution_count": null,
      "metadata": {
        "id": "BLftyV21wDpM"
      },
      "outputs": [],
      "source": [
        "#@title\n"
      ]
    },
    {
      "cell_type": "code",
      "execution_count": null,
      "metadata": {
        "collapsed": true,
        "id": "xIS2R9-_wDpM"
      },
      "outputs": [],
      "source": [
        "#@title\n"
      ]
    }
  ],
  "metadata": {
    "kernelspec": {
      "display_name": "Python 3.8.12 ('base')",
      "language": "python",
      "name": "python3"
    },
    "language_info": {
      "codemirror_mode": {
        "name": "ipython",
        "version": 3
      },
      "file_extension": ".py",
      "mimetype": "text/x-python",
      "name": "python",
      "nbconvert_exporter": "python",
      "pygments_lexer": "ipython3",
      "version": "3.8.12"
    },
    "orig_nbformat": 4,
    "vscode": {
      "interpreter": {
        "hash": "49d1cf207c92197553c1326cc52484d1ee2809997f5109c15474876a3e083b6e"
      }
    },
    "colab": {
      "provenance": [],
      "collapsed_sections": []
    }
  },
  "nbformat": 4,
  "nbformat_minor": 0
}