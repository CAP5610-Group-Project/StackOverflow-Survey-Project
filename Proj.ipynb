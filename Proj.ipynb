{
  "cells": [
    {
      "cell_type": "code",
      "execution_count": null,
      "metadata": {
        "id": "nLmv9ayyIENy"
      },
      "outputs": [],
      "source": [
        "import pandas as pd\n",
        "import numpy as np\n",
        "import matplotlib.pyplot as plt\n",
        "import seaborn as sns\n",
        "%matplotlib inline\n",
        "import missingno as msgno\n",
        "import sklearn as skl\n",
        "import tensorflow as tf\n",
        "from sklearn.tree import DecisionTreeRegressor\n",
        "from sklearn.tree import DecisionTreeClassifier\n",
        "from sklearn.model_selection import train_test_split\n",
        "from math import isnan\n",
        "import re\n",
        "from sklearn.neighbors import LocalOutlierFactor"
      ]
    },
    {
      "cell_type": "code",
      "execution_count": null,
      "metadata": {
        "id": "s1hraPhsIEN0"
      },
      "outputs": [],
      "source": [
        "import matplotlib\n",
        "matplotlib.__version__"
      ]
    },
    {
      "cell_type": "code",
      "execution_count": null,
      "metadata": {
        "id": "bKz8qZC9IEN1"
      },
      "outputs": [],
      "source": [
        "survey_2022 = pd.read_csv(\"D:/oldesktop/CAP5610/Project/stack-overflow-developer-survey-2022/survey_results_public.csv\")"
      ]
    },
    {
      "cell_type": "code",
      "execution_count": null,
      "metadata": {
        "id": "kOtHOI6UIEN2"
      },
      "outputs": [],
      "source": [
        "survey_2022"
      ]
    },
    {
      "cell_type": "code",
      "execution_count": null,
      "metadata": {
        "id": "iLviNt16IEN2"
      },
      "outputs": [],
      "source": [
        "\n",
        "msgno.matrix(survey_2022, labels=True, figsize=(70,20))\n",
        "plt.xticks(rotation = -80, horizontalalignment=\"center\")\n",
        "plt.tick_params(labelsize=20)\n",
        "plt.show()"
      ]
    },
    {
      "cell_type": "code",
      "execution_count": null,
      "metadata": {
        "id": "uFzE7OpDIEN2"
      },
      "outputs": [],
      "source": [
        "msgno.bar(survey_2022, figsize=(10,30))\n",
        "plt.yticks(horizontalalignment=\"center\")\n",
        "plt.tick_params(labelsize=20)\n",
        "plt.show()"
      ]
    },
    {
      "cell_type": "code",
      "execution_count": null,
      "metadata": {
        "id": "aVcgim8EIEN3"
      },
      "outputs": [],
      "source": [
        "msgno.heatmap(survey_2022, figsize=(70,70))\n",
        "plt.xticks(rotation = 90, horizontalalignment=\"center\")\n",
        "\n",
        "plt.show()\n",
        "\n"
      ]
    },
    {
      "cell_type": "code",
      "execution_count": null,
      "metadata": {
        "id": "ziTslnXnIEN3"
      },
      "outputs": [],
      "source": [
        "survey_2022.select_dtypes(np.number).columns.size"
      ]
    },
    {
      "cell_type": "code",
      "execution_count": null,
      "metadata": {
        "id": "xXHZR4VyIEN3"
      },
      "outputs": [],
      "source": [
        "survey_2022.select_dtypes(object).columns.size"
      ]
    },
    {
      "cell_type": "code",
      "execution_count": null,
      "metadata": {
        "id": "-BKgib27IEN4"
      },
      "outputs": [],
      "source": [
        "survey_2022.describe()"
      ]
    },
    {
      "cell_type": "code",
      "execution_count": null,
      "metadata": {
        "id": "gbDCzuaxIEN4"
      },
      "outputs": [],
      "source": [
        "100000"
      ]
    },
    {
      "cell_type": "code",
      "execution_count": null,
      "metadata": {
        "id": "r-mzZWivIEN5"
      },
      "outputs": [],
      "source": [
        "p = sns.displot(data = survey_2022, x = \"ConvertedCompYearly\", kind=\"kde\").fig.set_dpi(150)\n",
        "\n",
        "plt.show(p)"
      ]
    },
    {
      "cell_type": "code",
      "execution_count": null,
      "metadata": {
        "id": "cMuNuQqYIEN5"
      },
      "outputs": [],
      "source": [
        "p = sns.displot(data = survey_2022, x = \"WorkExp\", kind=\"kde\").fig.set_dpi(150)\n",
        "\n",
        "plt.show(p)"
      ]
    },
    {
      "cell_type": "code",
      "execution_count": null,
      "metadata": {
        "id": "mD5k6LALIEN5"
      },
      "outputs": [],
      "source": [
        "plt.figure(dpi= 150)\n",
        "sns.boxplot(x = survey_2022[\"ConvertedCompYearly\"])\n",
        "plt.show()"
      ]
    },
    {
      "cell_type": "code",
      "execution_count": null,
      "metadata": {
        "id": "M04SA49-IEN6"
      },
      "outputs": [],
      "source": [
        "plt.figure(dpi= 150)\n",
        "sns.boxplot(x = survey_2022[\"WorkExp\"])\n",
        "plt.show()"
      ]
    },
    {
      "cell_type": "code",
      "execution_count": null,
      "metadata": {
        "id": "KCBYnWMqIEN6"
      },
      "outputs": [],
      "source": [
        "survey_2022.describe(include='object')"
      ]
    },
    {
      "cell_type": "code",
      "execution_count": null,
      "metadata": {
        "id": "YEHJHxtXIEN6"
      },
      "outputs": [],
      "source": [
        "plt.figure(dpi= 150)\n",
        "sns.countplot(x = survey_2022[\"MainBranch\"])\n",
        "plt.xticks(rotation = -90)\n",
        "plt.show()"
      ]
    },
    {
      "cell_type": "code",
      "execution_count": null,
      "metadata": {
        "id": "ea77UVRHIEN6"
      },
      "outputs": [],
      "source": []
    },
    {
      "cell_type": "code",
      "execution_count": null,
      "metadata": {
        "id": "p7wum6IPIEN6"
      },
      "outputs": [],
      "source": [
        "cat_cols = list(survey_2022.select_dtypes(object).columns)\n",
        "cat_cols"
      ]
    },
    {
      "cell_type": "code",
      "execution_count": null,
      "metadata": {
        "id": "OPi9zHOiIEN7"
      },
      "outputs": [],
      "source": [
        "survey_2022[cat_cols].iloc[:,0].unique().size"
      ]
    },
    {
      "cell_type": "code",
      "execution_count": null,
      "metadata": {
        "id": "vESLLD2jIEN7"
      },
      "outputs": [],
      "source": [
        "count = 0\n",
        "for cat in cat_cols:\n",
        "    if(survey_2022[cat].unique().size < 70):\n",
        "        plt.figure(dpi= 150, figsize=(30, 10))\n",
        "        sns.countplot(x = survey_2022[cat])\n",
        "        plt.xticks(rotation = -90)\n",
        "        plt.show()\n",
        "        count += 1\n",
        "\n",
        "print(count)\n",
        "    "
      ]
    },
    {
      "cell_type": "code",
      "execution_count": null,
      "metadata": {
        "id": "vVlETLuVIEN7"
      },
      "outputs": [],
      "source": [
        "count = 0\n",
        "for cat in cat_cols:\n",
        "    if(survey_2022[cat].unique().size >= 70 and survey_2022[cat].unique().size < 350):\n",
        "        plt.figure(dpi= 150, figsize=(30, 10))\n",
        "        sns.countplot(x = survey_2022[cat])\n",
        "        plt.xticks(rotation = -90)\n",
        "        plt.show()\n",
        "        count += 1\n",
        "\n",
        "print(count)"
      ]
    },
    {
      "cell_type": "code",
      "execution_count": null,
      "metadata": {
        "id": "v6jQxWdfIEN8"
      },
      "outputs": [],
      "source": [
        "print(\"hi\")"
      ]
    },
    {
      "cell_type": "code",
      "execution_count": null,
      "metadata": {
        "id": "J3dV4zL3IEN8"
      },
      "outputs": [],
      "source": [
        "count = 0\n",
        "for cat in cat_cols:\n",
        "    if(survey_2022[cat].unique().size >= 350 and survey_2022[cat].unique().size < 1500):\n",
        "        plt.figure(dpi= 150, figsize=(30, 10))\n",
        "        sns.countplot(x = survey_2022[cat])\n",
        "        plt.xticks(rotation = -90)\n",
        "        plt.show()\n",
        "        count += 1\n",
        "\n",
        "print(count)"
      ]
    },
    {
      "cell_type": "code",
      "execution_count": null,
      "metadata": {
        "id": "5Ls88NwMIEN8"
      },
      "outputs": [],
      "source": [
        "count = 0\n",
        "for cat in cat_cols:\n",
        "    if(survey_2022[cat].unique().size >= 1500 and survey_2022[cat].unique().size < 5500):\n",
        "        plt.figure(dpi= 150, figsize=(30, 10))\n",
        "        sns.countplot(x = survey_2022[cat])\n",
        "        plt.xticks(rotation = -90)\n",
        "        plt.show()\n",
        "        count += 1\n",
        "\n",
        "print(count)"
      ]
    },
    {
      "cell_type": "code",
      "execution_count": null,
      "metadata": {
        "id": "mDSHQca5IEN9"
      },
      "outputs": [],
      "source": [
        "count = 0\n",
        "for cat in cat_cols:\n",
        "    if(survey_2022[cat].unique().size >= 5500 and survey_2022[cat].unique().size < 7500):\n",
        "        plt.figure(dpi= 150, figsize=(30, 10))\n",
        "        sns.countplot(x = survey_2022[cat])\n",
        "        plt.xticks(rotation = -90)\n",
        "        plt.show()\n",
        "        count += 1\n",
        "\n",
        "print(count)"
      ]
    },
    {
      "cell_type": "code",
      "execution_count": null,
      "metadata": {
        "id": "4ZEB381HIEN9"
      },
      "outputs": [],
      "source": [
        "count = 0\n",
        "for cat in cat_cols:\n",
        "    if(survey_2022[cat].unique().size >= 7500 and survey_2022[cat].unique().size < 8500):\n",
        "        #plt.figure(dpi= 150, figsize=(30, 10))\n",
        "        plt.tick_params(axis='x', which='both', bottom=False, top=False,labelbottom=False)\n",
        "        sns.countplot(x = survey_2022[cat])\n",
        "        plt.xticks(rotation = -90)\n",
        "        plt.show()\n",
        "        count += 1\n",
        "\n",
        "print(count)\n"
      ]
    },
    {
      "cell_type": "code",
      "execution_count": null,
      "metadata": {
        "id": "AI8hgWzNIEN9"
      },
      "outputs": [],
      "source": [
        "count = 0\n",
        "for cat in cat_cols:\n",
        "    if(survey_2022[cat].unique().size >= 8500 and survey_2022[cat].unique().size < 9500):\n",
        "        #plt.figure(dpi= 150, figsize=(30, 10))\n",
        "        plt.tick_params(axis='x', which='both', bottom=False, top=False,labelbottom=False)\n",
        "        sns.countplot(x = survey_2022[cat])\n",
        "        plt.xticks(rotation = -90)\n",
        "        plt.show()\n",
        "        count += 1\n",
        "\n",
        "print(count)"
      ]
    },
    {
      "cell_type": "code",
      "execution_count": null,
      "metadata": {
        "id": "6XQhruZ4IEN9"
      },
      "outputs": [],
      "source": [
        "count = 0\n",
        "for cat in cat_cols:\n",
        "    if(survey_2022[cat].unique().size >= 9500 and survey_2022[cat].unique().size < 10500):\n",
        "        #plt.figure(dpi= 150, figsize=(30, 10))\n",
        "        plt.tick_params(axis='x', which='both', bottom=False, top=False,labelbottom=False)\n",
        "        sns.countplot(x = survey_2022[cat])\n",
        "        plt.xticks(rotation = -90)\n",
        "        plt.show()\n",
        "        count += 1\n",
        "\n",
        "print(count)"
      ]
    },
    {
      "cell_type": "code",
      "execution_count": null,
      "metadata": {
        "id": "Iwr17_jvIEN-"
      },
      "outputs": [],
      "source": [
        "count = 0\n",
        "for cat in cat_cols:\n",
        "    if(survey_2022[cat].unique().size >= 10500 and survey_2022[cat].unique().size < 16500):\n",
        "        #plt.figure(dpi= 150, figsize=(30, 10))\n",
        "        plt.tick_params(axis='x', which='both', bottom=False, top=False,labelbottom=False)\n",
        "        sns.countplot(x = survey_2022[cat])\n",
        "        plt.xticks(rotation = -90)\n",
        "        plt.show()\n",
        "        count += 1\n",
        "\n",
        "print(count)"
      ]
    },
    {
      "cell_type": "code",
      "execution_count": null,
      "metadata": {
        "id": "u1WYOHTTIEN_"
      },
      "outputs": [],
      "source": [
        "count = 0\n",
        "for cat in cat_cols:\n",
        "    if(survey_2022[cat].unique().size >= 16500 and survey_2022[cat].unique().size < 25500):\n",
        "        #plt.figure(dpi= 150, figsize=(30, 10))\n",
        "        plt.tick_params(axis='x', which='both', bottom=False, top=False,labelbottom=False)\n",
        "        sns.countplot(x = survey_2022[cat])\n",
        "        plt.xticks(rotation = -90)\n",
        "        plt.show()\n",
        "        count += 1\n",
        "\n",
        "print(count)"
      ]
    },
    {
      "cell_type": "code",
      "execution_count": null,
      "metadata": {
        "id": "09VuWnpIIEN_"
      },
      "outputs": [],
      "source": [
        "count = 0\n",
        "for cat in cat_cols:\n",
        "    if(survey_2022[cat].unique().size >= 25500):\n",
        "        #plt.figure(dpi= 150, figsize=(30, 10))\n",
        "        plt.tick_params(axis='x', which='both', bottom=False, top=False,labelbottom=False)\n",
        "        sns.countplot(x = survey_2022[cat])\n",
        "        plt.xticks(rotation = -90)\n",
        "        plt.show()\n",
        "        count += 1\n",
        "\n",
        "print(count)"
      ]
    },
    {
      "cell_type": "code",
      "execution_count": null,
      "metadata": {
        "id": "d8Gtg_c4IEN_"
      },
      "outputs": [],
      "source": [
        "survey_2022.select_dtypes(np.number)"
      ]
    },
    {
      "cell_type": "code",
      "execution_count": null,
      "metadata": {
        "id": "_duyxYzgIEN_"
      },
      "outputs": [],
      "source": [
        "survey_2022.describe()"
      ]
    },
    {
      "cell_type": "code",
      "execution_count": null,
      "metadata": {
        "id": "o2hnknKnIEOA"
      },
      "outputs": [],
      "source": [
        "q = survey_2022[\"ConvertedCompYearly\"].quantile(0.95)\n",
        "\n",
        "survey_2022[survey_2022[\"ConvertedCompYearly\"] < q]"
      ]
    },
    {
      "cell_type": "code",
      "execution_count": null,
      "metadata": {
        "id": "z77UHl7FIEOA"
      },
      "outputs": [],
      "source": [
        "sns.scatterplot(data=survey_2022[survey_2022[\"ConvertedCompYearly\"] < q], x= \"WorkExp\", y= \"ConvertedCompYearly\")\n",
        "plt.show()"
      ]
    },
    {
      "cell_type": "code",
      "execution_count": null,
      "metadata": {
        "id": "j-amaVpxIEOA"
      },
      "outputs": [],
      "source": [
        "survey_2022.select_dtypes(object)"
      ]
    },
    {
      "cell_type": "code",
      "execution_count": null,
      "metadata": {
        "id": "ExuTkY_-IEOA"
      },
      "outputs": [],
      "source": [
        "q = survey_2022[\"ConvertedCompYearly\"].quantile(0.95)\n",
        "\n",
        "survey_2022[survey_2022[\"ConvertedCompYearly\"] < q]"
      ]
    },
    {
      "cell_type": "code",
      "execution_count": null,
      "metadata": {
        "id": "w1e94W9WIEOA"
      },
      "outputs": [],
      "source": [
        "sns.boxplot(data= survey_2022[survey_2022[\"ConvertedCompYearly\"] < q], x=\"ConvertedCompYearly\", y=\"EdLevel\")"
      ]
    },
    {
      "cell_type": "code",
      "execution_count": null,
      "metadata": {
        "id": "tI0qlaO7IEOB"
      },
      "outputs": [],
      "source": [
        "survey_2022[\"YearsCodePro\"].sort_values().unique()"
      ]
    },
    {
      "cell_type": "code",
      "execution_count": null,
      "metadata": {
        "id": "77dJOiYAIEOB"
      },
      "outputs": [],
      "source": [
        "['Less than 1 year', '1', '2', '6', '7', '8', '9', '10', '11', '12', '13', '14', '15', '16', '17', '18', '19',\n",
        "       '20', '21', '22', '23', '24', '25', '26', '27', '28', '29',\n",
        "       '3', '30', '31', '32', '33', '34', '35', '36', '37', '38', '39',\n",
        "       '4', '40', '41', '42', '43', '44', '45', '46', '47', '48', '49',\n",
        "       '5', '50', \n",
        "       'More than 50 years']"
      ]
    },
    {
      "cell_type": "code",
      "execution_count": null,
      "metadata": {
        "id": "cJ4kEbQYIEOB"
      },
      "outputs": [],
      "source": [
        "use_order = np.append(np.append(np.array([\"Less than 1 year\"]), pd.Series(np.arange(1, 51)).apply(str).values), np.array(\"More than 50 years\"))\n",
        "use_order"
      ]
    },
    {
      "cell_type": "code",
      "execution_count": null,
      "metadata": {
        "id": "P-fBsTFaIEOB"
      },
      "outputs": [],
      "source": [
        "plt.figure(figsize=(10, 30))\n",
        "sns.boxplot(data= survey_2022[survey_2022[\"ConvertedCompYearly\"] < q], x=\"ConvertedCompYearly\", y=\"YearsCodePro\", order=use_order)"
      ]
    },
    {
      "cell_type": "code",
      "execution_count": null,
      "metadata": {
        "id": "0jTZRpT4IEOB"
      },
      "outputs": [],
      "source": [
        "order = survey_2022[survey_2022[\"ConvertedCompYearly\"] < q].groupby([\"Employment\"]).median()[\"ConvertedCompYearly\"].sort_values().index"
      ]
    },
    {
      "cell_type": "code",
      "execution_count": null,
      "metadata": {
        "id": "0aStvyuIIEOC"
      },
      "outputs": [],
      "source": [
        "survey_2022[survey_2022[\"ConvertedCompYearly\"] < q].groupby([\"Employment\"]).median()[\"ConvertedCompYearly\"].sort_values()[:13]"
      ]
    },
    {
      "cell_type": "code",
      "execution_count": null,
      "metadata": {
        "id": "r5zgU1HmIEOC"
      },
      "outputs": [],
      "source": [
        "order[:12]"
      ]
    },
    {
      "cell_type": "code",
      "execution_count": null,
      "metadata": {
        "id": "Z5CWiXngIEOC"
      },
      "outputs": [],
      "source": [
        "plt.figure(figsize=(10, 30))\n",
        "sns.boxplot(data= survey_2022[survey_2022[\"ConvertedCompYearly\"] < q], x=\"ConvertedCompYearly\", y=\"Employment\", order=order[:13])"
      ]
    },
    {
      "cell_type": "code",
      "execution_count": null,
      "metadata": {
        "id": "6DaiGYBwIEOC"
      },
      "outputs": [],
      "source": [
        "order = survey_2022[survey_2022[\"ConvertedCompYearly\"] < q].groupby([\"MainBranch\"]).median()[\"ConvertedCompYearly\"].sort_values().index"
      ]
    },
    {
      "cell_type": "code",
      "execution_count": null,
      "metadata": {
        "id": "lElg8MWqIEOC"
      },
      "outputs": [],
      "source": [
        "order"
      ]
    },
    {
      "cell_type": "code",
      "execution_count": null,
      "metadata": {
        "id": "yqLna1eeIEOD"
      },
      "outputs": [],
      "source": [
        "plt.figure(figsize=(10, 30))\n",
        "sns.boxplot(data= survey_2022[survey_2022[\"ConvertedCompYearly\"] < q], x=\"ConvertedCompYearly\", y=\"MainBranch\", order=order)"
      ]
    },
    {
      "cell_type": "code",
      "execution_count": null,
      "metadata": {
        "id": "-MCOBu05IEOD"
      },
      "outputs": [],
      "source": [
        "survey_2022.select_dtypes(object).columns"
      ]
    },
    {
      "cell_type": "code",
      "execution_count": null,
      "metadata": {
        "id": "8jrbJEzqIEOD"
      },
      "outputs": [],
      "source": [
        "count = 0\n",
        "for cat in cat_cols:\n",
        "    if(survey_2022[cat].unique().size < 70):\n",
        "        plt.figure(dpi= 150, figsize=(30, 10))\n",
        "        order = survey_2022[survey_2022[\"ConvertedCompYearly\"] < q].groupby([cat]).median()[\"ConvertedCompYearly\"].sort_values().index\n",
        "        sns.boxplot(data= survey_2022[survey_2022[\"ConvertedCompYearly\"] < q], x=\"ConvertedCompYearly\", y=cat, order=order)\n",
        "        plt.xticks(rotation = -90)\n",
        "        plt.show()\n",
        "        count += 1\n",
        "\n",
        "print(count)"
      ]
    },
    {
      "cell_type": "code",
      "execution_count": null,
      "metadata": {
        "id": "2mVAz-ctIEOD"
      },
      "outputs": [],
      "source": [
        "count = 0\n",
        "for cat in cat_cols:\n",
        "    if(survey_2022[cat].unique().size >= 70 and survey_2022[cat].unique().size < 350):\n",
        "        plt.figure(dpi= 150, figsize=(10, 40))\n",
        "        order = survey_2022[survey_2022[\"ConvertedCompYearly\"] < q].groupby([cat]).median()[\"ConvertedCompYearly\"].sort_values().index\n",
        "        sns.boxplot(data= survey_2022[survey_2022[\"ConvertedCompYearly\"] < q], x=\"ConvertedCompYearly\", y=cat, order=order)\n",
        "        plt.xticks(rotation = -90)\n",
        "        plt.show()\n",
        "        count += 1\n",
        "\n",
        "print(count)"
      ]
    },
    {
      "cell_type": "code",
      "execution_count": null,
      "metadata": {
        "id": "eRXU3tOtIEOD"
      },
      "outputs": [],
      "source": [
        "count = 0\n",
        "for cat in cat_cols:\n",
        "    if(survey_2022[cat].unique().size >= 350 and survey_2022[cat].unique().size < 1500):\n",
        "        plt.figure(dpi= 150, figsize=(10, 100))\n",
        "        order = survey_2022[survey_2022[\"ConvertedCompYearly\"] < q].groupby([cat]).median()[\"ConvertedCompYearly\"].sort_values().index\n",
        "        sns.boxplot(data= survey_2022[survey_2022[\"ConvertedCompYearly\"] < q], x=\"ConvertedCompYearly\", y=cat, order=order)\n",
        "        plt.xticks(rotation = -90)\n",
        "        plt.show()\n",
        "        count += 1\n",
        "\n",
        "print(count)"
      ]
    },
    {
      "cell_type": "code",
      "execution_count": null,
      "metadata": {
        "id": "uJ7boxjIIEOE"
      },
      "outputs": [],
      "source": [
        "survey_2022"
      ]
    },
    {
      "cell_type": "code",
      "execution_count": null,
      "metadata": {
        "id": "MgpDWBR0IEOE"
      },
      "outputs": [],
      "source": [
        "msgno.matrix(survey_2022, labels=True, figsize=(70,20))\n",
        "plt.xticks(rotation = -80, horizontalalignment=\"center\")\n",
        "plt.tick_params(labelsize=20)\n",
        "plt.show()"
      ]
    },
    {
      "cell_type": "code",
      "execution_count": null,
      "metadata": {
        "id": "aiGRVr3BIEOE"
      },
      "outputs": [],
      "source": [
        "msgno.bar(survey_2022)\n",
        "plt.yticks(horizontalalignment=\"center\")\n",
        "plt.tick_params(labelsize=20)"
      ]
    },
    {
      "cell_type": "code",
      "execution_count": null,
      "metadata": {
        "id": "S8RozJH9IEOE"
      },
      "outputs": [],
      "source": [
        "survey_2022.notna().sum().sort_values()"
      ]
    },
    {
      "cell_type": "code",
      "execution_count": null,
      "metadata": {
        "id": "PYdrzlNvIEOE"
      },
      "outputs": [],
      "source": [
        "survey_2022.drop([\"VCHostingPersonal use\", \"VCHostingProfessional use\"], axis=1, inplace=True)"
      ]
    },
    {
      "cell_type": "code",
      "execution_count": null,
      "metadata": {
        "id": "p51WANjwIEOE"
      },
      "outputs": [],
      "source": [
        "survey_2022.select_dtypes(np.number).corr()"
      ]
    },
    {
      "cell_type": "code",
      "execution_count": null,
      "metadata": {
        "id": "3B776r6VIEOF"
      },
      "outputs": [],
      "source": [
        "survey_2022.select_dtypes(object).columns"
      ]
    },
    {
      "cell_type": "code",
      "execution_count": null,
      "metadata": {
        "id": "-FR6DljtIEOF"
      },
      "outputs": [],
      "source": [
        "survey_2022_yearly_comp = survey_2022[survey_2022[\"ConvertedCompYearly\"].notna()]"
      ]
    },
    {
      "cell_type": "code",
      "execution_count": null,
      "metadata": {
        "id": "as-yIbQvIEOF"
      },
      "outputs": [],
      "source": []
    },
    {
      "cell_type": "code",
      "execution_count": null,
      "metadata": {
        "id": "-lO3bXLJIEOF"
      },
      "outputs": [],
      "source": [
        "plt.figure(figsize=(10, 30), dpi=150)\n",
        "plt.xticks(rotation = -90, horizontalalignment=\"center\")\n",
        "sns.countplot(data=survey_2022[survey_2022[\"ConvertedCompYearly\"] < q], x=\"Employment\", hue=\"Age\")"
      ]
    },
    {
      "cell_type": "code",
      "execution_count": null,
      "metadata": {
        "id": "u0eBlcuPIEOF"
      },
      "outputs": [],
      "source": [
        "plt.figure(figsize=(10, 30), dpi=150)\n",
        "plt.xticks(rotation = -90, horizontalalignment=\"center\")\n",
        "sns.countplot(data=survey_2022[survey_2022[\"ConvertedCompYearly\"] < q], x=\"Sexuality\", hue=\"Trans\")"
      ]
    },
    {
      "cell_type": "code",
      "execution_count": null,
      "metadata": {
        "id": "z4bk4_9OIEOF"
      },
      "outputs": [],
      "source": [
        "survey_2022[\"DevType\"].value_counts()"
      ]
    },
    {
      "cell_type": "code",
      "execution_count": null,
      "metadata": {
        "id": "Yd5smAerIEOG"
      },
      "outputs": [],
      "source": [
        "too_litte = survey_2022[\"DevType\"].value_counts()[survey_2022[\"DevType\"].value_counts() > 10].index"
      ]
    },
    {
      "cell_type": "code",
      "execution_count": null,
      "metadata": {
        "id": "xxSuqmWIIEOG"
      },
      "outputs": [],
      "source": [
        "survey_2022[survey_2022[\"DevType\"].apply(lambda x: x in too_litte)][\"DevType\"]"
      ]
    },
    {
      "cell_type": "code",
      "execution_count": null,
      "metadata": {
        "id": "SexL8LS0IEOG"
      },
      "outputs": [],
      "source": [
        "survey_2022[(survey_2022[\"ConvertedCompYearly\"] < q) & (survey_2022[\"DevType\"].apply(lambda x: x in too_litte))][\"DevType\"].unique().size"
      ]
    },
    {
      "cell_type": "code",
      "execution_count": null,
      "metadata": {
        "id": "Ka2MxW3tIEOG"
      },
      "outputs": [],
      "source": [
        "\n",
        "order = survey_2022[(survey_2022[\"ConvertedCompYearly\"] < q) & (survey_2022[\"DevType\"].apply(lambda x: x in too_litte))].groupby([\"DevType\"]).median()[\"ConvertedCompYearly\"].sort_values().index"
      ]
    },
    {
      "cell_type": "code",
      "execution_count": null,
      "metadata": {
        "id": "tDKJLUNiIEOG"
      },
      "outputs": [],
      "source": [
        "plt.figure(dpi= 150, figsize=(20,70))\n",
        "sns.boxplot(data= survey_2022[(survey_2022[\"ConvertedCompYearly\"] < q) & (survey_2022[\"DevType\"].apply(lambda x: x in too_litte))], x=\"ConvertedCompYearly\", y=\"DevType\", order=order)\n",
        "plt.xticks(rotation = -90)\n",
        "plt.show()"
      ]
    },
    {
      "cell_type": "code",
      "execution_count": null,
      "metadata": {
        "id": "YoBAHRQGIEOG"
      },
      "outputs": [],
      "source": [
        "modified_survey_2022 = survey_2022.copy()\n",
        "modified2_survey_2022 = survey_2022.copy()\n",
        "modified_combined_survey_2022 = survey_2022.copy()"
      ]
    },
    {
      "cell_type": "code",
      "execution_count": null,
      "metadata": {
        "id": "kHHE_SUGIEOH"
      },
      "outputs": [],
      "source": [
        "modified_too_little = survey_2022[\"DevType\"].value_counts()[survey_2022[\"DevType\"].value_counts() > 10].index"
      ]
    },
    {
      "cell_type": "code",
      "execution_count": null,
      "metadata": {
        "id": "5cs7qwnUIEOH"
      },
      "outputs": [],
      "source": [
        "modified_survey_2022[modified_survey_2022[\"DevType\"].apply(lambda x: x in modified_too_little)].shape"
      ]
    },
    {
      "cell_type": "code",
      "execution_count": null,
      "metadata": {
        "id": "HcX4J4foIEOH"
      },
      "outputs": [],
      "source": [
        "modified_survey_2022 = modified_survey_2022[modified_survey_2022[\"DevType\"].apply(lambda x: x in modified_too_little)]"
      ]
    },
    {
      "cell_type": "code",
      "execution_count": null,
      "metadata": {
        "id": "57ZuS3muIEOH"
      },
      "outputs": [],
      "source": [
        "modified_survey_2022"
      ]
    },
    {
      "cell_type": "code",
      "execution_count": null,
      "metadata": {
        "id": "2VKgLNJSIEOH"
      },
      "outputs": [],
      "source": [
        "qle = survey_2022[\"ConvertedCompYearly\"].quantile(0.995)\n",
        "\n",
        "qle"
      ]
    },
    {
      "cell_type": "code",
      "execution_count": null,
      "metadata": {
        "id": "w-7vyn3sIEOH"
      },
      "outputs": [],
      "source": [
        "modified_survey_2022[modified_survey_2022[\"ConvertedCompYearly\"] < qle].shape"
      ]
    },
    {
      "cell_type": "code",
      "execution_count": null,
      "metadata": {
        "id": "P6WBfrlOIEOI"
      },
      "outputs": [],
      "source": [
        "modified_survey_2022 = modified_survey_2022[modified_survey_2022[\"ConvertedCompYearly\"] < qle]"
      ]
    },
    {
      "cell_type": "code",
      "execution_count": null,
      "metadata": {
        "id": "XdGTpr5BIEOI"
      },
      "outputs": [],
      "source": [
        "modified_survey_2022.shape"
      ]
    },
    {
      "cell_type": "code",
      "execution_count": null,
      "metadata": {
        "id": "jU4NonJeIEOI"
      },
      "outputs": [],
      "source": [
        "modified_survey_2022.shape\n"
      ]
    },
    {
      "cell_type": "code",
      "execution_count": null,
      "metadata": {
        "id": "FqXoJrSOIEOI"
      },
      "outputs": [],
      "source": [
        "cats = modified_survey_2022.select_dtypes(object).columns"
      ]
    },
    {
      "cell_type": "code",
      "execution_count": null,
      "metadata": {
        "id": "ca9x8V05IEOI"
      },
      "outputs": [],
      "source": [
        "modified_survey_2022[\"MainBranch\"].value_counts()"
      ]
    },
    {
      "cell_type": "code",
      "execution_count": null,
      "metadata": {
        "id": "-xQv6E6fIEOI"
      },
      "outputs": [],
      "source": [
        "too_litte = modified_survey_2022[\"MainBranch\"].value_counts()[modified_survey_2022[\"MainBranch\"].value_counts() > 10].index\n",
        "survey_2022[survey_2022[\"DevType\"].apply(lambda x: x in too_litte)][\"DevType\"]\n"
      ]
    },
    {
      "cell_type": "code",
      "execution_count": null,
      "metadata": {
        "id": "-khHUOl4IEOJ"
      },
      "outputs": [],
      "source": [
        "for cat in cats:\n",
        "    print(cat)"
      ]
    },
    {
      "cell_type": "code",
      "execution_count": null,
      "metadata": {
        "id": "zTy3tdbZIEOJ"
      },
      "outputs": [],
      "source": [
        "modified_survey_2022_copy = modified_survey_2022.copy()"
      ]
    },
    {
      "cell_type": "code",
      "execution_count": null,
      "metadata": {
        "id": "7VsvWuJnIEOJ"
      },
      "outputs": [],
      "source": [
        "modified_survey_2022_copy.shape"
      ]
    },
    {
      "cell_type": "code",
      "execution_count": null,
      "metadata": {
        "id": "06jki7VpIEOJ"
      },
      "outputs": [],
      "source": [
        "count = 0\n",
        "for cat in cats:\n",
        "    too_litte = modified_survey_2022_copy[cat].value_counts()[modified_survey_2022_copy[cat].value_counts() == 1].index\n",
        "    if(modified_survey_2022_copy[cat].apply(lambda x: x in too_litte).sum() > 0):\n",
        "        print(modified_survey_2022_copy[cat].apply(lambda x: x in too_litte).sum())\n",
        "        count += 1\n",
        "\n",
        "print()\n",
        "print(\"count : \",count)"
      ]
    },
    {
      "cell_type": "code",
      "execution_count": null,
      "metadata": {
        "id": "PkVHTfRDIEOJ"
      },
      "outputs": [],
      "source": [
        "for cat in cats:\n",
        "    too_litte = modified_survey_2022_copy[cat].value_counts()[modified_survey_2022_copy[cat].value_counts() == 1].index\n",
        "    if(modified_survey_2022_copy[cat].apply(lambda x: x in too_litte).sum() > 0):\n",
        "        modified_survey_2022_copy = modified_survey_2022_copy[modified_survey_2022_copy[cat].apply(lambda x: x not in too_litte)]\n",
        "        "
      ]
    },
    {
      "cell_type": "code",
      "execution_count": null,
      "metadata": {
        "id": "UGtCfXi4IEOJ"
      },
      "outputs": [],
      "source": [
        "modified_survey_2022_copy"
      ]
    },
    {
      "cell_type": "code",
      "execution_count": null,
      "metadata": {
        "id": "tANUnxvMIEOK"
      },
      "outputs": [],
      "source": [
        "modified_survey_2022 = modified_survey_2022_copy.copy()"
      ]
    },
    {
      "cell_type": "code",
      "execution_count": null,
      "metadata": {
        "id": "wlXbrOfyIEOK"
      },
      "outputs": [],
      "source": [
        "modified_survey_2022[[\"LanguageHaveWorkedWith\", \"LanguageWantToWorkWith\"]]"
      ]
    },
    {
      "cell_type": "code",
      "execution_count": null,
      "metadata": {
        "id": "f43tD0bMIEOK"
      },
      "outputs": [],
      "source": [
        "too_litte = modified_survey_2022[\"LanguageHaveWorkedWith\"].value_counts()[modified_survey_2022[\"LanguageHaveWorkedWith\"].value_counts() > 4].index"
      ]
    },
    {
      "cell_type": "code",
      "execution_count": null,
      "metadata": {
        "id": "9xzQc8eqIEOK"
      },
      "outputs": [],
      "source": [
        "order = modified_survey_2022[(modified_survey_2022[\"ConvertedCompYearly\"] < q) & (modified_survey_2022[\"LanguageHaveWorkedWith\"].apply(lambda x: x in too_litte))].groupby([\"LanguageHaveWorkedWith\"]).median()[\"ConvertedCompYearly\"].sort_values().index"
      ]
    },
    {
      "cell_type": "code",
      "execution_count": null,
      "metadata": {
        "id": "12I95KNoIEOK"
      },
      "outputs": [],
      "source": [
        "plt.figure(dpi= 150, figsize=(20,70))\n",
        "sns.boxplot(data= modified_survey_2022[(modified_survey_2022[\"ConvertedCompYearly\"] < q) & (modified_survey_2022[\"LanguageHaveWorkedWith\"].apply(lambda x: x in too_litte))], x=\"ConvertedCompYearly\", y=\"LanguageHaveWorkedWith\", order=order)\n",
        "plt.xticks(rotation = -90)\n",
        "plt.show()"
      ]
    },
    {
      "cell_type": "code",
      "execution_count": null,
      "metadata": {
        "id": "XpnpjdSDIEOK"
      },
      "outputs": [],
      "source": [
        "modified_survey_2022"
      ]
    },
    {
      "cell_type": "code",
      "execution_count": null,
      "metadata": {
        "id": "6_hYOly-IEOK"
      },
      "outputs": [],
      "source": [
        "modified_survey_2022"
      ]
    },
    {
      "cell_type": "code",
      "execution_count": null,
      "metadata": {
        "id": "eT4QLcNiIEOL"
      },
      "outputs": [],
      "source": [
        "modified_survey_2022.columns"
      ]
    },
    {
      "cell_type": "code",
      "execution_count": null,
      "metadata": {
        "id": "kWuV2XDcIEOL"
      },
      "outputs": [],
      "source": [
        "modified_survey_2022.iloc[:,-1]"
      ]
    },
    {
      "cell_type": "code",
      "execution_count": null,
      "metadata": {
        "id": "k4fWw08oIEOL"
      },
      "outputs": [],
      "source": [
        "int(modified_survey_2022.iloc[:,-1].max())"
      ]
    },
    {
      "cell_type": "code",
      "execution_count": null,
      "metadata": {
        "id": "Fa_VYH8wIEOL"
      },
      "outputs": [],
      "source": [
        "ar = np.arange(0, int(modified_survey_2022.iloc[:,-1].max()) + 10000, 10000)"
      ]
    },
    {
      "cell_type": "code",
      "execution_count": null,
      "metadata": {
        "id": "_CN0Rr2JIEOL"
      },
      "outputs": [],
      "source": [
        "len(ar)"
      ]
    },
    {
      "cell_type": "code",
      "execution_count": null,
      "metadata": {
        "id": "51AwNKP6IEOL"
      },
      "outputs": [],
      "source": [
        "def func(x, y):\n",
        "    for i in range(len(x)):\n",
        "        if(y <= x[i]):\n",
        "            return i"
      ]
    },
    {
      "cell_type": "code",
      "execution_count": null,
      "metadata": {
        "id": "PbGwSzWwIEOM"
      },
      "outputs": [],
      "source": [
        "modified_survey_2022.iloc[:, -1].apply(lambda x :func(ar, x))"
      ]
    },
    {
      "cell_type": "code",
      "execution_count": null,
      "metadata": {
        "id": "X1RiLr-jIEOM"
      },
      "outputs": [],
      "source": [
        "modified_survey_2022.iloc[:,1:-1][\"MainBranch\"].unique()"
      ]
    },
    {
      "cell_type": "code",
      "execution_count": null,
      "metadata": {
        "id": "mO4J3crAIEOM"
      },
      "outputs": [],
      "source": [
        "modified_survey_2022.iloc[:,1:-1].columns"
      ]
    },
    {
      "cell_type": "code",
      "execution_count": null,
      "metadata": {
        "id": "FukB6V-HIEOM"
      },
      "outputs": [],
      "source": [
        "modified_survey_2022.iloc[:,1:-1][\"EdLevel\"].unique()"
      ]
    },
    {
      "cell_type": "code",
      "execution_count": null,
      "metadata": {
        "id": "YKSWo13SIEOM"
      },
      "outputs": [],
      "source": [
        "eddict = {'Bachelor’s degree (B.A., B.S., B.Eng., etc.)' : 4,'Master’s degree (M.A., M.S., M.Eng., MBA, etc.)' : 5, \n",
        "'Primary/elementary school' : 0, \n",
        "'Secondary school (e.g. American high school, German Realschule or Gymnasium, etc.)' : 1,\n",
        "'Some college/university study without earning a degree' : 3, 'Associate degree (A.A., A.S., etc.)' : 2,\n",
        "'Professional degree (JD, MD, etc.)' : 5, 'Other doctoral degree (Ph.D., Ed.D., etc.)' : 6,\n",
        "'Something else' : 7\n",
        "}"
      ]
    },
    {
      "cell_type": "code",
      "execution_count": null,
      "metadata": {
        "id": "tgXlqyOBIEOO"
      },
      "outputs": [],
      "source": []
    },
    {
      "cell_type": "code",
      "execution_count": null,
      "metadata": {
        "id": "rQxC-OZzIEOO"
      },
      "outputs": [],
      "source": [
        "modified_survey_2022[\"EdLevel\"] = modified_survey_2022.iloc[:,1:-1][\"EdLevel\"].apply(lambda x : eddict[x] if x == x else np.nan)"
      ]
    },
    {
      "cell_type": "code",
      "execution_count": null,
      "metadata": {
        "id": "fu2dCvdjIEOO"
      },
      "outputs": [],
      "source": [
        "modified_survey_2022['YearsCode'].unique()"
      ]
    },
    {
      "cell_type": "code",
      "execution_count": null,
      "metadata": {
        "id": "urIzeCnAIEOO"
      },
      "outputs": [],
      "source": [
        "def strTonum(x):\n",
        "    if(x != x):\n",
        "        return x\n",
        "        \n",
        "    return int(re.findall(r'\\d+', x)[0])"
      ]
    },
    {
      "cell_type": "code",
      "execution_count": null,
      "metadata": {
        "id": "qJYkwPvkIEOO"
      },
      "outputs": [],
      "source": [
        "re.findall(r'\\d+', '5')"
      ]
    },
    {
      "cell_type": "code",
      "execution_count": null,
      "metadata": {
        "id": "PrnqY47IIEOP"
      },
      "outputs": [],
      "source": [
        "modified_survey_2022[\"YearsCode\"].apply(strTonum)"
      ]
    },
    {
      "cell_type": "code",
      "execution_count": null,
      "metadata": {
        "id": "0Vu1o6vhIEOP"
      },
      "outputs": [],
      "source": [
        "modified_survey_2022[\"YearsCode\"] = modified_survey_2022[\"YearsCode\"].apply(strTonum)"
      ]
    },
    {
      "cell_type": "code",
      "execution_count": null,
      "metadata": {
        "id": "kufFoxsuIEOP"
      },
      "outputs": [],
      "source": [
        "modified_survey_2022.columns"
      ]
    },
    {
      "cell_type": "code",
      "execution_count": null,
      "metadata": {
        "id": "Dk5r1cVGIEOP"
      },
      "outputs": [],
      "source": [
        "order = modified_survey_2022[(modified_survey_2022[\"ConvertedCompYearly\"] < q)].groupby([\"Country\"]).median()[\"ConvertedCompYearly\"].sort_values().index"
      ]
    },
    {
      "cell_type": "code",
      "execution_count": null,
      "metadata": {
        "id": "qSnVAH5gIEOP"
      },
      "outputs": [],
      "source": [
        "order2 = modified_survey_2022[(modified_survey_2022[\"ConvertedCompYearly\"] < q)].groupby(['Age']).median()[\"ConvertedCompYearly\"].sort_values().index"
      ]
    },
    {
      "cell_type": "code",
      "execution_count": null,
      "metadata": {
        "id": "qbS_4-9jIEOP"
      },
      "outputs": [],
      "source": [
        "plt.figure(dpi= 150, figsize=(20,70))\n",
        "sns.boxplot(data= modified_survey_2022[(modified_survey_2022[\"ConvertedCompYearly\"] < q)], x=\"ConvertedCompYearly\", y='Age', order=order2)\n",
        "plt.xticks(rotation = -90)\n",
        "plt.show()"
      ]
    },
    {
      "cell_type": "code",
      "execution_count": null,
      "metadata": {
        "id": "GgEbBzaoIEOP"
      },
      "outputs": [],
      "source": [
        "plt.figure(dpi= 150, figsize=(20,70))\n",
        "sns.boxplot(data= modified_survey_2022[(modified_survey_2022[\"ConvertedCompYearly\"] < q)], x=\"ConvertedCompYearly\", y=\"Country\", order=order)\n",
        "plt.xticks(rotation = -90)\n",
        "plt.show()"
      ]
    },
    {
      "cell_type": "code",
      "execution_count": null,
      "metadata": {
        "id": "jc-PJW1tIEOP"
      },
      "outputs": [],
      "source": [
        "modified_survey_2022['Country'].unique()"
      ]
    },
    {
      "cell_type": "code",
      "execution_count": null,
      "metadata": {
        "id": "Q7Oj1RMpIEOQ"
      },
      "outputs": [],
      "source": [
        "order"
      ]
    },
    {
      "cell_type": "code",
      "execution_count": null,
      "metadata": {
        "id": "H95G9SkbIEOQ"
      },
      "outputs": [],
      "source": [
        "dict(zip(list(order2), np.arange(len(order2))))"
      ]
    },
    {
      "cell_type": "code",
      "execution_count": null,
      "metadata": {
        "id": "CoC2ZOxsIEOQ"
      },
      "outputs": [],
      "source": [
        "dict(zip(list(order), np.arange(len(order))))"
      ]
    },
    {
      "cell_type": "code",
      "execution_count": null,
      "metadata": {
        "id": "_R_2DIdfIEOQ"
      },
      "outputs": [],
      "source": [
        "modified_survey_2022[\"Country\"] = modified_survey_2022[\"Country\"].apply(lambda x : dict(zip(list(order), np.arange(len(order))))[x])"
      ]
    },
    {
      "cell_type": "code",
      "execution_count": null,
      "metadata": {
        "id": "r_uOvEsIIEOQ"
      },
      "outputs": [],
      "source": [
        "modified_survey_2022[\"Age\"] = modified_survey_2022[\"Age\"].apply(lambda x : dict(zip(list(order2), np.arange(len(order2))))[x] if x==x else x)"
      ]
    },
    {
      "cell_type": "code",
      "execution_count": null,
      "metadata": {
        "id": "CsG9HOyvIEOQ"
      },
      "outputs": [],
      "source": [
        "modified_survey_2022[[\"YearsCode\", \"EdLevel\", \"Country\", \"Age\"]]"
      ]
    },
    {
      "cell_type": "code",
      "execution_count": null,
      "metadata": {
        "id": "cMjnwGyWIEOR"
      },
      "outputs": [],
      "source": [
        "X_train, X_test, y_train, y_test = train_test_split(modified_survey_2022[[\"YearsCode\", \"EdLevel\", \"Country\", \"Age\"]], modified_survey_2022.iloc[:, -1].apply(lambda x :func(ar, x)), test_size=0.33, random_state=42)"
      ]
    },
    {
      "cell_type": "code",
      "execution_count": null,
      "metadata": {
        "id": "XBSLzd7pIEOR"
      },
      "outputs": [],
      "source": [
        "X_train"
      ]
    },
    {
      "cell_type": "code",
      "execution_count": null,
      "metadata": {
        "id": "ppGku0fCIEOR"
      },
      "outputs": [],
      "source": [
        "X_train.isna().sum()"
      ]
    },
    {
      "cell_type": "code",
      "execution_count": null,
      "metadata": {
        "id": "QTSC9AeOIEOR"
      },
      "outputs": [],
      "source": [
        "y_train.isna().sum()"
      ]
    },
    {
      "cell_type": "code",
      "execution_count": null,
      "metadata": {
        "id": "DN2G8akDIEOR"
      },
      "outputs": [],
      "source": [
        "X_train.shape"
      ]
    },
    {
      "cell_type": "code",
      "execution_count": null,
      "metadata": {
        "id": "8GRvtQ3IIEOR"
      },
      "outputs": [],
      "source": [
        "y_train.shape"
      ]
    },
    {
      "cell_type": "code",
      "execution_count": null,
      "metadata": {
        "id": "HMZu_d5UIEOS"
      },
      "outputs": [],
      "source": [
        "X_train[\"YearsCode\"] = X_train[\"YearsCode\"].apply(lambda x : X_train[\"YearsCode\"].median() if x != x else x)\n",
        "X_train[\"Age\"] = X_train[\"Age\"].apply(lambda x : X_train[\"Age\"].median() if x != x else x)"
      ]
    },
    {
      "cell_type": "code",
      "execution_count": null,
      "metadata": {
        "id": "QimSlc82IEOS"
      },
      "outputs": [],
      "source": [
        "X_train[\"EdLevel\"].index[X_train[\"EdLevel\"].isna()]"
      ]
    },
    {
      "cell_type": "code",
      "execution_count": null,
      "metadata": {
        "id": "YsvOYrZEIEOS"
      },
      "outputs": [],
      "source": [
        "X_train, y_train = X_train.drop(27083, axis=0), y_train.drop(27083, axis=0)"
      ]
    },
    {
      "cell_type": "code",
      "execution_count": null,
      "metadata": {
        "id": "IuUhn9oCIEOS"
      },
      "outputs": [],
      "source": []
    },
    {
      "cell_type": "code",
      "execution_count": null,
      "metadata": {
        "id": "Ytr577bOIEOS"
      },
      "outputs": [],
      "source": [
        "dt = DecisionTreeClassifier()"
      ]
    },
    {
      "cell_type": "code",
      "execution_count": null,
      "metadata": {
        "id": "fi5bC34HIEOS"
      },
      "outputs": [],
      "source": [
        "dt.fit(X_train, y_train)"
      ]
    },
    {
      "cell_type": "code",
      "execution_count": null,
      "metadata": {
        "id": "cmh08wpmIEOS"
      },
      "outputs": [],
      "source": [
        "dt.score(X_train, y_train)"
      ]
    },
    {
      "cell_type": "code",
      "execution_count": null,
      "metadata": {
        "id": "qGBNLXQ_IEOT"
      },
      "outputs": [],
      "source": [
        "lofm = LocalOutlierFactor()"
      ]
    }
  ],
  "metadata": {
    "kernelspec": {
      "display_name": "Python 3.8.12 ('base')",
      "language": "python",
      "name": "python3"
    },
    "language_info": {
      "codemirror_mode": {
        "name": "ipython",
        "version": 3
      },
      "file_extension": ".py",
      "mimetype": "text/x-python",
      "name": "python",
      "nbconvert_exporter": "python",
      "pygments_lexer": "ipython3",
      "version": "3.8.12"
    },
    "orig_nbformat": 4,
    "vscode": {
      "interpreter": {
        "hash": "49d1cf207c92197553c1326cc52484d1ee2809997f5109c15474876a3e083b6e"
      }
    },
    "colab": {
      "provenance": []
    }
  },
  "nbformat": 4,
  "nbformat_minor": 0
}