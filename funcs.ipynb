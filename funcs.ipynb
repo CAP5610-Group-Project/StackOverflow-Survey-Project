{
 "cells": [
  {
   "cell_type": "code",
   "execution_count": 1,
   "metadata": {},
   "outputs": [],
   "source": [
    "import pandas as pd\n",
    "import numpy as np\n",
    "import matplotlib.pyplot as plt\n",
    "import seaborn as sns\n",
    "%matplotlib inline\n",
    "import missingno as msgno\n",
    "import sklearn as skl\n",
    "import tensorflow as tf\n",
    "from sklearn.tree import DecisionTreeRegressor\n",
    "from sklearn.tree import DecisionTreeClassifier\n",
    "from sklearn.model_selection import train_test_split\n",
    "from math import isnan\n",
    "import re\n",
    "from sklearn.neighbors import LocalOutlierFactor\n",
    "from sklearn.svm import SVC\n",
    "import operator\n",
    "#get_truth(1.0, operator.gt, 0.0)\n",
    "from sklearn.cluster import KMeans\n",
    "from sklearn.linear_model import LinearRegression\n",
    "from sklearn.preprocessing import PolynomialFeatures\n",
    "from sklearn.svm import SVR\n",
    "from sklearn.tree import plot_tree\n",
    "from sklearn.neural_network import MLPRegressor, MLPClassifier\n",
    "from sklearn.neighbors import KNeighborsClassifier, KNeighborsRegressor\n",
    "from tensorflow import keras\n",
    "from tensorflow.keras import layers\n"
   ]
  },
  {
   "cell_type": "code",
   "execution_count": null,
   "metadata": {},
   "outputs": [],
   "source": [
    "def plot_countplots(data, cat_cols, dpi, figsize, low, hi, plot=True, tplot = sns.countplot, ord=[], hue=None):\n",
    "    count = 0\n",
    "    if(plot):\n",
    "        for cat in cat_cols:\n",
    "            if(data[cat].unique().size >= low and data[cat].unique().size < hi):\n",
    "                plt.figure(dpi= dpi, figsize=figsize)\n",
    "                tplot(data= data, x = cat, hue=hue)\n",
    "                plt.xticks(rotation = -90)\n",
    "                plt.show()\n",
    "                count += 1\n",
    "    else:\n",
    "        for cat in cat_cols:\n",
    "            if(data[cat].unique().size >= low and data[cat].unique().size < hi):\n",
    "                plt.figure(dpi= 150, figsize=figsize)\n",
    "                if(np.array_equal(ord, [])): \n",
    "                    order = data.groupby([cat]).median()[\"ConvertedCompYearly\"].sort_values().index\n",
    "                else:\n",
    "                    order = ord\n",
    "                    \n",
    "                sns.boxplot(data= data, x=\"ConvertedCompYearly\", y=cat, order=order)\n",
    "                plt.xticks(rotation = -90)\n",
    "                plt.show()\n",
    "                count += 1\n",
    "        \n",
    "    print(count)"
   ]
  },
  {
   "cell_type": "code",
   "execution_count": null,
   "metadata": {},
   "outputs": [],
   "source": [
    "def cut_by_quantile(data, qle, col, fun = lambda x : True):\n",
    "    \n",
    "    bool1 = (data[\"ConvertedCompYearly\"] <= data[\"ConvertedCompYearly\"].quantile(qle)) | \\\n",
    "            (data[\"ConvertedCompYearly\"] != data[\"ConvertedCompYearly\"])\n",
    "    bool2 = data[col].apply(fun)\n",
    "    return data[(bool1) & (bool2)]"
   ]
  },
  {
   "cell_type": "code",
   "execution_count": null,
   "metadata": {},
   "outputs": [],
   "source": [
    "def too_little(data, col, little, rel = operator.gt):\n",
    "    return data[col].value_counts()[rel(data[col].value_counts(), little)].index"
   ]
  },
  {
   "cell_type": "code",
   "execution_count": null,
   "metadata": {},
   "outputs": [],
   "source": [
    "def in_too_little(y, rel=operator.truth):\n",
    "  return lambda x : rel(x in y)"
   ]
  },
  {
   "cell_type": "code",
   "execution_count": null,
   "metadata": {},
   "outputs": [],
   "source": [
    "def convert_col(data, col):\n",
    "  data[col] = data[col].astype('category').cat.codes"
   ]
  },
  {
   "cell_type": "code",
   "execution_count": null,
   "metadata": {},
   "outputs": [],
   "source": [
    "def convert_cols(data, cols):\n",
    "    [convert_col(data, col) for col in cols]"
   ]
  },
  {
   "cell_type": "code",
   "execution_count": null,
   "metadata": {},
   "outputs": [],
   "source": [
    "def set_labels(plot, data, label, figsize, rotation, labelsize):\n",
    "    plot(data, labels=label, figsize=figsize)\n",
    "    plt.xticks(rotation = rotation, horizontalalignment=\"center\")\n",
    "    plt.tick_params(labelsize=labelsize)\n",
    "    plt.show()"
   ]
  },
  {
   "cell_type": "code",
   "execution_count": null,
   "metadata": {},
   "outputs": [],
   "source": [
    "def plot_distribution(data, colmn, dpi):\n",
    "    p = sns.displot(data = data, x = colmn, kind=\"kde\").fig.set_dpi(dpi)\n",
    "    plt.show(p)"
   ]
  },
  {
   "cell_type": "code",
   "execution_count": null,
   "metadata": {},
   "outputs": [],
   "source": [
    "def salary_to_cat(salary_array, salary):\n",
    "    for i in range(len(salary_array)):\n",
    "        if(salary <= salary_array[i]):\n",
    "            return i"
   ]
  },
  {
   "cell_type": "code",
   "execution_count": null,
   "metadata": {},
   "outputs": [],
   "source": [
    "def strTonum(x):\n",
    "    if(x != x):\n",
    "        return x\n",
    "        \n",
    "    return int(re.findall(r'\\d+', x)[0])"
   ]
  },
  {
   "cell_type": "code",
   "execution_count": null,
   "metadata": {},
   "outputs": [],
   "source": [
    "operator.eq(np.nan, np.nan)"
   ]
  },
  {
   "cell_type": "code",
   "execution_count": null,
   "metadata": {},
   "outputs": [],
   "source": [
    "def set_median(data, cols, num, rel):\n",
    "\n",
    "    i = 0\n",
    "    for col in cols:\n",
    "        data[col] = data[col].apply(lambda x : data[col].median() if rel[i](x, num[i]) else x)\n",
    "        i += 1"
   ]
  },
  {
   "cell_type": "code",
   "execution_count": null,
   "metadata": {},
   "outputs": [],
   "source": [
    "def composition(f, g):\n",
    "    return lambda x,y : f(g(x,y))"
   ]
  },
  {
   "cell_type": "code",
   "execution_count": null,
   "metadata": {},
   "outputs": [],
   "source": [
    "def drop_cols(trainX, trainY, testX, testY, cols):\n",
    "\n",
    "    for col in cols:\n",
    "\n",
    "        to_drop = trainX[col].index[trainX[col].isna()]\n",
    "        trainX.drop(to_drop, axis=0, inplace=True), trainY.drop(to_drop, axis=0, inplace=True)\n",
    "\n",
    "    \n",
    "    for col in cols:\n",
    "        to_drop = testX[col].index[testX[col].isna()]\n",
    "        \n",
    "        testX.drop(to_drop, axis=0, inplace=True), testY.drop(to_drop, axis=0, inplace=True)\n",
    "    \n",
    "    \n",
    "        \n",
    "\n",
    "    to_drop_y_test = testY.index[testY.isna()]\n",
    "    to_drop_y = trainY.index[trainY.isna()]\n",
    "    trainX.drop(to_drop_y, axis=0, inplace=True), trainY.drop(to_drop_y, axis=0, inplace=True)\n",
    "    testX.drop(to_drop_y_test, axis=0, inplace=True), testY.drop(to_drop_y_test, axis=0, inplace=True)\n"
   ]
  },
  {
   "cell_type": "code",
   "execution_count": null,
   "metadata": {},
   "outputs": [],
   "source": [
    "def dropminus_na(to_drop_df, to_drop_df_test, X_train, y_train, X_test, y_test):\n",
    "\n",
    "    X_train.drop(to_drop_df.index[to_drop_df == True], axis=0), y_train.drop(to_drop_df.index[to_drop_df == True], axis=0)\n",
    "    X_test.drop(to_drop_df_test.index[to_drop_df_test == True], axis=0), y_test.drop(to_drop_df_test.index[to_drop_df_test == True], axis=0)\n",
    "    \n"
   ]
  },
  {
   "cell_type": "code",
   "execution_count": null,
   "metadata": {},
   "outputs": [],
   "source": [
    "def combine_data(num, x):\n",
    "\n",
    "    if(num == 0):\n",
    "        if(x[0] == 'nan'):\n",
    "            return np.nan\n",
    "        else:\n",
    "            return x[0]\n",
    "    \n",
    "    for i in range(1, num + 1):\n",
    "        if(len(x) == i):\n",
    "            return np.nan\n",
    "    \n",
    "    \n",
    "    return x[num]"
   ]
  },
  {
   "cell_type": "code",
   "execution_count": null,
   "metadata": {},
   "outputs": [],
   "source": [
    "def construct_columns(data):\n",
    "    values = set()\n",
    "    for i in range(len(data)):\n",
    "        values.update(data[i])\n",
    "\n",
    "    return values"
   ]
  },
  {
   "cell_type": "code",
   "execution_count": null,
   "metadata": {},
   "outputs": [],
   "source": [
    "def put_cols(data, cols, array):\n",
    "\n",
    "    for col in cols:\n",
    "        if(pd.isnull(col)):\n",
    "            data[\"nan\"] = array.apply(lambda x : \"nan\" in x)\n",
    "            continue\n",
    "        data[col] = array.apply(lambda x : col in x)\n"
   ]
  },
  {
   "cell_type": "code",
   "execution_count": 2,
   "metadata": {},
   "outputs": [],
   "source": [
    "def organize_training(X_train, y_train, X_test, y_test, cols, nums, rels, to_drop_df, to_drop_df_test):\n",
    "    \n",
    "    set_median(X_train, cols, nums, rels)\n",
    "    set_median(X_test, cols, nums, rels)\n",
    "    drop_cols(X_train, y_train, X_test, y_test, [\"EdLevel\"])\n",
    "\n",
    "    dropminus_na(to_drop_df, to_drop_df_test, X_train, y_train, X_test, y_test)\n"
   ]
  },
  {
   "cell_type": "code",
   "execution_count": null,
   "metadata": {},
   "outputs": [],
   "source": [
    "eddict = {'Bachelor’s degree (B.A., B.S., B.Eng., etc.)' : 4,'Master’s degree (M.A., M.S., M.Eng., MBA, etc.)' : 5, \n",
    "'Primary/elementary school' : 0, \n",
    "'Secondary school (e.g. American high school, German Realschule or Gymnasium, etc.)' : 1,\n",
    "'Some college/university study without earning a degree' : 3, 'Associate degree (A.A., A.S., etc.)' : 2,\n",
    "'Professional degree (JD, MD, etc.)' : 5, 'Other doctoral degree (Ph.D., Ed.D., etc.)' : 6,\n",
    "'Something else' : 7\n",
    "}"
   ]
  }
 ],
 "metadata": {
  "kernelspec": {
   "display_name": "Python 3.9.13 ('tf-gpu')",
   "language": "python",
   "name": "python3"
  },
  "language_info": {
   "codemirror_mode": {
    "name": "ipython",
    "version": 3
   },
   "file_extension": ".py",
   "mimetype": "text/x-python",
   "name": "python",
   "nbconvert_exporter": "python",
   "pygments_lexer": "ipython3",
   "version": "3.9.13"
  },
  "orig_nbformat": 4,
  "vscode": {
   "interpreter": {
    "hash": "38bd4560307326feadfc74a2bb2a6bc7e5ca8cf4b0d19138419770a38e614785"
   }
  }
 },
 "nbformat": 4,
 "nbformat_minor": 2
}
