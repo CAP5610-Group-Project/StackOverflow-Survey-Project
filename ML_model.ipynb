{
 "cells": [
  {
   "cell_type": "code",
   "execution_count": 3,
   "metadata": {},
   "outputs": [
    {
     "name": "stderr",
     "output_type": "stream",
     "text": [
      "C:\\Users\\robin\\AppData\\Local\\Temp\\ipykernel_10812\\3072187195.py:7: PerformanceWarning: DataFrame is highly fragmented.  This is usually the result of calling `frame.insert` many times, which has poor performance.  Consider joining all columns at once using pd.concat(axis=1) instead. To get a de-fragmented frame, use `newframe = frame.copy()`\n",
      "  data[col] = array.apply(lambda x : col in x)\n",
      "C:\\Users\\robin\\AppData\\Local\\Temp\\ipykernel_10812\\3072187195.py:7: PerformanceWarning: DataFrame is highly fragmented.  This is usually the result of calling `frame.insert` many times, which has poor performance.  Consider joining all columns at once using pd.concat(axis=1) instead. To get a de-fragmented frame, use `newframe = frame.copy()`\n",
      "  data[col] = array.apply(lambda x : col in x)\n",
      "C:\\Users\\robin\\AppData\\Local\\Temp\\ipykernel_10812\\3072187195.py:7: PerformanceWarning: DataFrame is highly fragmented.  This is usually the result of calling `frame.insert` many times, which has poor performance.  Consider joining all columns at once using pd.concat(axis=1) instead. To get a de-fragmented frame, use `newframe = frame.copy()`\n",
      "  data[col] = array.apply(lambda x : col in x)\n",
      "C:\\Users\\robin\\AppData\\Local\\Temp\\ipykernel_10812\\3072187195.py:7: PerformanceWarning: DataFrame is highly fragmented.  This is usually the result of calling `frame.insert` many times, which has poor performance.  Consider joining all columns at once using pd.concat(axis=1) instead. To get a de-fragmented frame, use `newframe = frame.copy()`\n",
      "  data[col] = array.apply(lambda x : col in x)\n",
      "C:\\Users\\robin\\AppData\\Local\\Temp\\ipykernel_10812\\3072187195.py:7: PerformanceWarning: DataFrame is highly fragmented.  This is usually the result of calling `frame.insert` many times, which has poor performance.  Consider joining all columns at once using pd.concat(axis=1) instead. To get a de-fragmented frame, use `newframe = frame.copy()`\n",
      "  data[col] = array.apply(lambda x : col in x)\n",
      "C:\\Users\\robin\\AppData\\Local\\Temp\\ipykernel_10812\\3072187195.py:7: PerformanceWarning: DataFrame is highly fragmented.  This is usually the result of calling `frame.insert` many times, which has poor performance.  Consider joining all columns at once using pd.concat(axis=1) instead. To get a de-fragmented frame, use `newframe = frame.copy()`\n",
      "  data[col] = array.apply(lambda x : col in x)\n",
      "C:\\Users\\robin\\AppData\\Local\\Temp\\ipykernel_10812\\3072187195.py:7: PerformanceWarning: DataFrame is highly fragmented.  This is usually the result of calling `frame.insert` many times, which has poor performance.  Consider joining all columns at once using pd.concat(axis=1) instead. To get a de-fragmented frame, use `newframe = frame.copy()`\n",
      "  data[col] = array.apply(lambda x : col in x)\n",
      "C:\\Users\\robin\\AppData\\Local\\Temp\\ipykernel_10812\\3072187195.py:7: PerformanceWarning: DataFrame is highly fragmented.  This is usually the result of calling `frame.insert` many times, which has poor performance.  Consider joining all columns at once using pd.concat(axis=1) instead. To get a de-fragmented frame, use `newframe = frame.copy()`\n",
      "  data[col] = array.apply(lambda x : col in x)\n",
      "C:\\Users\\robin\\AppData\\Local\\Temp\\ipykernel_10812\\3072187195.py:7: PerformanceWarning: DataFrame is highly fragmented.  This is usually the result of calling `frame.insert` many times, which has poor performance.  Consider joining all columns at once using pd.concat(axis=1) instead. To get a de-fragmented frame, use `newframe = frame.copy()`\n",
      "  data[col] = array.apply(lambda x : col in x)\n",
      "C:\\Users\\robin\\AppData\\Local\\Temp\\ipykernel_10812\\3072187195.py:7: PerformanceWarning: DataFrame is highly fragmented.  This is usually the result of calling `frame.insert` many times, which has poor performance.  Consider joining all columns at once using pd.concat(axis=1) instead. To get a de-fragmented frame, use `newframe = frame.copy()`\n",
      "  data[col] = array.apply(lambda x : col in x)\n",
      "C:\\Users\\robin\\AppData\\Local\\Temp\\ipykernel_10812\\3072187195.py:7: PerformanceWarning: DataFrame is highly fragmented.  This is usually the result of calling `frame.insert` many times, which has poor performance.  Consider joining all columns at once using pd.concat(axis=1) instead. To get a de-fragmented frame, use `newframe = frame.copy()`\n",
      "  data[col] = array.apply(lambda x : col in x)\n",
      "C:\\Users\\robin\\AppData\\Local\\Temp\\ipykernel_10812\\3072187195.py:7: PerformanceWarning: DataFrame is highly fragmented.  This is usually the result of calling `frame.insert` many times, which has poor performance.  Consider joining all columns at once using pd.concat(axis=1) instead. To get a de-fragmented frame, use `newframe = frame.copy()`\n",
      "  data[col] = array.apply(lambda x : col in x)\n",
      "C:\\Users\\robin\\AppData\\Local\\Temp\\ipykernel_10812\\3072187195.py:7: PerformanceWarning: DataFrame is highly fragmented.  This is usually the result of calling `frame.insert` many times, which has poor performance.  Consider joining all columns at once using pd.concat(axis=1) instead. To get a de-fragmented frame, use `newframe = frame.copy()`\n",
      "  data[col] = array.apply(lambda x : col in x)\n",
      "C:\\Users\\robin\\AppData\\Local\\Temp\\ipykernel_10812\\3072187195.py:7: PerformanceWarning: DataFrame is highly fragmented.  This is usually the result of calling `frame.insert` many times, which has poor performance.  Consider joining all columns at once using pd.concat(axis=1) instead. To get a de-fragmented frame, use `newframe = frame.copy()`\n",
      "  data[col] = array.apply(lambda x : col in x)\n",
      "C:\\Users\\robin\\AppData\\Local\\Temp\\ipykernel_10812\\3072187195.py:7: PerformanceWarning: DataFrame is highly fragmented.  This is usually the result of calling `frame.insert` many times, which has poor performance.  Consider joining all columns at once using pd.concat(axis=1) instead. To get a de-fragmented frame, use `newframe = frame.copy()`\n",
      "  data[col] = array.apply(lambda x : col in x)\n",
      "C:\\Users\\robin\\AppData\\Local\\Temp\\ipykernel_10812\\3072187195.py:7: PerformanceWarning: DataFrame is highly fragmented.  This is usually the result of calling `frame.insert` many times, which has poor performance.  Consider joining all columns at once using pd.concat(axis=1) instead. To get a de-fragmented frame, use `newframe = frame.copy()`\n",
      "  data[col] = array.apply(lambda x : col in x)\n",
      "C:\\Users\\robin\\AppData\\Local\\Temp\\ipykernel_10812\\3072187195.py:7: PerformanceWarning: DataFrame is highly fragmented.  This is usually the result of calling `frame.insert` many times, which has poor performance.  Consider joining all columns at once using pd.concat(axis=1) instead. To get a de-fragmented frame, use `newframe = frame.copy()`\n",
      "  data[col] = array.apply(lambda x : col in x)\n",
      "C:\\Users\\robin\\AppData\\Local\\Temp\\ipykernel_10812\\3072187195.py:7: PerformanceWarning: DataFrame is highly fragmented.  This is usually the result of calling `frame.insert` many times, which has poor performance.  Consider joining all columns at once using pd.concat(axis=1) instead. To get a de-fragmented frame, use `newframe = frame.copy()`\n",
      "  data[col] = array.apply(lambda x : col in x)\n",
      "C:\\Users\\robin\\AppData\\Local\\Temp\\ipykernel_10812\\3072187195.py:7: PerformanceWarning: DataFrame is highly fragmented.  This is usually the result of calling `frame.insert` many times, which has poor performance.  Consider joining all columns at once using pd.concat(axis=1) instead. To get a de-fragmented frame, use `newframe = frame.copy()`\n",
      "  data[col] = array.apply(lambda x : col in x)\n",
      "C:\\Users\\robin\\AppData\\Local\\Temp\\ipykernel_10812\\3072187195.py:7: PerformanceWarning: DataFrame is highly fragmented.  This is usually the result of calling `frame.insert` many times, which has poor performance.  Consider joining all columns at once using pd.concat(axis=1) instead. To get a de-fragmented frame, use `newframe = frame.copy()`\n",
      "  data[col] = array.apply(lambda x : col in x)\n",
      "C:\\Users\\robin\\AppData\\Local\\Temp\\ipykernel_10812\\3072187195.py:7: PerformanceWarning: DataFrame is highly fragmented.  This is usually the result of calling `frame.insert` many times, which has poor performance.  Consider joining all columns at once using pd.concat(axis=1) instead. To get a de-fragmented frame, use `newframe = frame.copy()`\n",
      "  data[col] = array.apply(lambda x : col in x)\n",
      "C:\\Users\\robin\\AppData\\Local\\Temp\\ipykernel_10812\\3072187195.py:7: PerformanceWarning: DataFrame is highly fragmented.  This is usually the result of calling `frame.insert` many times, which has poor performance.  Consider joining all columns at once using pd.concat(axis=1) instead. To get a de-fragmented frame, use `newframe = frame.copy()`\n",
      "  data[col] = array.apply(lambda x : col in x)\n",
      "C:\\Users\\robin\\AppData\\Local\\Temp\\ipykernel_10812\\3072187195.py:7: PerformanceWarning: DataFrame is highly fragmented.  This is usually the result of calling `frame.insert` many times, which has poor performance.  Consider joining all columns at once using pd.concat(axis=1) instead. To get a de-fragmented frame, use `newframe = frame.copy()`\n",
      "  data[col] = array.apply(lambda x : col in x)\n",
      "C:\\Users\\robin\\AppData\\Local\\Temp\\ipykernel_10812\\3072187195.py:7: PerformanceWarning: DataFrame is highly fragmented.  This is usually the result of calling `frame.insert` many times, which has poor performance.  Consider joining all columns at once using pd.concat(axis=1) instead. To get a de-fragmented frame, use `newframe = frame.copy()`\n",
      "  data[col] = array.apply(lambda x : col in x)\n",
      "C:\\Users\\robin\\AppData\\Local\\Temp\\ipykernel_10812\\3072187195.py:7: PerformanceWarning: DataFrame is highly fragmented.  This is usually the result of calling `frame.insert` many times, which has poor performance.  Consider joining all columns at once using pd.concat(axis=1) instead. To get a de-fragmented frame, use `newframe = frame.copy()`\n",
      "  data[col] = array.apply(lambda x : col in x)\n",
      "C:\\Users\\robin\\AppData\\Local\\Temp\\ipykernel_10812\\3072187195.py:7: PerformanceWarning: DataFrame is highly fragmented.  This is usually the result of calling `frame.insert` many times, which has poor performance.  Consider joining all columns at once using pd.concat(axis=1) instead. To get a de-fragmented frame, use `newframe = frame.copy()`\n",
      "  data[col] = array.apply(lambda x : col in x)\n",
      "C:\\Users\\robin\\AppData\\Local\\Temp\\ipykernel_10812\\3072187195.py:7: PerformanceWarning: DataFrame is highly fragmented.  This is usually the result of calling `frame.insert` many times, which has poor performance.  Consider joining all columns at once using pd.concat(axis=1) instead. To get a de-fragmented frame, use `newframe = frame.copy()`\n",
      "  data[col] = array.apply(lambda x : col in x)\n",
      "C:\\Users\\robin\\AppData\\Local\\Temp\\ipykernel_10812\\3072187195.py:7: PerformanceWarning: DataFrame is highly fragmented.  This is usually the result of calling `frame.insert` many times, which has poor performance.  Consider joining all columns at once using pd.concat(axis=1) instead. To get a de-fragmented frame, use `newframe = frame.copy()`\n",
      "  data[col] = array.apply(lambda x : col in x)\n",
      "C:\\Users\\robin\\AppData\\Local\\Temp\\ipykernel_10812\\3072187195.py:7: PerformanceWarning: DataFrame is highly fragmented.  This is usually the result of calling `frame.insert` many times, which has poor performance.  Consider joining all columns at once using pd.concat(axis=1) instead. To get a de-fragmented frame, use `newframe = frame.copy()`\n",
      "  data[col] = array.apply(lambda x : col in x)\n",
      "C:\\Users\\robin\\AppData\\Local\\Temp\\ipykernel_10812\\3072187195.py:7: PerformanceWarning: DataFrame is highly fragmented.  This is usually the result of calling `frame.insert` many times, which has poor performance.  Consider joining all columns at once using pd.concat(axis=1) instead. To get a de-fragmented frame, use `newframe = frame.copy()`\n",
      "  data[col] = array.apply(lambda x : col in x)\n",
      "C:\\Users\\robin\\AppData\\Local\\Temp\\ipykernel_10812\\3072187195.py:7: PerformanceWarning: DataFrame is highly fragmented.  This is usually the result of calling `frame.insert` many times, which has poor performance.  Consider joining all columns at once using pd.concat(axis=1) instead. To get a de-fragmented frame, use `newframe = frame.copy()`\n",
      "  data[col] = array.apply(lambda x : col in x)\n",
      "C:\\Users\\robin\\AppData\\Local\\Temp\\ipykernel_10812\\3072187195.py:7: PerformanceWarning: DataFrame is highly fragmented.  This is usually the result of calling `frame.insert` many times, which has poor performance.  Consider joining all columns at once using pd.concat(axis=1) instead. To get a de-fragmented frame, use `newframe = frame.copy()`\n",
      "  data[col] = array.apply(lambda x : col in x)\n",
      "C:\\Users\\robin\\AppData\\Local\\Temp\\ipykernel_10812\\3072187195.py:7: PerformanceWarning: DataFrame is highly fragmented.  This is usually the result of calling `frame.insert` many times, which has poor performance.  Consider joining all columns at once using pd.concat(axis=1) instead. To get a de-fragmented frame, use `newframe = frame.copy()`\n",
      "  data[col] = array.apply(lambda x : col in x)\n",
      "C:\\Users\\robin\\AppData\\Local\\Temp\\ipykernel_10812\\3072187195.py:7: PerformanceWarning: DataFrame is highly fragmented.  This is usually the result of calling `frame.insert` many times, which has poor performance.  Consider joining all columns at once using pd.concat(axis=1) instead. To get a de-fragmented frame, use `newframe = frame.copy()`\n",
      "  data[col] = array.apply(lambda x : col in x)\n",
      "C:\\Users\\robin\\AppData\\Local\\Temp\\ipykernel_10812\\3072187195.py:7: PerformanceWarning: DataFrame is highly fragmented.  This is usually the result of calling `frame.insert` many times, which has poor performance.  Consider joining all columns at once using pd.concat(axis=1) instead. To get a de-fragmented frame, use `newframe = frame.copy()`\n",
      "  data[col] = array.apply(lambda x : col in x)\n",
      "C:\\Users\\robin\\AppData\\Local\\Temp\\ipykernel_10812\\3072187195.py:7: PerformanceWarning: DataFrame is highly fragmented.  This is usually the result of calling `frame.insert` many times, which has poor performance.  Consider joining all columns at once using pd.concat(axis=1) instead. To get a de-fragmented frame, use `newframe = frame.copy()`\n",
      "  data[col] = array.apply(lambda x : col in x)\n",
      "C:\\Users\\robin\\AppData\\Local\\Temp\\ipykernel_10812\\3072187195.py:7: PerformanceWarning: DataFrame is highly fragmented.  This is usually the result of calling `frame.insert` many times, which has poor performance.  Consider joining all columns at once using pd.concat(axis=1) instead. To get a de-fragmented frame, use `newframe = frame.copy()`\n",
      "  data[col] = array.apply(lambda x : col in x)\n",
      "C:\\Users\\robin\\AppData\\Local\\Temp\\ipykernel_10812\\3072187195.py:7: PerformanceWarning: DataFrame is highly fragmented.  This is usually the result of calling `frame.insert` many times, which has poor performance.  Consider joining all columns at once using pd.concat(axis=1) instead. To get a de-fragmented frame, use `newframe = frame.copy()`\n",
      "  data[col] = array.apply(lambda x : col in x)\n",
      "C:\\Users\\robin\\AppData\\Local\\Temp\\ipykernel_10812\\3072187195.py:7: PerformanceWarning: DataFrame is highly fragmented.  This is usually the result of calling `frame.insert` many times, which has poor performance.  Consider joining all columns at once using pd.concat(axis=1) instead. To get a de-fragmented frame, use `newframe = frame.copy()`\n",
      "  data[col] = array.apply(lambda x : col in x)\n",
      "C:\\Users\\robin\\AppData\\Local\\Temp\\ipykernel_10812\\3072187195.py:7: PerformanceWarning: DataFrame is highly fragmented.  This is usually the result of calling `frame.insert` many times, which has poor performance.  Consider joining all columns at once using pd.concat(axis=1) instead. To get a de-fragmented frame, use `newframe = frame.copy()`\n",
      "  data[col] = array.apply(lambda x : col in x)\n",
      "C:\\Users\\robin\\AppData\\Local\\Temp\\ipykernel_10812\\3072187195.py:7: PerformanceWarning: DataFrame is highly fragmented.  This is usually the result of calling `frame.insert` many times, which has poor performance.  Consider joining all columns at once using pd.concat(axis=1) instead. To get a de-fragmented frame, use `newframe = frame.copy()`\n",
      "  data[col] = array.apply(lambda x : col in x)\n",
      "C:\\Users\\robin\\AppData\\Local\\Temp\\ipykernel_10812\\3072187195.py:7: PerformanceWarning: DataFrame is highly fragmented.  This is usually the result of calling `frame.insert` many times, which has poor performance.  Consider joining all columns at once using pd.concat(axis=1) instead. To get a de-fragmented frame, use `newframe = frame.copy()`\n",
      "  data[col] = array.apply(lambda x : col in x)\n",
      "C:\\Users\\robin\\AppData\\Local\\Temp\\ipykernel_10812\\3072187195.py:7: PerformanceWarning: DataFrame is highly fragmented.  This is usually the result of calling `frame.insert` many times, which has poor performance.  Consider joining all columns at once using pd.concat(axis=1) instead. To get a de-fragmented frame, use `newframe = frame.copy()`\n",
      "  data[col] = array.apply(lambda x : col in x)\n",
      "C:\\Users\\robin\\AppData\\Local\\Temp\\ipykernel_10812\\3072187195.py:7: PerformanceWarning: DataFrame is highly fragmented.  This is usually the result of calling `frame.insert` many times, which has poor performance.  Consider joining all columns at once using pd.concat(axis=1) instead. To get a de-fragmented frame, use `newframe = frame.copy()`\n",
      "  data[col] = array.apply(lambda x : col in x)\n",
      "C:\\Users\\robin\\AppData\\Local\\Temp\\ipykernel_10812\\3072187195.py:7: PerformanceWarning: DataFrame is highly fragmented.  This is usually the result of calling `frame.insert` many times, which has poor performance.  Consider joining all columns at once using pd.concat(axis=1) instead. To get a de-fragmented frame, use `newframe = frame.copy()`\n",
      "  data[col] = array.apply(lambda x : col in x)\n",
      "C:\\Users\\robin\\AppData\\Local\\Temp\\ipykernel_10812\\3072187195.py:7: PerformanceWarning: DataFrame is highly fragmented.  This is usually the result of calling `frame.insert` many times, which has poor performance.  Consider joining all columns at once using pd.concat(axis=1) instead. To get a de-fragmented frame, use `newframe = frame.copy()`\n",
      "  data[col] = array.apply(lambda x : col in x)\n",
      "C:\\Users\\robin\\AppData\\Local\\Temp\\ipykernel_10812\\3072187195.py:7: PerformanceWarning: DataFrame is highly fragmented.  This is usually the result of calling `frame.insert` many times, which has poor performance.  Consider joining all columns at once using pd.concat(axis=1) instead. To get a de-fragmented frame, use `newframe = frame.copy()`\n",
      "  data[col] = array.apply(lambda x : col in x)\n",
      "C:\\Users\\robin\\AppData\\Local\\Temp\\ipykernel_10812\\3072187195.py:7: PerformanceWarning: DataFrame is highly fragmented.  This is usually the result of calling `frame.insert` many times, which has poor performance.  Consider joining all columns at once using pd.concat(axis=1) instead. To get a de-fragmented frame, use `newframe = frame.copy()`\n",
      "  data[col] = array.apply(lambda x : col in x)\n",
      "C:\\Users\\robin\\AppData\\Local\\Temp\\ipykernel_10812\\3072187195.py:7: PerformanceWarning: DataFrame is highly fragmented.  This is usually the result of calling `frame.insert` many times, which has poor performance.  Consider joining all columns at once using pd.concat(axis=1) instead. To get a de-fragmented frame, use `newframe = frame.copy()`\n",
      "  data[col] = array.apply(lambda x : col in x)\n",
      "C:\\Users\\robin\\AppData\\Local\\Temp\\ipykernel_10812\\3072187195.py:7: PerformanceWarning: DataFrame is highly fragmented.  This is usually the result of calling `frame.insert` many times, which has poor performance.  Consider joining all columns at once using pd.concat(axis=1) instead. To get a de-fragmented frame, use `newframe = frame.copy()`\n",
      "  data[col] = array.apply(lambda x : col in x)\n",
      "C:\\Users\\robin\\AppData\\Local\\Temp\\ipykernel_10812\\3072187195.py:7: PerformanceWarning: DataFrame is highly fragmented.  This is usually the result of calling `frame.insert` many times, which has poor performance.  Consider joining all columns at once using pd.concat(axis=1) instead. To get a de-fragmented frame, use `newframe = frame.copy()`\n",
      "  data[col] = array.apply(lambda x : col in x)\n",
      "C:\\Users\\robin\\AppData\\Local\\Temp\\ipykernel_10812\\3072187195.py:7: PerformanceWarning: DataFrame is highly fragmented.  This is usually the result of calling `frame.insert` many times, which has poor performance.  Consider joining all columns at once using pd.concat(axis=1) instead. To get a de-fragmented frame, use `newframe = frame.copy()`\n",
      "  data[col] = array.apply(lambda x : col in x)\n",
      "C:\\Users\\robin\\AppData\\Local\\Temp\\ipykernel_10812\\3072187195.py:7: PerformanceWarning: DataFrame is highly fragmented.  This is usually the result of calling `frame.insert` many times, which has poor performance.  Consider joining all columns at once using pd.concat(axis=1) instead. To get a de-fragmented frame, use `newframe = frame.copy()`\n",
      "  data[col] = array.apply(lambda x : col in x)\n",
      "C:\\Users\\robin\\AppData\\Local\\Temp\\ipykernel_10812\\3072187195.py:7: PerformanceWarning: DataFrame is highly fragmented.  This is usually the result of calling `frame.insert` many times, which has poor performance.  Consider joining all columns at once using pd.concat(axis=1) instead. To get a de-fragmented frame, use `newframe = frame.copy()`\n",
      "  data[col] = array.apply(lambda x : col in x)\n",
      "C:\\Users\\robin\\AppData\\Local\\Temp\\ipykernel_10812\\3072187195.py:7: PerformanceWarning: DataFrame is highly fragmented.  This is usually the result of calling `frame.insert` many times, which has poor performance.  Consider joining all columns at once using pd.concat(axis=1) instead. To get a de-fragmented frame, use `newframe = frame.copy()`\n",
      "  data[col] = array.apply(lambda x : col in x)\n",
      "C:\\Users\\robin\\AppData\\Local\\Temp\\ipykernel_10812\\3072187195.py:7: PerformanceWarning: DataFrame is highly fragmented.  This is usually the result of calling `frame.insert` many times, which has poor performance.  Consider joining all columns at once using pd.concat(axis=1) instead. To get a de-fragmented frame, use `newframe = frame.copy()`\n",
      "  data[col] = array.apply(lambda x : col in x)\n",
      "C:\\Users\\robin\\AppData\\Local\\Temp\\ipykernel_10812\\3072187195.py:7: PerformanceWarning: DataFrame is highly fragmented.  This is usually the result of calling `frame.insert` many times, which has poor performance.  Consider joining all columns at once using pd.concat(axis=1) instead. To get a de-fragmented frame, use `newframe = frame.copy()`\n",
      "  data[col] = array.apply(lambda x : col in x)\n",
      "C:\\Users\\robin\\AppData\\Local\\Temp\\ipykernel_10812\\3072187195.py:7: PerformanceWarning: DataFrame is highly fragmented.  This is usually the result of calling `frame.insert` many times, which has poor performance.  Consider joining all columns at once using pd.concat(axis=1) instead. To get a de-fragmented frame, use `newframe = frame.copy()`\n",
      "  data[col] = array.apply(lambda x : col in x)\n",
      "C:\\Users\\robin\\AppData\\Local\\Temp\\ipykernel_10812\\3072187195.py:7: PerformanceWarning: DataFrame is highly fragmented.  This is usually the result of calling `frame.insert` many times, which has poor performance.  Consider joining all columns at once using pd.concat(axis=1) instead. To get a de-fragmented frame, use `newframe = frame.copy()`\n",
      "  data[col] = array.apply(lambda x : col in x)\n",
      "C:\\Users\\robin\\AppData\\Local\\Temp\\ipykernel_10812\\3072187195.py:7: PerformanceWarning: DataFrame is highly fragmented.  This is usually the result of calling `frame.insert` many times, which has poor performance.  Consider joining all columns at once using pd.concat(axis=1) instead. To get a de-fragmented frame, use `newframe = frame.copy()`\n",
      "  data[col] = array.apply(lambda x : col in x)\n",
      "C:\\Users\\robin\\AppData\\Local\\Temp\\ipykernel_10812\\3072187195.py:7: PerformanceWarning: DataFrame is highly fragmented.  This is usually the result of calling `frame.insert` many times, which has poor performance.  Consider joining all columns at once using pd.concat(axis=1) instead. To get a de-fragmented frame, use `newframe = frame.copy()`\n",
      "  data[col] = array.apply(lambda x : col in x)\n",
      "C:\\Users\\robin\\AppData\\Local\\Temp\\ipykernel_10812\\3072187195.py:7: PerformanceWarning: DataFrame is highly fragmented.  This is usually the result of calling `frame.insert` many times, which has poor performance.  Consider joining all columns at once using pd.concat(axis=1) instead. To get a de-fragmented frame, use `newframe = frame.copy()`\n",
      "  data[col] = array.apply(lambda x : col in x)\n",
      "C:\\Users\\robin\\AppData\\Local\\Temp\\ipykernel_10812\\3072187195.py:7: PerformanceWarning: DataFrame is highly fragmented.  This is usually the result of calling `frame.insert` many times, which has poor performance.  Consider joining all columns at once using pd.concat(axis=1) instead. To get a de-fragmented frame, use `newframe = frame.copy()`\n",
      "  data[col] = array.apply(lambda x : col in x)\n",
      "C:\\Users\\robin\\AppData\\Local\\Temp\\ipykernel_10812\\3072187195.py:7: PerformanceWarning: DataFrame is highly fragmented.  This is usually the result of calling `frame.insert` many times, which has poor performance.  Consider joining all columns at once using pd.concat(axis=1) instead. To get a de-fragmented frame, use `newframe = frame.copy()`\n",
      "  data[col] = array.apply(lambda x : col in x)\n",
      "C:\\Users\\robin\\AppData\\Local\\Temp\\ipykernel_10812\\3072187195.py:7: PerformanceWarning: DataFrame is highly fragmented.  This is usually the result of calling `frame.insert` many times, which has poor performance.  Consider joining all columns at once using pd.concat(axis=1) instead. To get a de-fragmented frame, use `newframe = frame.copy()`\n",
      "  data[col] = array.apply(lambda x : col in x)\n",
      "C:\\Users\\robin\\AppData\\Local\\Temp\\ipykernel_10812\\3072187195.py:7: PerformanceWarning: DataFrame is highly fragmented.  This is usually the result of calling `frame.insert` many times, which has poor performance.  Consider joining all columns at once using pd.concat(axis=1) instead. To get a de-fragmented frame, use `newframe = frame.copy()`\n",
      "  data[col] = array.apply(lambda x : col in x)\n",
      "C:\\Users\\robin\\AppData\\Local\\Temp\\ipykernel_10812\\3072187195.py:7: PerformanceWarning: DataFrame is highly fragmented.  This is usually the result of calling `frame.insert` many times, which has poor performance.  Consider joining all columns at once using pd.concat(axis=1) instead. To get a de-fragmented frame, use `newframe = frame.copy()`\n",
      "  data[col] = array.apply(lambda x : col in x)\n",
      "C:\\Users\\robin\\AppData\\Local\\Temp\\ipykernel_10812\\3072187195.py:7: PerformanceWarning: DataFrame is highly fragmented.  This is usually the result of calling `frame.insert` many times, which has poor performance.  Consider joining all columns at once using pd.concat(axis=1) instead. To get a de-fragmented frame, use `newframe = frame.copy()`\n",
      "  data[col] = array.apply(lambda x : col in x)\n",
      "C:\\Users\\robin\\AppData\\Local\\Temp\\ipykernel_10812\\3072187195.py:7: PerformanceWarning: DataFrame is highly fragmented.  This is usually the result of calling `frame.insert` many times, which has poor performance.  Consider joining all columns at once using pd.concat(axis=1) instead. To get a de-fragmented frame, use `newframe = frame.copy()`\n",
      "  data[col] = array.apply(lambda x : col in x)\n",
      "C:\\Users\\robin\\AppData\\Local\\Temp\\ipykernel_10812\\3072187195.py:7: PerformanceWarning: DataFrame is highly fragmented.  This is usually the result of calling `frame.insert` many times, which has poor performance.  Consider joining all columns at once using pd.concat(axis=1) instead. To get a de-fragmented frame, use `newframe = frame.copy()`\n",
      "  data[col] = array.apply(lambda x : col in x)\n",
      "C:\\Users\\robin\\AppData\\Local\\Temp\\ipykernel_10812\\3072187195.py:7: PerformanceWarning: DataFrame is highly fragmented.  This is usually the result of calling `frame.insert` many times, which has poor performance.  Consider joining all columns at once using pd.concat(axis=1) instead. To get a de-fragmented frame, use `newframe = frame.copy()`\n",
      "  data[col] = array.apply(lambda x : col in x)\n",
      "C:\\Users\\robin\\AppData\\Local\\Temp\\ipykernel_10812\\3072187195.py:7: PerformanceWarning: DataFrame is highly fragmented.  This is usually the result of calling `frame.insert` many times, which has poor performance.  Consider joining all columns at once using pd.concat(axis=1) instead. To get a de-fragmented frame, use `newframe = frame.copy()`\n",
      "  data[col] = array.apply(lambda x : col in x)\n",
      "C:\\Users\\robin\\AppData\\Local\\Temp\\ipykernel_10812\\3072187195.py:7: PerformanceWarning: DataFrame is highly fragmented.  This is usually the result of calling `frame.insert` many times, which has poor performance.  Consider joining all columns at once using pd.concat(axis=1) instead. To get a de-fragmented frame, use `newframe = frame.copy()`\n",
      "  data[col] = array.apply(lambda x : col in x)\n",
      "C:\\Users\\robin\\AppData\\Local\\Temp\\ipykernel_10812\\3072187195.py:7: PerformanceWarning: DataFrame is highly fragmented.  This is usually the result of calling `frame.insert` many times, which has poor performance.  Consider joining all columns at once using pd.concat(axis=1) instead. To get a de-fragmented frame, use `newframe = frame.copy()`\n",
      "  data[col] = array.apply(lambda x : col in x)\n",
      "C:\\Users\\robin\\AppData\\Local\\Temp\\ipykernel_10812\\3072187195.py:7: PerformanceWarning: DataFrame is highly fragmented.  This is usually the result of calling `frame.insert` many times, which has poor performance.  Consider joining all columns at once using pd.concat(axis=1) instead. To get a de-fragmented frame, use `newframe = frame.copy()`\n",
      "  data[col] = array.apply(lambda x : col in x)\n",
      "C:\\Users\\robin\\AppData\\Local\\Temp\\ipykernel_10812\\3072187195.py:7: PerformanceWarning: DataFrame is highly fragmented.  This is usually the result of calling `frame.insert` many times, which has poor performance.  Consider joining all columns at once using pd.concat(axis=1) instead. To get a de-fragmented frame, use `newframe = frame.copy()`\n",
      "  data[col] = array.apply(lambda x : col in x)\n",
      "C:\\Users\\robin\\AppData\\Local\\Temp\\ipykernel_10812\\3072187195.py:7: PerformanceWarning: DataFrame is highly fragmented.  This is usually the result of calling `frame.insert` many times, which has poor performance.  Consider joining all columns at once using pd.concat(axis=1) instead. To get a de-fragmented frame, use `newframe = frame.copy()`\n",
      "  data[col] = array.apply(lambda x : col in x)\n",
      "C:\\Users\\robin\\AppData\\Local\\Temp\\ipykernel_10812\\3072187195.py:7: PerformanceWarning: DataFrame is highly fragmented.  This is usually the result of calling `frame.insert` many times, which has poor performance.  Consider joining all columns at once using pd.concat(axis=1) instead. To get a de-fragmented frame, use `newframe = frame.copy()`\n",
      "  data[col] = array.apply(lambda x : col in x)\n",
      "C:\\Users\\robin\\AppData\\Local\\Temp\\ipykernel_10812\\3072187195.py:7: PerformanceWarning: DataFrame is highly fragmented.  This is usually the result of calling `frame.insert` many times, which has poor performance.  Consider joining all columns at once using pd.concat(axis=1) instead. To get a de-fragmented frame, use `newframe = frame.copy()`\n",
      "  data[col] = array.apply(lambda x : col in x)\n",
      "C:\\Users\\robin\\AppData\\Local\\Temp\\ipykernel_10812\\3072187195.py:7: PerformanceWarning: DataFrame is highly fragmented.  This is usually the result of calling `frame.insert` many times, which has poor performance.  Consider joining all columns at once using pd.concat(axis=1) instead. To get a de-fragmented frame, use `newframe = frame.copy()`\n",
      "  data[col] = array.apply(lambda x : col in x)\n",
      "C:\\Users\\robin\\AppData\\Local\\Temp\\ipykernel_10812\\3072187195.py:7: PerformanceWarning: DataFrame is highly fragmented.  This is usually the result of calling `frame.insert` many times, which has poor performance.  Consider joining all columns at once using pd.concat(axis=1) instead. To get a de-fragmented frame, use `newframe = frame.copy()`\n",
      "  data[col] = array.apply(lambda x : col in x)\n",
      "C:\\Users\\robin\\AppData\\Local\\Temp\\ipykernel_10812\\3072187195.py:7: PerformanceWarning: DataFrame is highly fragmented.  This is usually the result of calling `frame.insert` many times, which has poor performance.  Consider joining all columns at once using pd.concat(axis=1) instead. To get a de-fragmented frame, use `newframe = frame.copy()`\n",
      "  data[col] = array.apply(lambda x : col in x)\n",
      "C:\\Users\\robin\\AppData\\Local\\Temp\\ipykernel_10812\\3072187195.py:7: PerformanceWarning: DataFrame is highly fragmented.  This is usually the result of calling `frame.insert` many times, which has poor performance.  Consider joining all columns at once using pd.concat(axis=1) instead. To get a de-fragmented frame, use `newframe = frame.copy()`\n",
      "  data[col] = array.apply(lambda x : col in x)\n",
      "C:\\Users\\robin\\AppData\\Local\\Temp\\ipykernel_10812\\3072187195.py:7: PerformanceWarning: DataFrame is highly fragmented.  This is usually the result of calling `frame.insert` many times, which has poor performance.  Consider joining all columns at once using pd.concat(axis=1) instead. To get a de-fragmented frame, use `newframe = frame.copy()`\n",
      "  data[col] = array.apply(lambda x : col in x)\n",
      "C:\\Users\\robin\\AppData\\Local\\Temp\\ipykernel_10812\\3072187195.py:7: PerformanceWarning: DataFrame is highly fragmented.  This is usually the result of calling `frame.insert` many times, which has poor performance.  Consider joining all columns at once using pd.concat(axis=1) instead. To get a de-fragmented frame, use `newframe = frame.copy()`\n",
      "  data[col] = array.apply(lambda x : col in x)\n",
      "C:\\Users\\robin\\AppData\\Local\\Temp\\ipykernel_10812\\3072187195.py:7: PerformanceWarning: DataFrame is highly fragmented.  This is usually the result of calling `frame.insert` many times, which has poor performance.  Consider joining all columns at once using pd.concat(axis=1) instead. To get a de-fragmented frame, use `newframe = frame.copy()`\n",
      "  data[col] = array.apply(lambda x : col in x)\n",
      "C:\\Users\\robin\\AppData\\Local\\Temp\\ipykernel_10812\\3072187195.py:7: PerformanceWarning: DataFrame is highly fragmented.  This is usually the result of calling `frame.insert` many times, which has poor performance.  Consider joining all columns at once using pd.concat(axis=1) instead. To get a de-fragmented frame, use `newframe = frame.copy()`\n",
      "  data[col] = array.apply(lambda x : col in x)\n",
      "C:\\Users\\robin\\AppData\\Local\\Temp\\ipykernel_10812\\3072187195.py:7: PerformanceWarning: DataFrame is highly fragmented.  This is usually the result of calling `frame.insert` many times, which has poor performance.  Consider joining all columns at once using pd.concat(axis=1) instead. To get a de-fragmented frame, use `newframe = frame.copy()`\n",
      "  data[col] = array.apply(lambda x : col in x)\n",
      "C:\\Users\\robin\\AppData\\Local\\Temp\\ipykernel_10812\\3072187195.py:7: PerformanceWarning: DataFrame is highly fragmented.  This is usually the result of calling `frame.insert` many times, which has poor performance.  Consider joining all columns at once using pd.concat(axis=1) instead. To get a de-fragmented frame, use `newframe = frame.copy()`\n",
      "  data[col] = array.apply(lambda x : col in x)\n",
      "C:\\Users\\robin\\AppData\\Local\\Temp\\ipykernel_10812\\3072187195.py:7: PerformanceWarning: DataFrame is highly fragmented.  This is usually the result of calling `frame.insert` many times, which has poor performance.  Consider joining all columns at once using pd.concat(axis=1) instead. To get a de-fragmented frame, use `newframe = frame.copy()`\n",
      "  data[col] = array.apply(lambda x : col in x)\n",
      "C:\\Users\\robin\\AppData\\Local\\Temp\\ipykernel_10812\\3072187195.py:7: PerformanceWarning: DataFrame is highly fragmented.  This is usually the result of calling `frame.insert` many times, which has poor performance.  Consider joining all columns at once using pd.concat(axis=1) instead. To get a de-fragmented frame, use `newframe = frame.copy()`\n",
      "  data[col] = array.apply(lambda x : col in x)\n",
      "C:\\Users\\robin\\AppData\\Local\\Temp\\ipykernel_10812\\3072187195.py:7: PerformanceWarning: DataFrame is highly fragmented.  This is usually the result of calling `frame.insert` many times, which has poor performance.  Consider joining all columns at once using pd.concat(axis=1) instead. To get a de-fragmented frame, use `newframe = frame.copy()`\n",
      "  data[col] = array.apply(lambda x : col in x)\n",
      "C:\\Users\\robin\\AppData\\Local\\Temp\\ipykernel_10812\\3072187195.py:7: PerformanceWarning: DataFrame is highly fragmented.  This is usually the result of calling `frame.insert` many times, which has poor performance.  Consider joining all columns at once using pd.concat(axis=1) instead. To get a de-fragmented frame, use `newframe = frame.copy()`\n",
      "  data[col] = array.apply(lambda x : col in x)\n",
      "C:\\Users\\robin\\AppData\\Local\\Temp\\ipykernel_10812\\3072187195.py:7: PerformanceWarning: DataFrame is highly fragmented.  This is usually the result of calling `frame.insert` many times, which has poor performance.  Consider joining all columns at once using pd.concat(axis=1) instead. To get a de-fragmented frame, use `newframe = frame.copy()`\n",
      "  data[col] = array.apply(lambda x : col in x)\n",
      "C:\\Users\\robin\\AppData\\Local\\Temp\\ipykernel_10812\\3072187195.py:7: PerformanceWarning: DataFrame is highly fragmented.  This is usually the result of calling `frame.insert` many times, which has poor performance.  Consider joining all columns at once using pd.concat(axis=1) instead. To get a de-fragmented frame, use `newframe = frame.copy()`\n",
      "  data[col] = array.apply(lambda x : col in x)\n",
      "C:\\Users\\robin\\AppData\\Local\\Temp\\ipykernel_10812\\3072187195.py:7: PerformanceWarning: DataFrame is highly fragmented.  This is usually the result of calling `frame.insert` many times, which has poor performance.  Consider joining all columns at once using pd.concat(axis=1) instead. To get a de-fragmented frame, use `newframe = frame.copy()`\n",
      "  data[col] = array.apply(lambda x : col in x)\n",
      "C:\\Users\\robin\\AppData\\Local\\Temp\\ipykernel_10812\\3072187195.py:7: PerformanceWarning: DataFrame is highly fragmented.  This is usually the result of calling `frame.insert` many times, which has poor performance.  Consider joining all columns at once using pd.concat(axis=1) instead. To get a de-fragmented frame, use `newframe = frame.copy()`\n",
      "  data[col] = array.apply(lambda x : col in x)\n",
      "C:\\Users\\robin\\AppData\\Local\\Temp\\ipykernel_10812\\3072187195.py:7: PerformanceWarning: DataFrame is highly fragmented.  This is usually the result of calling `frame.insert` many times, which has poor performance.  Consider joining all columns at once using pd.concat(axis=1) instead. To get a de-fragmented frame, use `newframe = frame.copy()`\n",
      "  data[col] = array.apply(lambda x : col in x)\n",
      "C:\\Users\\robin\\AppData\\Local\\Temp\\ipykernel_10812\\3072187195.py:7: PerformanceWarning: DataFrame is highly fragmented.  This is usually the result of calling `frame.insert` many times, which has poor performance.  Consider joining all columns at once using pd.concat(axis=1) instead. To get a de-fragmented frame, use `newframe = frame.copy()`\n",
      "  data[col] = array.apply(lambda x : col in x)\n",
      "C:\\Users\\robin\\AppData\\Local\\Temp\\ipykernel_10812\\3072187195.py:7: PerformanceWarning: DataFrame is highly fragmented.  This is usually the result of calling `frame.insert` many times, which has poor performance.  Consider joining all columns at once using pd.concat(axis=1) instead. To get a de-fragmented frame, use `newframe = frame.copy()`\n",
      "  data[col] = array.apply(lambda x : col in x)\n",
      "C:\\Users\\robin\\AppData\\Local\\Temp\\ipykernel_10812\\3072187195.py:7: PerformanceWarning: DataFrame is highly fragmented.  This is usually the result of calling `frame.insert` many times, which has poor performance.  Consider joining all columns at once using pd.concat(axis=1) instead. To get a de-fragmented frame, use `newframe = frame.copy()`\n",
      "  data[col] = array.apply(lambda x : col in x)\n",
      "C:\\Users\\robin\\AppData\\Local\\Temp\\ipykernel_10812\\3072187195.py:7: PerformanceWarning: DataFrame is highly fragmented.  This is usually the result of calling `frame.insert` many times, which has poor performance.  Consider joining all columns at once using pd.concat(axis=1) instead. To get a de-fragmented frame, use `newframe = frame.copy()`\n",
      "  data[col] = array.apply(lambda x : col in x)\n",
      "C:\\Users\\robin\\AppData\\Local\\Temp\\ipykernel_10812\\3072187195.py:7: PerformanceWarning: DataFrame is highly fragmented.  This is usually the result of calling `frame.insert` many times, which has poor performance.  Consider joining all columns at once using pd.concat(axis=1) instead. To get a de-fragmented frame, use `newframe = frame.copy()`\n",
      "  data[col] = array.apply(lambda x : col in x)\n",
      "C:\\Users\\robin\\AppData\\Local\\Temp\\ipykernel_10812\\3072187195.py:7: PerformanceWarning: DataFrame is highly fragmented.  This is usually the result of calling `frame.insert` many times, which has poor performance.  Consider joining all columns at once using pd.concat(axis=1) instead. To get a de-fragmented frame, use `newframe = frame.copy()`\n",
      "  data[col] = array.apply(lambda x : col in x)\n",
      "C:\\Users\\robin\\AppData\\Local\\Temp\\ipykernel_10812\\3072187195.py:7: PerformanceWarning: DataFrame is highly fragmented.  This is usually the result of calling `frame.insert` many times, which has poor performance.  Consider joining all columns at once using pd.concat(axis=1) instead. To get a de-fragmented frame, use `newframe = frame.copy()`\n",
      "  data[col] = array.apply(lambda x : col in x)\n",
      "C:\\Users\\robin\\AppData\\Local\\Temp\\ipykernel_10812\\3072187195.py:7: PerformanceWarning: DataFrame is highly fragmented.  This is usually the result of calling `frame.insert` many times, which has poor performance.  Consider joining all columns at once using pd.concat(axis=1) instead. To get a de-fragmented frame, use `newframe = frame.copy()`\n",
      "  data[col] = array.apply(lambda x : col in x)\n",
      "C:\\Users\\robin\\AppData\\Local\\Temp\\ipykernel_10812\\3072187195.py:7: PerformanceWarning: DataFrame is highly fragmented.  This is usually the result of calling `frame.insert` many times, which has poor performance.  Consider joining all columns at once using pd.concat(axis=1) instead. To get a de-fragmented frame, use `newframe = frame.copy()`\n",
      "  data[col] = array.apply(lambda x : col in x)\n",
      "C:\\Users\\robin\\AppData\\Local\\Temp\\ipykernel_10812\\3072187195.py:7: PerformanceWarning: DataFrame is highly fragmented.  This is usually the result of calling `frame.insert` many times, which has poor performance.  Consider joining all columns at once using pd.concat(axis=1) instead. To get a de-fragmented frame, use `newframe = frame.copy()`\n",
      "  data[col] = array.apply(lambda x : col in x)\n",
      "C:\\Users\\robin\\AppData\\Local\\Temp\\ipykernel_10812\\3072187195.py:7: PerformanceWarning: DataFrame is highly fragmented.  This is usually the result of calling `frame.insert` many times, which has poor performance.  Consider joining all columns at once using pd.concat(axis=1) instead. To get a de-fragmented frame, use `newframe = frame.copy()`\n",
      "  data[col] = array.apply(lambda x : col in x)\n",
      "C:\\Users\\robin\\AppData\\Local\\Temp\\ipykernel_10812\\3072187195.py:7: PerformanceWarning: DataFrame is highly fragmented.  This is usually the result of calling `frame.insert` many times, which has poor performance.  Consider joining all columns at once using pd.concat(axis=1) instead. To get a de-fragmented frame, use `newframe = frame.copy()`\n",
      "  data[col] = array.apply(lambda x : col in x)\n",
      "C:\\Users\\robin\\AppData\\Local\\Temp\\ipykernel_10812\\3072187195.py:7: PerformanceWarning: DataFrame is highly fragmented.  This is usually the result of calling `frame.insert` many times, which has poor performance.  Consider joining all columns at once using pd.concat(axis=1) instead. To get a de-fragmented frame, use `newframe = frame.copy()`\n",
      "  data[col] = array.apply(lambda x : col in x)\n",
      "C:\\Users\\robin\\AppData\\Local\\Temp\\ipykernel_10812\\3072187195.py:7: PerformanceWarning: DataFrame is highly fragmented.  This is usually the result of calling `frame.insert` many times, which has poor performance.  Consider joining all columns at once using pd.concat(axis=1) instead. To get a de-fragmented frame, use `newframe = frame.copy()`\n",
      "  data[col] = array.apply(lambda x : col in x)\n",
      "C:\\Users\\robin\\AppData\\Local\\Temp\\ipykernel_10812\\3072187195.py:7: PerformanceWarning: DataFrame is highly fragmented.  This is usually the result of calling `frame.insert` many times, which has poor performance.  Consider joining all columns at once using pd.concat(axis=1) instead. To get a de-fragmented frame, use `newframe = frame.copy()`\n",
      "  data[col] = array.apply(lambda x : col in x)\n",
      "C:\\Users\\robin\\AppData\\Local\\Temp\\ipykernel_10812\\3072187195.py:7: PerformanceWarning: DataFrame is highly fragmented.  This is usually the result of calling `frame.insert` many times, which has poor performance.  Consider joining all columns at once using pd.concat(axis=1) instead. To get a de-fragmented frame, use `newframe = frame.copy()`\n",
      "  data[col] = array.apply(lambda x : col in x)\n",
      "C:\\Users\\robin\\AppData\\Local\\Temp\\ipykernel_10812\\3072187195.py:7: PerformanceWarning: DataFrame is highly fragmented.  This is usually the result of calling `frame.insert` many times, which has poor performance.  Consider joining all columns at once using pd.concat(axis=1) instead. To get a de-fragmented frame, use `newframe = frame.copy()`\n",
      "  data[col] = array.apply(lambda x : col in x)\n",
      "C:\\Users\\robin\\AppData\\Local\\Temp\\ipykernel_10812\\3072187195.py:7: PerformanceWarning: DataFrame is highly fragmented.  This is usually the result of calling `frame.insert` many times, which has poor performance.  Consider joining all columns at once using pd.concat(axis=1) instead. To get a de-fragmented frame, use `newframe = frame.copy()`\n",
      "  data[col] = array.apply(lambda x : col in x)\n",
      "C:\\Users\\robin\\AppData\\Local\\Temp\\ipykernel_10812\\3072187195.py:7: PerformanceWarning: DataFrame is highly fragmented.  This is usually the result of calling `frame.insert` many times, which has poor performance.  Consider joining all columns at once using pd.concat(axis=1) instead. To get a de-fragmented frame, use `newframe = frame.copy()`\n",
      "  data[col] = array.apply(lambda x : col in x)\n",
      "C:\\Users\\robin\\AppData\\Local\\Temp\\ipykernel_10812\\3072187195.py:7: PerformanceWarning: DataFrame is highly fragmented.  This is usually the result of calling `frame.insert` many times, which has poor performance.  Consider joining all columns at once using pd.concat(axis=1) instead. To get a de-fragmented frame, use `newframe = frame.copy()`\n",
      "  data[col] = array.apply(lambda x : col in x)\n",
      "C:\\Users\\robin\\AppData\\Local\\Temp\\ipykernel_10812\\3072187195.py:7: PerformanceWarning: DataFrame is highly fragmented.  This is usually the result of calling `frame.insert` many times, which has poor performance.  Consider joining all columns at once using pd.concat(axis=1) instead. To get a de-fragmented frame, use `newframe = frame.copy()`\n",
      "  data[col] = array.apply(lambda x : col in x)\n",
      "C:\\Users\\robin\\AppData\\Local\\Temp\\ipykernel_10812\\3072187195.py:7: PerformanceWarning: DataFrame is highly fragmented.  This is usually the result of calling `frame.insert` many times, which has poor performance.  Consider joining all columns at once using pd.concat(axis=1) instead. To get a de-fragmented frame, use `newframe = frame.copy()`\n",
      "  data[col] = array.apply(lambda x : col in x)\n",
      "C:\\Users\\robin\\AppData\\Local\\Temp\\ipykernel_10812\\3072187195.py:7: PerformanceWarning: DataFrame is highly fragmented.  This is usually the result of calling `frame.insert` many times, which has poor performance.  Consider joining all columns at once using pd.concat(axis=1) instead. To get a de-fragmented frame, use `newframe = frame.copy()`\n",
      "  data[col] = array.apply(lambda x : col in x)\n",
      "C:\\Users\\robin\\AppData\\Local\\Temp\\ipykernel_10812\\3072187195.py:7: PerformanceWarning: DataFrame is highly fragmented.  This is usually the result of calling `frame.insert` many times, which has poor performance.  Consider joining all columns at once using pd.concat(axis=1) instead. To get a de-fragmented frame, use `newframe = frame.copy()`\n",
      "  data[col] = array.apply(lambda x : col in x)\n",
      "C:\\Users\\robin\\AppData\\Local\\Temp\\ipykernel_10812\\3072187195.py:7: PerformanceWarning: DataFrame is highly fragmented.  This is usually the result of calling `frame.insert` many times, which has poor performance.  Consider joining all columns at once using pd.concat(axis=1) instead. To get a de-fragmented frame, use `newframe = frame.copy()`\n",
      "  data[col] = array.apply(lambda x : col in x)\n",
      "C:\\Users\\robin\\AppData\\Local\\Temp\\ipykernel_10812\\3072187195.py:7: PerformanceWarning: DataFrame is highly fragmented.  This is usually the result of calling `frame.insert` many times, which has poor performance.  Consider joining all columns at once using pd.concat(axis=1) instead. To get a de-fragmented frame, use `newframe = frame.copy()`\n",
      "  data[col] = array.apply(lambda x : col in x)\n",
      "C:\\Users\\robin\\AppData\\Local\\Temp\\ipykernel_10812\\3072187195.py:7: PerformanceWarning: DataFrame is highly fragmented.  This is usually the result of calling `frame.insert` many times, which has poor performance.  Consider joining all columns at once using pd.concat(axis=1) instead. To get a de-fragmented frame, use `newframe = frame.copy()`\n",
      "  data[col] = array.apply(lambda x : col in x)\n",
      "C:\\Users\\robin\\AppData\\Local\\Temp\\ipykernel_10812\\3072187195.py:7: PerformanceWarning: DataFrame is highly fragmented.  This is usually the result of calling `frame.insert` many times, which has poor performance.  Consider joining all columns at once using pd.concat(axis=1) instead. To get a de-fragmented frame, use `newframe = frame.copy()`\n",
      "  data[col] = array.apply(lambda x : col in x)\n",
      "C:\\Users\\robin\\AppData\\Local\\Temp\\ipykernel_10812\\3072187195.py:7: PerformanceWarning: DataFrame is highly fragmented.  This is usually the result of calling `frame.insert` many times, which has poor performance.  Consider joining all columns at once using pd.concat(axis=1) instead. To get a de-fragmented frame, use `newframe = frame.copy()`\n",
      "  data[col] = array.apply(lambda x : col in x)\n",
      "C:\\Users\\robin\\AppData\\Local\\Temp\\ipykernel_10812\\3072187195.py:7: PerformanceWarning: DataFrame is highly fragmented.  This is usually the result of calling `frame.insert` many times, which has poor performance.  Consider joining all columns at once using pd.concat(axis=1) instead. To get a de-fragmented frame, use `newframe = frame.copy()`\n",
      "  data[col] = array.apply(lambda x : col in x)\n",
      "C:\\Users\\robin\\AppData\\Local\\Temp\\ipykernel_10812\\3072187195.py:7: PerformanceWarning: DataFrame is highly fragmented.  This is usually the result of calling `frame.insert` many times, which has poor performance.  Consider joining all columns at once using pd.concat(axis=1) instead. To get a de-fragmented frame, use `newframe = frame.copy()`\n",
      "  data[col] = array.apply(lambda x : col in x)\n",
      "C:\\Users\\robin\\AppData\\Local\\Temp\\ipykernel_10812\\3072187195.py:7: PerformanceWarning: DataFrame is highly fragmented.  This is usually the result of calling `frame.insert` many times, which has poor performance.  Consider joining all columns at once using pd.concat(axis=1) instead. To get a de-fragmented frame, use `newframe = frame.copy()`\n",
      "  data[col] = array.apply(lambda x : col in x)\n",
      "C:\\Users\\robin\\AppData\\Local\\Temp\\ipykernel_10812\\3072187195.py:7: PerformanceWarning: DataFrame is highly fragmented.  This is usually the result of calling `frame.insert` many times, which has poor performance.  Consider joining all columns at once using pd.concat(axis=1) instead. To get a de-fragmented frame, use `newframe = frame.copy()`\n",
      "  data[col] = array.apply(lambda x : col in x)\n",
      "C:\\Users\\robin\\AppData\\Local\\Temp\\ipykernel_10812\\3072187195.py:7: PerformanceWarning: DataFrame is highly fragmented.  This is usually the result of calling `frame.insert` many times, which has poor performance.  Consider joining all columns at once using pd.concat(axis=1) instead. To get a de-fragmented frame, use `newframe = frame.copy()`\n",
      "  data[col] = array.apply(lambda x : col in x)\n",
      "C:\\Users\\robin\\AppData\\Local\\Temp\\ipykernel_10812\\3072187195.py:7: PerformanceWarning: DataFrame is highly fragmented.  This is usually the result of calling `frame.insert` many times, which has poor performance.  Consider joining all columns at once using pd.concat(axis=1) instead. To get a de-fragmented frame, use `newframe = frame.copy()`\n",
      "  data[col] = array.apply(lambda x : col in x)\n",
      "C:\\Users\\robin\\AppData\\Local\\Temp\\ipykernel_10812\\3072187195.py:7: PerformanceWarning: DataFrame is highly fragmented.  This is usually the result of calling `frame.insert` many times, which has poor performance.  Consider joining all columns at once using pd.concat(axis=1) instead. To get a de-fragmented frame, use `newframe = frame.copy()`\n",
      "  data[col] = array.apply(lambda x : col in x)\n",
      "C:\\Users\\robin\\AppData\\Local\\Temp\\ipykernel_10812\\3072187195.py:7: PerformanceWarning: DataFrame is highly fragmented.  This is usually the result of calling `frame.insert` many times, which has poor performance.  Consider joining all columns at once using pd.concat(axis=1) instead. To get a de-fragmented frame, use `newframe = frame.copy()`\n",
      "  data[col] = array.apply(lambda x : col in x)\n",
      "C:\\Users\\robin\\AppData\\Local\\Temp\\ipykernel_10812\\3072187195.py:7: PerformanceWarning: DataFrame is highly fragmented.  This is usually the result of calling `frame.insert` many times, which has poor performance.  Consider joining all columns at once using pd.concat(axis=1) instead. To get a de-fragmented frame, use `newframe = frame.copy()`\n",
      "  data[col] = array.apply(lambda x : col in x)\n",
      "C:\\Users\\robin\\AppData\\Local\\Temp\\ipykernel_10812\\3072187195.py:7: PerformanceWarning: DataFrame is highly fragmented.  This is usually the result of calling `frame.insert` many times, which has poor performance.  Consider joining all columns at once using pd.concat(axis=1) instead. To get a de-fragmented frame, use `newframe = frame.copy()`\n",
      "  data[col] = array.apply(lambda x : col in x)\n",
      "C:\\Users\\robin\\AppData\\Local\\Temp\\ipykernel_10812\\3072187195.py:7: PerformanceWarning: DataFrame is highly fragmented.  This is usually the result of calling `frame.insert` many times, which has poor performance.  Consider joining all columns at once using pd.concat(axis=1) instead. To get a de-fragmented frame, use `newframe = frame.copy()`\n",
      "  data[col] = array.apply(lambda x : col in x)\n",
      "C:\\Users\\robin\\AppData\\Local\\Temp\\ipykernel_10812\\3072187195.py:7: PerformanceWarning: DataFrame is highly fragmented.  This is usually the result of calling `frame.insert` many times, which has poor performance.  Consider joining all columns at once using pd.concat(axis=1) instead. To get a de-fragmented frame, use `newframe = frame.copy()`\n",
      "  data[col] = array.apply(lambda x : col in x)\n",
      "C:\\Users\\robin\\AppData\\Local\\Temp\\ipykernel_10812\\3072187195.py:7: PerformanceWarning: DataFrame is highly fragmented.  This is usually the result of calling `frame.insert` many times, which has poor performance.  Consider joining all columns at once using pd.concat(axis=1) instead. To get a de-fragmented frame, use `newframe = frame.copy()`\n",
      "  data[col] = array.apply(lambda x : col in x)\n",
      "C:\\Users\\robin\\AppData\\Local\\Temp\\ipykernel_10812\\3072187195.py:7: PerformanceWarning: DataFrame is highly fragmented.  This is usually the result of calling `frame.insert` many times, which has poor performance.  Consider joining all columns at once using pd.concat(axis=1) instead. To get a de-fragmented frame, use `newframe = frame.copy()`\n",
      "  data[col] = array.apply(lambda x : col in x)\n",
      "C:\\Users\\robin\\AppData\\Local\\Temp\\ipykernel_10812\\3072187195.py:7: PerformanceWarning: DataFrame is highly fragmented.  This is usually the result of calling `frame.insert` many times, which has poor performance.  Consider joining all columns at once using pd.concat(axis=1) instead. To get a de-fragmented frame, use `newframe = frame.copy()`\n",
      "  data[col] = array.apply(lambda x : col in x)\n",
      "C:\\Users\\robin\\AppData\\Local\\Temp\\ipykernel_10812\\3072187195.py:7: PerformanceWarning: DataFrame is highly fragmented.  This is usually the result of calling `frame.insert` many times, which has poor performance.  Consider joining all columns at once using pd.concat(axis=1) instead. To get a de-fragmented frame, use `newframe = frame.copy()`\n",
      "  data[col] = array.apply(lambda x : col in x)\n",
      "C:\\Users\\robin\\AppData\\Local\\Temp\\ipykernel_10812\\3072187195.py:7: PerformanceWarning: DataFrame is highly fragmented.  This is usually the result of calling `frame.insert` many times, which has poor performance.  Consider joining all columns at once using pd.concat(axis=1) instead. To get a de-fragmented frame, use `newframe = frame.copy()`\n",
      "  data[col] = array.apply(lambda x : col in x)\n",
      "C:\\Users\\robin\\AppData\\Local\\Temp\\ipykernel_10812\\3072187195.py:7: PerformanceWarning: DataFrame is highly fragmented.  This is usually the result of calling `frame.insert` many times, which has poor performance.  Consider joining all columns at once using pd.concat(axis=1) instead. To get a de-fragmented frame, use `newframe = frame.copy()`\n",
      "  data[col] = array.apply(lambda x : col in x)\n",
      "C:\\Users\\robin\\AppData\\Local\\Temp\\ipykernel_10812\\3072187195.py:7: PerformanceWarning: DataFrame is highly fragmented.  This is usually the result of calling `frame.insert` many times, which has poor performance.  Consider joining all columns at once using pd.concat(axis=1) instead. To get a de-fragmented frame, use `newframe = frame.copy()`\n",
      "  data[col] = array.apply(lambda x : col in x)\n",
      "C:\\Users\\robin\\AppData\\Local\\Temp\\ipykernel_10812\\3072187195.py:7: PerformanceWarning: DataFrame is highly fragmented.  This is usually the result of calling `frame.insert` many times, which has poor performance.  Consider joining all columns at once using pd.concat(axis=1) instead. To get a de-fragmented frame, use `newframe = frame.copy()`\n",
      "  data[col] = array.apply(lambda x : col in x)\n",
      "C:\\Users\\robin\\AppData\\Local\\Temp\\ipykernel_10812\\3072187195.py:7: PerformanceWarning: DataFrame is highly fragmented.  This is usually the result of calling `frame.insert` many times, which has poor performance.  Consider joining all columns at once using pd.concat(axis=1) instead. To get a de-fragmented frame, use `newframe = frame.copy()`\n",
      "  data[col] = array.apply(lambda x : col in x)\n",
      "C:\\Users\\robin\\AppData\\Local\\Temp\\ipykernel_10812\\3072187195.py:7: PerformanceWarning: DataFrame is highly fragmented.  This is usually the result of calling `frame.insert` many times, which has poor performance.  Consider joining all columns at once using pd.concat(axis=1) instead. To get a de-fragmented frame, use `newframe = frame.copy()`\n",
      "  data[col] = array.apply(lambda x : col in x)\n",
      "C:\\Users\\robin\\AppData\\Local\\Temp\\ipykernel_10812\\3072187195.py:7: PerformanceWarning: DataFrame is highly fragmented.  This is usually the result of calling `frame.insert` many times, which has poor performance.  Consider joining all columns at once using pd.concat(axis=1) instead. To get a de-fragmented frame, use `newframe = frame.copy()`\n",
      "  data[col] = array.apply(lambda x : col in x)\n",
      "C:\\Users\\robin\\AppData\\Local\\Temp\\ipykernel_10812\\3072187195.py:7: PerformanceWarning: DataFrame is highly fragmented.  This is usually the result of calling `frame.insert` many times, which has poor performance.  Consider joining all columns at once using pd.concat(axis=1) instead. To get a de-fragmented frame, use `newframe = frame.copy()`\n",
      "  data[col] = array.apply(lambda x : col in x)\n",
      "C:\\Users\\robin\\AppData\\Local\\Temp\\ipykernel_10812\\3072187195.py:7: PerformanceWarning: DataFrame is highly fragmented.  This is usually the result of calling `frame.insert` many times, which has poor performance.  Consider joining all columns at once using pd.concat(axis=1) instead. To get a de-fragmented frame, use `newframe = frame.copy()`\n",
      "  data[col] = array.apply(lambda x : col in x)\n",
      "C:\\Users\\robin\\AppData\\Local\\Temp\\ipykernel_10812\\3072187195.py:7: PerformanceWarning: DataFrame is highly fragmented.  This is usually the result of calling `frame.insert` many times, which has poor performance.  Consider joining all columns at once using pd.concat(axis=1) instead. To get a de-fragmented frame, use `newframe = frame.copy()`\n",
      "  data[col] = array.apply(lambda x : col in x)\n",
      "C:\\Users\\robin\\AppData\\Local\\Temp\\ipykernel_10812\\3072187195.py:7: PerformanceWarning: DataFrame is highly fragmented.  This is usually the result of calling `frame.insert` many times, which has poor performance.  Consider joining all columns at once using pd.concat(axis=1) instead. To get a de-fragmented frame, use `newframe = frame.copy()`\n",
      "  data[col] = array.apply(lambda x : col in x)\n",
      "C:\\Users\\robin\\AppData\\Local\\Temp\\ipykernel_10812\\3072187195.py:7: PerformanceWarning: DataFrame is highly fragmented.  This is usually the result of calling `frame.insert` many times, which has poor performance.  Consider joining all columns at once using pd.concat(axis=1) instead. To get a de-fragmented frame, use `newframe = frame.copy()`\n",
      "  data[col] = array.apply(lambda x : col in x)\n",
      "C:\\Users\\robin\\AppData\\Local\\Temp\\ipykernel_10812\\3072187195.py:7: PerformanceWarning: DataFrame is highly fragmented.  This is usually the result of calling `frame.insert` many times, which has poor performance.  Consider joining all columns at once using pd.concat(axis=1) instead. To get a de-fragmented frame, use `newframe = frame.copy()`\n",
      "  data[col] = array.apply(lambda x : col in x)\n",
      "C:\\Users\\robin\\AppData\\Local\\Temp\\ipykernel_10812\\3072187195.py:7: PerformanceWarning: DataFrame is highly fragmented.  This is usually the result of calling `frame.insert` many times, which has poor performance.  Consider joining all columns at once using pd.concat(axis=1) instead. To get a de-fragmented frame, use `newframe = frame.copy()`\n",
      "  data[col] = array.apply(lambda x : col in x)\n",
      "C:\\Users\\robin\\AppData\\Local\\Temp\\ipykernel_10812\\3072187195.py:7: PerformanceWarning: DataFrame is highly fragmented.  This is usually the result of calling `frame.insert` many times, which has poor performance.  Consider joining all columns at once using pd.concat(axis=1) instead. To get a de-fragmented frame, use `newframe = frame.copy()`\n",
      "  data[col] = array.apply(lambda x : col in x)\n",
      "C:\\Users\\robin\\AppData\\Local\\Temp\\ipykernel_10812\\3072187195.py:7: PerformanceWarning: DataFrame is highly fragmented.  This is usually the result of calling `frame.insert` many times, which has poor performance.  Consider joining all columns at once using pd.concat(axis=1) instead. To get a de-fragmented frame, use `newframe = frame.copy()`\n",
      "  data[col] = array.apply(lambda x : col in x)\n",
      "C:\\Users\\robin\\AppData\\Local\\Temp\\ipykernel_10812\\3072187195.py:7: PerformanceWarning: DataFrame is highly fragmented.  This is usually the result of calling `frame.insert` many times, which has poor performance.  Consider joining all columns at once using pd.concat(axis=1) instead. To get a de-fragmented frame, use `newframe = frame.copy()`\n",
      "  data[col] = array.apply(lambda x : col in x)\n",
      "C:\\Users\\robin\\AppData\\Local\\Temp\\ipykernel_10812\\3072187195.py:7: PerformanceWarning: DataFrame is highly fragmented.  This is usually the result of calling `frame.insert` many times, which has poor performance.  Consider joining all columns at once using pd.concat(axis=1) instead. To get a de-fragmented frame, use `newframe = frame.copy()`\n",
      "  data[col] = array.apply(lambda x : col in x)\n",
      "C:\\Users\\robin\\AppData\\Local\\Temp\\ipykernel_10812\\3072187195.py:7: PerformanceWarning: DataFrame is highly fragmented.  This is usually the result of calling `frame.insert` many times, which has poor performance.  Consider joining all columns at once using pd.concat(axis=1) instead. To get a de-fragmented frame, use `newframe = frame.copy()`\n",
      "  data[col] = array.apply(lambda x : col in x)\n",
      "C:\\Users\\robin\\AppData\\Local\\Temp\\ipykernel_10812\\3072187195.py:7: PerformanceWarning: DataFrame is highly fragmented.  This is usually the result of calling `frame.insert` many times, which has poor performance.  Consider joining all columns at once using pd.concat(axis=1) instead. To get a de-fragmented frame, use `newframe = frame.copy()`\n",
      "  data[col] = array.apply(lambda x : col in x)\n",
      "C:\\Users\\robin\\AppData\\Local\\Temp\\ipykernel_10812\\3072187195.py:7: PerformanceWarning: DataFrame is highly fragmented.  This is usually the result of calling `frame.insert` many times, which has poor performance.  Consider joining all columns at once using pd.concat(axis=1) instead. To get a de-fragmented frame, use `newframe = frame.copy()`\n",
      "  data[col] = array.apply(lambda x : col in x)\n",
      "C:\\Users\\robin\\AppData\\Local\\Temp\\ipykernel_10812\\3072187195.py:7: PerformanceWarning: DataFrame is highly fragmented.  This is usually the result of calling `frame.insert` many times, which has poor performance.  Consider joining all columns at once using pd.concat(axis=1) instead. To get a de-fragmented frame, use `newframe = frame.copy()`\n",
      "  data[col] = array.apply(lambda x : col in x)\n",
      "C:\\Users\\robin\\AppData\\Local\\Temp\\ipykernel_10812\\3072187195.py:7: PerformanceWarning: DataFrame is highly fragmented.  This is usually the result of calling `frame.insert` many times, which has poor performance.  Consider joining all columns at once using pd.concat(axis=1) instead. To get a de-fragmented frame, use `newframe = frame.copy()`\n",
      "  data[col] = array.apply(lambda x : col in x)\n",
      "C:\\Users\\robin\\AppData\\Local\\Temp\\ipykernel_10812\\3072187195.py:7: PerformanceWarning: DataFrame is highly fragmented.  This is usually the result of calling `frame.insert` many times, which has poor performance.  Consider joining all columns at once using pd.concat(axis=1) instead. To get a de-fragmented frame, use `newframe = frame.copy()`\n",
      "  data[col] = array.apply(lambda x : col in x)\n",
      "C:\\Users\\robin\\AppData\\Local\\Temp\\ipykernel_10812\\3072187195.py:7: PerformanceWarning: DataFrame is highly fragmented.  This is usually the result of calling `frame.insert` many times, which has poor performance.  Consider joining all columns at once using pd.concat(axis=1) instead. To get a de-fragmented frame, use `newframe = frame.copy()`\n",
      "  data[col] = array.apply(lambda x : col in x)\n",
      "C:\\Users\\robin\\AppData\\Local\\Temp\\ipykernel_10812\\3072187195.py:7: PerformanceWarning: DataFrame is highly fragmented.  This is usually the result of calling `frame.insert` many times, which has poor performance.  Consider joining all columns at once using pd.concat(axis=1) instead. To get a de-fragmented frame, use `newframe = frame.copy()`\n",
      "  data[col] = array.apply(lambda x : col in x)\n",
      "C:\\Users\\robin\\AppData\\Local\\Temp\\ipykernel_10812\\3072187195.py:7: PerformanceWarning: DataFrame is highly fragmented.  This is usually the result of calling `frame.insert` many times, which has poor performance.  Consider joining all columns at once using pd.concat(axis=1) instead. To get a de-fragmented frame, use `newframe = frame.copy()`\n",
      "  data[col] = array.apply(lambda x : col in x)\n",
      "C:\\Users\\robin\\AppData\\Local\\Temp\\ipykernel_10812\\3072187195.py:7: PerformanceWarning: DataFrame is highly fragmented.  This is usually the result of calling `frame.insert` many times, which has poor performance.  Consider joining all columns at once using pd.concat(axis=1) instead. To get a de-fragmented frame, use `newframe = frame.copy()`\n",
      "  data[col] = array.apply(lambda x : col in x)\n",
      "C:\\Users\\robin\\AppData\\Local\\Temp\\ipykernel_10812\\3072187195.py:7: PerformanceWarning: DataFrame is highly fragmented.  This is usually the result of calling `frame.insert` many times, which has poor performance.  Consider joining all columns at once using pd.concat(axis=1) instead. To get a de-fragmented frame, use `newframe = frame.copy()`\n",
      "  data[col] = array.apply(lambda x : col in x)\n",
      "C:\\Users\\robin\\AppData\\Local\\Temp\\ipykernel_10812\\3072187195.py:7: PerformanceWarning: DataFrame is highly fragmented.  This is usually the result of calling `frame.insert` many times, which has poor performance.  Consider joining all columns at once using pd.concat(axis=1) instead. To get a de-fragmented frame, use `newframe = frame.copy()`\n",
      "  data[col] = array.apply(lambda x : col in x)\n",
      "C:\\Users\\robin\\AppData\\Local\\Temp\\ipykernel_10812\\3072187195.py:7: PerformanceWarning: DataFrame is highly fragmented.  This is usually the result of calling `frame.insert` many times, which has poor performance.  Consider joining all columns at once using pd.concat(axis=1) instead. To get a de-fragmented frame, use `newframe = frame.copy()`\n",
      "  data[col] = array.apply(lambda x : col in x)\n",
      "C:\\Users\\robin\\AppData\\Local\\Temp\\ipykernel_10812\\3072187195.py:7: PerformanceWarning: DataFrame is highly fragmented.  This is usually the result of calling `frame.insert` many times, which has poor performance.  Consider joining all columns at once using pd.concat(axis=1) instead. To get a de-fragmented frame, use `newframe = frame.copy()`\n",
      "  data[col] = array.apply(lambda x : col in x)\n",
      "C:\\Users\\robin\\AppData\\Local\\Temp\\ipykernel_10812\\3072187195.py:7: PerformanceWarning: DataFrame is highly fragmented.  This is usually the result of calling `frame.insert` many times, which has poor performance.  Consider joining all columns at once using pd.concat(axis=1) instead. To get a de-fragmented frame, use `newframe = frame.copy()`\n",
      "  data[col] = array.apply(lambda x : col in x)\n",
      "C:\\Users\\robin\\AppData\\Local\\Temp\\ipykernel_10812\\3072187195.py:7: PerformanceWarning: DataFrame is highly fragmented.  This is usually the result of calling `frame.insert` many times, which has poor performance.  Consider joining all columns at once using pd.concat(axis=1) instead. To get a de-fragmented frame, use `newframe = frame.copy()`\n",
      "  data[col] = array.apply(lambda x : col in x)\n",
      "C:\\Users\\robin\\AppData\\Local\\Temp\\ipykernel_10812\\3072187195.py:7: PerformanceWarning: DataFrame is highly fragmented.  This is usually the result of calling `frame.insert` many times, which has poor performance.  Consider joining all columns at once using pd.concat(axis=1) instead. To get a de-fragmented frame, use `newframe = frame.copy()`\n",
      "  data[col] = array.apply(lambda x : col in x)\n",
      "C:\\Users\\robin\\AppData\\Local\\Temp\\ipykernel_10812\\3072187195.py:7: PerformanceWarning: DataFrame is highly fragmented.  This is usually the result of calling `frame.insert` many times, which has poor performance.  Consider joining all columns at once using pd.concat(axis=1) instead. To get a de-fragmented frame, use `newframe = frame.copy()`\n",
      "  data[col] = array.apply(lambda x : col in x)\n",
      "C:\\Users\\robin\\AppData\\Local\\Temp\\ipykernel_10812\\3072187195.py:7: PerformanceWarning: DataFrame is highly fragmented.  This is usually the result of calling `frame.insert` many times, which has poor performance.  Consider joining all columns at once using pd.concat(axis=1) instead. To get a de-fragmented frame, use `newframe = frame.copy()`\n",
      "  data[col] = array.apply(lambda x : col in x)\n",
      "C:\\Users\\robin\\AppData\\Local\\Temp\\ipykernel_10812\\3072187195.py:7: PerformanceWarning: DataFrame is highly fragmented.  This is usually the result of calling `frame.insert` many times, which has poor performance.  Consider joining all columns at once using pd.concat(axis=1) instead. To get a de-fragmented frame, use `newframe = frame.copy()`\n",
      "  data[col] = array.apply(lambda x : col in x)\n",
      "C:\\Users\\robin\\AppData\\Local\\Temp\\ipykernel_10812\\3072187195.py:7: PerformanceWarning: DataFrame is highly fragmented.  This is usually the result of calling `frame.insert` many times, which has poor performance.  Consider joining all columns at once using pd.concat(axis=1) instead. To get a de-fragmented frame, use `newframe = frame.copy()`\n",
      "  data[col] = array.apply(lambda x : col in x)\n",
      "C:\\Users\\robin\\AppData\\Local\\Temp\\ipykernel_10812\\3072187195.py:7: PerformanceWarning: DataFrame is highly fragmented.  This is usually the result of calling `frame.insert` many times, which has poor performance.  Consider joining all columns at once using pd.concat(axis=1) instead. To get a de-fragmented frame, use `newframe = frame.copy()`\n",
      "  data[col] = array.apply(lambda x : col in x)\n",
      "C:\\Users\\robin\\AppData\\Local\\Temp\\ipykernel_10812\\3072187195.py:7: PerformanceWarning: DataFrame is highly fragmented.  This is usually the result of calling `frame.insert` many times, which has poor performance.  Consider joining all columns at once using pd.concat(axis=1) instead. To get a de-fragmented frame, use `newframe = frame.copy()`\n",
      "  data[col] = array.apply(lambda x : col in x)\n",
      "C:\\Users\\robin\\AppData\\Local\\Temp\\ipykernel_10812\\3072187195.py:7: PerformanceWarning: DataFrame is highly fragmented.  This is usually the result of calling `frame.insert` many times, which has poor performance.  Consider joining all columns at once using pd.concat(axis=1) instead. To get a de-fragmented frame, use `newframe = frame.copy()`\n",
      "  data[col] = array.apply(lambda x : col in x)\n",
      "C:\\Users\\robin\\AppData\\Local\\Temp\\ipykernel_10812\\3072187195.py:7: PerformanceWarning: DataFrame is highly fragmented.  This is usually the result of calling `frame.insert` many times, which has poor performance.  Consider joining all columns at once using pd.concat(axis=1) instead. To get a de-fragmented frame, use `newframe = frame.copy()`\n",
      "  data[col] = array.apply(lambda x : col in x)\n",
      "C:\\Users\\robin\\AppData\\Local\\Temp\\ipykernel_10812\\3072187195.py:7: PerformanceWarning: DataFrame is highly fragmented.  This is usually the result of calling `frame.insert` many times, which has poor performance.  Consider joining all columns at once using pd.concat(axis=1) instead. To get a de-fragmented frame, use `newframe = frame.copy()`\n",
      "  data[col] = array.apply(lambda x : col in x)\n",
      "C:\\Users\\robin\\AppData\\Local\\Temp\\ipykernel_10812\\3072187195.py:7: PerformanceWarning: DataFrame is highly fragmented.  This is usually the result of calling `frame.insert` many times, which has poor performance.  Consider joining all columns at once using pd.concat(axis=1) instead. To get a de-fragmented frame, use `newframe = frame.copy()`\n",
      "  data[col] = array.apply(lambda x : col in x)\n",
      "C:\\Users\\robin\\AppData\\Local\\Temp\\ipykernel_10812\\3072187195.py:7: PerformanceWarning: DataFrame is highly fragmented.  This is usually the result of calling `frame.insert` many times, which has poor performance.  Consider joining all columns at once using pd.concat(axis=1) instead. To get a de-fragmented frame, use `newframe = frame.copy()`\n",
      "  data[col] = array.apply(lambda x : col in x)\n",
      "C:\\Users\\robin\\AppData\\Local\\Temp\\ipykernel_10812\\3072187195.py:7: PerformanceWarning: DataFrame is highly fragmented.  This is usually the result of calling `frame.insert` many times, which has poor performance.  Consider joining all columns at once using pd.concat(axis=1) instead. To get a de-fragmented frame, use `newframe = frame.copy()`\n",
      "  data[col] = array.apply(lambda x : col in x)\n",
      "C:\\Users\\robin\\AppData\\Local\\Temp\\ipykernel_10812\\3072187195.py:7: PerformanceWarning: DataFrame is highly fragmented.  This is usually the result of calling `frame.insert` many times, which has poor performance.  Consider joining all columns at once using pd.concat(axis=1) instead. To get a de-fragmented frame, use `newframe = frame.copy()`\n",
      "  data[col] = array.apply(lambda x : col in x)\n",
      "C:\\Users\\robin\\AppData\\Local\\Temp\\ipykernel_10812\\3072187195.py:7: PerformanceWarning: DataFrame is highly fragmented.  This is usually the result of calling `frame.insert` many times, which has poor performance.  Consider joining all columns at once using pd.concat(axis=1) instead. To get a de-fragmented frame, use `newframe = frame.copy()`\n",
      "  data[col] = array.apply(lambda x : col in x)\n",
      "C:\\Users\\robin\\AppData\\Local\\Temp\\ipykernel_10812\\3072187195.py:7: PerformanceWarning: DataFrame is highly fragmented.  This is usually the result of calling `frame.insert` many times, which has poor performance.  Consider joining all columns at once using pd.concat(axis=1) instead. To get a de-fragmented frame, use `newframe = frame.copy()`\n",
      "  data[col] = array.apply(lambda x : col in x)\n",
      "C:\\Users\\robin\\AppData\\Local\\Temp\\ipykernel_10812\\3072187195.py:7: PerformanceWarning: DataFrame is highly fragmented.  This is usually the result of calling `frame.insert` many times, which has poor performance.  Consider joining all columns at once using pd.concat(axis=1) instead. To get a de-fragmented frame, use `newframe = frame.copy()`\n",
      "  data[col] = array.apply(lambda x : col in x)\n",
      "C:\\Users\\robin\\AppData\\Local\\Temp\\ipykernel_10812\\3072187195.py:7: PerformanceWarning: DataFrame is highly fragmented.  This is usually the result of calling `frame.insert` many times, which has poor performance.  Consider joining all columns at once using pd.concat(axis=1) instead. To get a de-fragmented frame, use `newframe = frame.copy()`\n",
      "  data[col] = array.apply(lambda x : col in x)\n",
      "C:\\Users\\robin\\AppData\\Local\\Temp\\ipykernel_10812\\3072187195.py:7: PerformanceWarning: DataFrame is highly fragmented.  This is usually the result of calling `frame.insert` many times, which has poor performance.  Consider joining all columns at once using pd.concat(axis=1) instead. To get a de-fragmented frame, use `newframe = frame.copy()`\n",
      "  data[col] = array.apply(lambda x : col in x)\n",
      "C:\\Users\\robin\\AppData\\Local\\Temp\\ipykernel_10812\\3072187195.py:7: PerformanceWarning: DataFrame is highly fragmented.  This is usually the result of calling `frame.insert` many times, which has poor performance.  Consider joining all columns at once using pd.concat(axis=1) instead. To get a de-fragmented frame, use `newframe = frame.copy()`\n",
      "  data[col] = array.apply(lambda x : col in x)\n",
      "C:\\Users\\robin\\AppData\\Local\\Temp\\ipykernel_10812\\3072187195.py:7: PerformanceWarning: DataFrame is highly fragmented.  This is usually the result of calling `frame.insert` many times, which has poor performance.  Consider joining all columns at once using pd.concat(axis=1) instead. To get a de-fragmented frame, use `newframe = frame.copy()`\n",
      "  data[col] = array.apply(lambda x : col in x)\n",
      "C:\\Users\\robin\\AppData\\Local\\Temp\\ipykernel_10812\\3072187195.py:7: PerformanceWarning: DataFrame is highly fragmented.  This is usually the result of calling `frame.insert` many times, which has poor performance.  Consider joining all columns at once using pd.concat(axis=1) instead. To get a de-fragmented frame, use `newframe = frame.copy()`\n",
      "  data[col] = array.apply(lambda x : col in x)\n",
      "C:\\Users\\robin\\AppData\\Local\\Temp\\ipykernel_10812\\3072187195.py:7: PerformanceWarning: DataFrame is highly fragmented.  This is usually the result of calling `frame.insert` many times, which has poor performance.  Consider joining all columns at once using pd.concat(axis=1) instead. To get a de-fragmented frame, use `newframe = frame.copy()`\n",
      "  data[col] = array.apply(lambda x : col in x)\n",
      "C:\\Users\\robin\\AppData\\Local\\Temp\\ipykernel_10812\\3072187195.py:7: PerformanceWarning: DataFrame is highly fragmented.  This is usually the result of calling `frame.insert` many times, which has poor performance.  Consider joining all columns at once using pd.concat(axis=1) instead. To get a de-fragmented frame, use `newframe = frame.copy()`\n",
      "  data[col] = array.apply(lambda x : col in x)\n",
      "C:\\Users\\robin\\AppData\\Local\\Temp\\ipykernel_10812\\3072187195.py:7: PerformanceWarning: DataFrame is highly fragmented.  This is usually the result of calling `frame.insert` many times, which has poor performance.  Consider joining all columns at once using pd.concat(axis=1) instead. To get a de-fragmented frame, use `newframe = frame.copy()`\n",
      "  data[col] = array.apply(lambda x : col in x)\n",
      "C:\\Users\\robin\\AppData\\Local\\Temp\\ipykernel_10812\\3072187195.py:7: PerformanceWarning: DataFrame is highly fragmented.  This is usually the result of calling `frame.insert` many times, which has poor performance.  Consider joining all columns at once using pd.concat(axis=1) instead. To get a de-fragmented frame, use `newframe = frame.copy()`\n",
      "  data[col] = array.apply(lambda x : col in x)\n",
      "C:\\Users\\robin\\AppData\\Local\\Temp\\ipykernel_10812\\3072187195.py:7: PerformanceWarning: DataFrame is highly fragmented.  This is usually the result of calling `frame.insert` many times, which has poor performance.  Consider joining all columns at once using pd.concat(axis=1) instead. To get a de-fragmented frame, use `newframe = frame.copy()`\n",
      "  data[col] = array.apply(lambda x : col in x)\n",
      "C:\\Users\\robin\\AppData\\Local\\Temp\\ipykernel_10812\\3072187195.py:7: PerformanceWarning: DataFrame is highly fragmented.  This is usually the result of calling `frame.insert` many times, which has poor performance.  Consider joining all columns at once using pd.concat(axis=1) instead. To get a de-fragmented frame, use `newframe = frame.copy()`\n",
      "  data[col] = array.apply(lambda x : col in x)\n",
      "C:\\Users\\robin\\AppData\\Local\\Temp\\ipykernel_10812\\3072187195.py:7: PerformanceWarning: DataFrame is highly fragmented.  This is usually the result of calling `frame.insert` many times, which has poor performance.  Consider joining all columns at once using pd.concat(axis=1) instead. To get a de-fragmented frame, use `newframe = frame.copy()`\n",
      "  data[col] = array.apply(lambda x : col in x)\n",
      "C:\\Users\\robin\\AppData\\Local\\Temp\\ipykernel_10812\\3072187195.py:7: PerformanceWarning: DataFrame is highly fragmented.  This is usually the result of calling `frame.insert` many times, which has poor performance.  Consider joining all columns at once using pd.concat(axis=1) instead. To get a de-fragmented frame, use `newframe = frame.copy()`\n",
      "  data[col] = array.apply(lambda x : col in x)\n",
      "C:\\Users\\robin\\AppData\\Local\\Temp\\ipykernel_10812\\3072187195.py:7: PerformanceWarning: DataFrame is highly fragmented.  This is usually the result of calling `frame.insert` many times, which has poor performance.  Consider joining all columns at once using pd.concat(axis=1) instead. To get a de-fragmented frame, use `newframe = frame.copy()`\n",
      "  data[col] = array.apply(lambda x : col in x)\n",
      "C:\\Users\\robin\\AppData\\Local\\Temp\\ipykernel_10812\\3072187195.py:7: PerformanceWarning: DataFrame is highly fragmented.  This is usually the result of calling `frame.insert` many times, which has poor performance.  Consider joining all columns at once using pd.concat(axis=1) instead. To get a de-fragmented frame, use `newframe = frame.copy()`\n",
      "  data[col] = array.apply(lambda x : col in x)\n",
      "C:\\Users\\robin\\AppData\\Local\\Temp\\ipykernel_10812\\3072187195.py:7: PerformanceWarning: DataFrame is highly fragmented.  This is usually the result of calling `frame.insert` many times, which has poor performance.  Consider joining all columns at once using pd.concat(axis=1) instead. To get a de-fragmented frame, use `newframe = frame.copy()`\n",
      "  data[col] = array.apply(lambda x : col in x)\n",
      "C:\\Users\\robin\\AppData\\Local\\Temp\\ipykernel_10812\\3072187195.py:7: PerformanceWarning: DataFrame is highly fragmented.  This is usually the result of calling `frame.insert` many times, which has poor performance.  Consider joining all columns at once using pd.concat(axis=1) instead. To get a de-fragmented frame, use `newframe = frame.copy()`\n",
      "  data[col] = array.apply(lambda x : col in x)\n",
      "C:\\Users\\robin\\AppData\\Local\\Temp\\ipykernel_10812\\3072187195.py:7: PerformanceWarning: DataFrame is highly fragmented.  This is usually the result of calling `frame.insert` many times, which has poor performance.  Consider joining all columns at once using pd.concat(axis=1) instead. To get a de-fragmented frame, use `newframe = frame.copy()`\n",
      "  data[col] = array.apply(lambda x : col in x)\n",
      "C:\\Users\\robin\\AppData\\Local\\Temp\\ipykernel_10812\\3072187195.py:7: PerformanceWarning: DataFrame is highly fragmented.  This is usually the result of calling `frame.insert` many times, which has poor performance.  Consider joining all columns at once using pd.concat(axis=1) instead. To get a de-fragmented frame, use `newframe = frame.copy()`\n",
      "  data[col] = array.apply(lambda x : col in x)\n",
      "C:\\Users\\robin\\AppData\\Local\\Temp\\ipykernel_10812\\3072187195.py:7: PerformanceWarning: DataFrame is highly fragmented.  This is usually the result of calling `frame.insert` many times, which has poor performance.  Consider joining all columns at once using pd.concat(axis=1) instead. To get a de-fragmented frame, use `newframe = frame.copy()`\n",
      "  data[col] = array.apply(lambda x : col in x)\n",
      "C:\\Users\\robin\\AppData\\Local\\Temp\\ipykernel_10812\\3072187195.py:7: PerformanceWarning: DataFrame is highly fragmented.  This is usually the result of calling `frame.insert` many times, which has poor performance.  Consider joining all columns at once using pd.concat(axis=1) instead. To get a de-fragmented frame, use `newframe = frame.copy()`\n",
      "  data[col] = array.apply(lambda x : col in x)\n",
      "C:\\Users\\robin\\AppData\\Local\\Temp\\ipykernel_10812\\3072187195.py:7: PerformanceWarning: DataFrame is highly fragmented.  This is usually the result of calling `frame.insert` many times, which has poor performance.  Consider joining all columns at once using pd.concat(axis=1) instead. To get a de-fragmented frame, use `newframe = frame.copy()`\n",
      "  data[col] = array.apply(lambda x : col in x)\n",
      "C:\\Users\\robin\\AppData\\Local\\Temp\\ipykernel_10812\\3072187195.py:7: PerformanceWarning: DataFrame is highly fragmented.  This is usually the result of calling `frame.insert` many times, which has poor performance.  Consider joining all columns at once using pd.concat(axis=1) instead. To get a de-fragmented frame, use `newframe = frame.copy()`\n",
      "  data[col] = array.apply(lambda x : col in x)\n",
      "C:\\Users\\robin\\AppData\\Local\\Temp\\ipykernel_10812\\3072187195.py:7: PerformanceWarning: DataFrame is highly fragmented.  This is usually the result of calling `frame.insert` many times, which has poor performance.  Consider joining all columns at once using pd.concat(axis=1) instead. To get a de-fragmented frame, use `newframe = frame.copy()`\n",
      "  data[col] = array.apply(lambda x : col in x)\n",
      "C:\\Users\\robin\\AppData\\Local\\Temp\\ipykernel_10812\\3072187195.py:7: PerformanceWarning: DataFrame is highly fragmented.  This is usually the result of calling `frame.insert` many times, which has poor performance.  Consider joining all columns at once using pd.concat(axis=1) instead. To get a de-fragmented frame, use `newframe = frame.copy()`\n",
      "  data[col] = array.apply(lambda x : col in x)\n",
      "C:\\Users\\robin\\AppData\\Local\\Temp\\ipykernel_10812\\3072187195.py:7: PerformanceWarning: DataFrame is highly fragmented.  This is usually the result of calling `frame.insert` many times, which has poor performance.  Consider joining all columns at once using pd.concat(axis=1) instead. To get a de-fragmented frame, use `newframe = frame.copy()`\n",
      "  data[col] = array.apply(lambda x : col in x)\n",
      "C:\\Users\\robin\\AppData\\Local\\Temp\\ipykernel_10812\\3072187195.py:7: PerformanceWarning: DataFrame is highly fragmented.  This is usually the result of calling `frame.insert` many times, which has poor performance.  Consider joining all columns at once using pd.concat(axis=1) instead. To get a de-fragmented frame, use `newframe = frame.copy()`\n",
      "  data[col] = array.apply(lambda x : col in x)\n",
      "C:\\Users\\robin\\AppData\\Local\\Temp\\ipykernel_10812\\3072187195.py:7: PerformanceWarning: DataFrame is highly fragmented.  This is usually the result of calling `frame.insert` many times, which has poor performance.  Consider joining all columns at once using pd.concat(axis=1) instead. To get a de-fragmented frame, use `newframe = frame.copy()`\n",
      "  data[col] = array.apply(lambda x : col in x)\n",
      "C:\\Users\\robin\\AppData\\Local\\Temp\\ipykernel_10812\\3072187195.py:7: PerformanceWarning: DataFrame is highly fragmented.  This is usually the result of calling `frame.insert` many times, which has poor performance.  Consider joining all columns at once using pd.concat(axis=1) instead. To get a de-fragmented frame, use `newframe = frame.copy()`\n",
      "  data[col] = array.apply(lambda x : col in x)\n",
      "C:\\Users\\robin\\AppData\\Local\\Temp\\ipykernel_10812\\3072187195.py:7: PerformanceWarning: DataFrame is highly fragmented.  This is usually the result of calling `frame.insert` many times, which has poor performance.  Consider joining all columns at once using pd.concat(axis=1) instead. To get a de-fragmented frame, use `newframe = frame.copy()`\n",
      "  data[col] = array.apply(lambda x : col in x)\n",
      "C:\\Users\\robin\\AppData\\Local\\Temp\\ipykernel_10812\\3072187195.py:7: PerformanceWarning: DataFrame is highly fragmented.  This is usually the result of calling `frame.insert` many times, which has poor performance.  Consider joining all columns at once using pd.concat(axis=1) instead. To get a de-fragmented frame, use `newframe = frame.copy()`\n",
      "  data[col] = array.apply(lambda x : col in x)\n",
      "C:\\Users\\robin\\AppData\\Local\\Temp\\ipykernel_10812\\3072187195.py:7: PerformanceWarning: DataFrame is highly fragmented.  This is usually the result of calling `frame.insert` many times, which has poor performance.  Consider joining all columns at once using pd.concat(axis=1) instead. To get a de-fragmented frame, use `newframe = frame.copy()`\n",
      "  data[col] = array.apply(lambda x : col in x)\n",
      "C:\\Users\\robin\\AppData\\Local\\Temp\\ipykernel_10812\\3072187195.py:7: PerformanceWarning: DataFrame is highly fragmented.  This is usually the result of calling `frame.insert` many times, which has poor performance.  Consider joining all columns at once using pd.concat(axis=1) instead. To get a de-fragmented frame, use `newframe = frame.copy()`\n",
      "  data[col] = array.apply(lambda x : col in x)\n",
      "C:\\Users\\robin\\AppData\\Local\\Temp\\ipykernel_10812\\3072187195.py:7: PerformanceWarning: DataFrame is highly fragmented.  This is usually the result of calling `frame.insert` many times, which has poor performance.  Consider joining all columns at once using pd.concat(axis=1) instead. To get a de-fragmented frame, use `newframe = frame.copy()`\n",
      "  data[col] = array.apply(lambda x : col in x)\n",
      "C:\\Users\\robin\\AppData\\Local\\Temp\\ipykernel_10812\\3072187195.py:7: PerformanceWarning: DataFrame is highly fragmented.  This is usually the result of calling `frame.insert` many times, which has poor performance.  Consider joining all columns at once using pd.concat(axis=1) instead. To get a de-fragmented frame, use `newframe = frame.copy()`\n",
      "  data[col] = array.apply(lambda x : col in x)\n",
      "C:\\Users\\robin\\AppData\\Local\\Temp\\ipykernel_10812\\3072187195.py:7: PerformanceWarning: DataFrame is highly fragmented.  This is usually the result of calling `frame.insert` many times, which has poor performance.  Consider joining all columns at once using pd.concat(axis=1) instead. To get a de-fragmented frame, use `newframe = frame.copy()`\n",
      "  data[col] = array.apply(lambda x : col in x)\n",
      "C:\\Users\\robin\\AppData\\Local\\Temp\\ipykernel_10812\\3072187195.py:7: PerformanceWarning: DataFrame is highly fragmented.  This is usually the result of calling `frame.insert` many times, which has poor performance.  Consider joining all columns at once using pd.concat(axis=1) instead. To get a de-fragmented frame, use `newframe = frame.copy()`\n",
      "  data[col] = array.apply(lambda x : col in x)\n",
      "C:\\Users\\robin\\AppData\\Local\\Temp\\ipykernel_10812\\3072187195.py:7: PerformanceWarning: DataFrame is highly fragmented.  This is usually the result of calling `frame.insert` many times, which has poor performance.  Consider joining all columns at once using pd.concat(axis=1) instead. To get a de-fragmented frame, use `newframe = frame.copy()`\n",
      "  data[col] = array.apply(lambda x : col in x)\n",
      "C:\\Users\\robin\\AppData\\Local\\Temp\\ipykernel_10812\\3072187195.py:7: PerformanceWarning: DataFrame is highly fragmented.  This is usually the result of calling `frame.insert` many times, which has poor performance.  Consider joining all columns at once using pd.concat(axis=1) instead. To get a de-fragmented frame, use `newframe = frame.copy()`\n",
      "  data[col] = array.apply(lambda x : col in x)\n",
      "C:\\Users\\robin\\AppData\\Local\\Temp\\ipykernel_10812\\3072187195.py:7: PerformanceWarning: DataFrame is highly fragmented.  This is usually the result of calling `frame.insert` many times, which has poor performance.  Consider joining all columns at once using pd.concat(axis=1) instead. To get a de-fragmented frame, use `newframe = frame.copy()`\n",
      "  data[col] = array.apply(lambda x : col in x)\n",
      "C:\\Users\\robin\\AppData\\Local\\Temp\\ipykernel_10812\\3072187195.py:7: PerformanceWarning: DataFrame is highly fragmented.  This is usually the result of calling `frame.insert` many times, which has poor performance.  Consider joining all columns at once using pd.concat(axis=1) instead. To get a de-fragmented frame, use `newframe = frame.copy()`\n",
      "  data[col] = array.apply(lambda x : col in x)\n",
      "C:\\Users\\robin\\AppData\\Local\\Temp\\ipykernel_10812\\3072187195.py:7: PerformanceWarning: DataFrame is highly fragmented.  This is usually the result of calling `frame.insert` many times, which has poor performance.  Consider joining all columns at once using pd.concat(axis=1) instead. To get a de-fragmented frame, use `newframe = frame.copy()`\n",
      "  data[col] = array.apply(lambda x : col in x)\n",
      "C:\\Users\\robin\\AppData\\Local\\Temp\\ipykernel_10812\\3072187195.py:7: PerformanceWarning: DataFrame is highly fragmented.  This is usually the result of calling `frame.insert` many times, which has poor performance.  Consider joining all columns at once using pd.concat(axis=1) instead. To get a de-fragmented frame, use `newframe = frame.copy()`\n",
      "  data[col] = array.apply(lambda x : col in x)\n",
      "C:\\Users\\robin\\AppData\\Local\\Temp\\ipykernel_10812\\3072187195.py:7: PerformanceWarning: DataFrame is highly fragmented.  This is usually the result of calling `frame.insert` many times, which has poor performance.  Consider joining all columns at once using pd.concat(axis=1) instead. To get a de-fragmented frame, use `newframe = frame.copy()`\n",
      "  data[col] = array.apply(lambda x : col in x)\n",
      "C:\\Users\\robin\\AppData\\Local\\Temp\\ipykernel_10812\\3072187195.py:7: PerformanceWarning: DataFrame is highly fragmented.  This is usually the result of calling `frame.insert` many times, which has poor performance.  Consider joining all columns at once using pd.concat(axis=1) instead. To get a de-fragmented frame, use `newframe = frame.copy()`\n",
      "  data[col] = array.apply(lambda x : col in x)\n",
      "C:\\Users\\robin\\AppData\\Local\\Temp\\ipykernel_10812\\3072187195.py:7: PerformanceWarning: DataFrame is highly fragmented.  This is usually the result of calling `frame.insert` many times, which has poor performance.  Consider joining all columns at once using pd.concat(axis=1) instead. To get a de-fragmented frame, use `newframe = frame.copy()`\n",
      "  data[col] = array.apply(lambda x : col in x)\n",
      "C:\\Users\\robin\\AppData\\Local\\Temp\\ipykernel_10812\\3072187195.py:7: PerformanceWarning: DataFrame is highly fragmented.  This is usually the result of calling `frame.insert` many times, which has poor performance.  Consider joining all columns at once using pd.concat(axis=1) instead. To get a de-fragmented frame, use `newframe = frame.copy()`\n",
      "  data[col] = array.apply(lambda x : col in x)\n",
      "C:\\Users\\robin\\AppData\\Local\\Temp\\ipykernel_10812\\3072187195.py:7: PerformanceWarning: DataFrame is highly fragmented.  This is usually the result of calling `frame.insert` many times, which has poor performance.  Consider joining all columns at once using pd.concat(axis=1) instead. To get a de-fragmented frame, use `newframe = frame.copy()`\n",
      "  data[col] = array.apply(lambda x : col in x)\n",
      "C:\\Users\\robin\\AppData\\Local\\Temp\\ipykernel_10812\\3072187195.py:7: PerformanceWarning: DataFrame is highly fragmented.  This is usually the result of calling `frame.insert` many times, which has poor performance.  Consider joining all columns at once using pd.concat(axis=1) instead. To get a de-fragmented frame, use `newframe = frame.copy()`\n",
      "  data[col] = array.apply(lambda x : col in x)\n",
      "C:\\Users\\robin\\AppData\\Local\\Temp\\ipykernel_10812\\3072187195.py:7: PerformanceWarning: DataFrame is highly fragmented.  This is usually the result of calling `frame.insert` many times, which has poor performance.  Consider joining all columns at once using pd.concat(axis=1) instead. To get a de-fragmented frame, use `newframe = frame.copy()`\n",
      "  data[col] = array.apply(lambda x : col in x)\n",
      "C:\\Users\\robin\\AppData\\Local\\Temp\\ipykernel_10812\\3072187195.py:7: PerformanceWarning: DataFrame is highly fragmented.  This is usually the result of calling `frame.insert` many times, which has poor performance.  Consider joining all columns at once using pd.concat(axis=1) instead. To get a de-fragmented frame, use `newframe = frame.copy()`\n",
      "  data[col] = array.apply(lambda x : col in x)\n",
      "C:\\Users\\robin\\AppData\\Local\\Temp\\ipykernel_10812\\3072187195.py:7: PerformanceWarning: DataFrame is highly fragmented.  This is usually the result of calling `frame.insert` many times, which has poor performance.  Consider joining all columns at once using pd.concat(axis=1) instead. To get a de-fragmented frame, use `newframe = frame.copy()`\n",
      "  data[col] = array.apply(lambda x : col in x)\n",
      "C:\\Users\\robin\\AppData\\Local\\Temp\\ipykernel_10812\\3072187195.py:7: PerformanceWarning: DataFrame is highly fragmented.  This is usually the result of calling `frame.insert` many times, which has poor performance.  Consider joining all columns at once using pd.concat(axis=1) instead. To get a de-fragmented frame, use `newframe = frame.copy()`\n",
      "  data[col] = array.apply(lambda x : col in x)\n",
      "C:\\Users\\robin\\AppData\\Local\\Temp\\ipykernel_10812\\3072187195.py:7: PerformanceWarning: DataFrame is highly fragmented.  This is usually the result of calling `frame.insert` many times, which has poor performance.  Consider joining all columns at once using pd.concat(axis=1) instead. To get a de-fragmented frame, use `newframe = frame.copy()`\n",
      "  data[col] = array.apply(lambda x : col in x)\n",
      "C:\\Users\\robin\\AppData\\Local\\Temp\\ipykernel_10812\\3072187195.py:7: PerformanceWarning: DataFrame is highly fragmented.  This is usually the result of calling `frame.insert` many times, which has poor performance.  Consider joining all columns at once using pd.concat(axis=1) instead. To get a de-fragmented frame, use `newframe = frame.copy()`\n",
      "  data[col] = array.apply(lambda x : col in x)\n",
      "C:\\Users\\robin\\AppData\\Local\\Temp\\ipykernel_10812\\3072187195.py:7: PerformanceWarning: DataFrame is highly fragmented.  This is usually the result of calling `frame.insert` many times, which has poor performance.  Consider joining all columns at once using pd.concat(axis=1) instead. To get a de-fragmented frame, use `newframe = frame.copy()`\n",
      "  data[col] = array.apply(lambda x : col in x)\n",
      "C:\\Users\\robin\\AppData\\Local\\Temp\\ipykernel_10812\\2401878995.py:1: PerformanceWarning: DataFrame is highly fragmented.  This is usually the result of calling `frame.insert` many times, which has poor performance.  Consider joining all columns at once using pd.concat(axis=1) instead. To get a de-fragmented frame, use `newframe = frame.copy()`\n",
      "  modified_total_survey_2022[\"ConvertedCompYearly\"] = salarytemp\n"
     ]
    },
    {
     "name": "stdout",
     "output_type": "stream",
     "text": [
      "end\n"
     ]
    }
   ],
   "source": [
    "%run funcs.ipynb\n",
    "%run Proj_org.ipynb"
   ]
  },
  {
   "cell_type": "code",
   "execution_count": 2,
   "metadata": {},
   "outputs": [],
   "source": [
    "%run funcs.ipynb"
   ]
  },
  {
   "cell_type": "code",
   "execution_count": 5,
   "metadata": {},
   "outputs": [],
   "source": []
  },
  {
   "cell_type": "code",
   "execution_count": 6,
   "metadata": {},
   "outputs": [],
   "source": [
    "#patch_sklearn(global_patch=True)"
   ]
  },
  {
   "cell_type": "markdown",
   "metadata": {},
   "source": [
    "# Classification"
   ]
  },
  {
   "cell_type": "code",
   "execution_count": 7,
   "metadata": {},
   "outputs": [],
   "source": [
    "dt = DecisionTreeClassifier()"
   ]
  },
  {
   "cell_type": "code",
   "execution_count": 8,
   "metadata": {},
   "outputs": [],
   "source": [
    "X_train_copy, y_train_copy = X_train_com.copy(), y_train_com.copy()"
   ]
  },
  {
   "cell_type": "code",
   "execution_count": null,
   "metadata": {},
   "outputs": [],
   "source": []
  },
  {
   "cell_type": "code",
   "execution_count": 9,
   "metadata": {},
   "outputs": [],
   "source": [
    "idx = y_train_copy.value_counts()[y_train_copy.value_counts() < 6].index"
   ]
  },
  {
   "cell_type": "code",
   "execution_count": 10,
   "metadata": {},
   "outputs": [],
   "source": [
    "X_train_copy = X_train_copy[y_train_copy.apply(lambda x : x not in idx)]"
   ]
  },
  {
   "cell_type": "code",
   "execution_count": 11,
   "metadata": {},
   "outputs": [],
   "source": [
    "y_train_copy = y_train_copy[y_train_copy.apply(lambda x : x not in idx)]"
   ]
  },
  {
   "cell_type": "code",
   "execution_count": 12,
   "metadata": {},
   "outputs": [
    {
     "data": {
      "text/html": [
       "<div>\n",
       "<style scoped>\n",
       "    .dataframe tbody tr th:only-of-type {\n",
       "        vertical-align: middle;\n",
       "    }\n",
       "\n",
       "    .dataframe tbody tr th {\n",
       "        vertical-align: top;\n",
       "    }\n",
       "\n",
       "    .dataframe thead th {\n",
       "        text-align: right;\n",
       "    }\n",
       "</style>\n",
       "<table border=\"1\" class=\"dataframe\">\n",
       "  <thead>\n",
       "    <tr style=\"text-align: right;\">\n",
       "      <th></th>\n",
       "      <th>MainBranch</th>\n",
       "      <th>RemoteWork</th>\n",
       "      <th>EdLevel</th>\n",
       "      <th>YearsCode</th>\n",
       "      <th>YearsCodePro</th>\n",
       "      <th>OrgSize</th>\n",
       "      <th>PurchaseInfluence</th>\n",
       "      <th>Country</th>\n",
       "      <th>Currency</th>\n",
       "      <th>CompTotal</th>\n",
       "      <th>...</th>\n",
       "      <th>I have autism / an autism spectrum disorder (e.g. Asperger's, etc.)</th>\n",
       "      <th>Innersource initiative</th>\n",
       "      <th>Developer portal or other central places to find tools/services</th>\n",
       "      <th>DevOps function</th>\n",
       "      <th>None of these</th>\n",
       "      <th>Continuous integration (CI) and (more often) continuous delivery</th>\n",
       "      <th>Automated testing</th>\n",
       "      <th>Microservices</th>\n",
       "      <th>Observability tools</th>\n",
       "      <th>ConvertedCompYearly</th>\n",
       "    </tr>\n",
       "  </thead>\n",
       "  <tbody>\n",
       "    <tr>\n",
       "      <th>21315</th>\n",
       "      <td>0</td>\n",
       "      <td>1.0</td>\n",
       "      <td>1.0</td>\n",
       "      <td>33.0</td>\n",
       "      <td>11.0</td>\n",
       "      <td>1.0</td>\n",
       "      <td>0.0</td>\n",
       "      <td>151</td>\n",
       "      <td>112</td>\n",
       "      <td>1653</td>\n",
       "      <td>...</td>\n",
       "      <td>0</td>\n",
       "      <td>0</td>\n",
       "      <td>0</td>\n",
       "      <td>0</td>\n",
       "      <td>0</td>\n",
       "      <td>0</td>\n",
       "      <td>0</td>\n",
       "      <td>0</td>\n",
       "      <td>0</td>\n",
       "      <td>87000.0</td>\n",
       "    </tr>\n",
       "    <tr>\n",
       "      <th>32655</th>\n",
       "      <td>0</td>\n",
       "      <td>0.0</td>\n",
       "      <td>2.0</td>\n",
       "      <td>15.0</td>\n",
       "      <td>9.0</td>\n",
       "      <td>5.0</td>\n",
       "      <td>2.0</td>\n",
       "      <td>76</td>\n",
       "      <td>34</td>\n",
       "      <td>543</td>\n",
       "      <td>...</td>\n",
       "      <td>0</td>\n",
       "      <td>0</td>\n",
       "      <td>0</td>\n",
       "      <td>0</td>\n",
       "      <td>0</td>\n",
       "      <td>0</td>\n",
       "      <td>0</td>\n",
       "      <td>0</td>\n",
       "      <td>0</td>\n",
       "      <td>60144.0</td>\n",
       "    </tr>\n",
       "    <tr>\n",
       "      <th>33781</th>\n",
       "      <td>0</td>\n",
       "      <td>2.0</td>\n",
       "      <td>2.0</td>\n",
       "      <td>1.0</td>\n",
       "      <td>44.0</td>\n",
       "      <td>0.0</td>\n",
       "      <td>1.0</td>\n",
       "      <td>88</td>\n",
       "      <td>77</td>\n",
       "      <td>1275</td>\n",
       "      <td>...</td>\n",
       "      <td>0</td>\n",
       "      <td>0</td>\n",
       "      <td>1</td>\n",
       "      <td>0</td>\n",
       "      <td>0</td>\n",
       "      <td>0</td>\n",
       "      <td>0</td>\n",
       "      <td>0</td>\n",
       "      <td>0</td>\n",
       "      <td>30108.0</td>\n",
       "    </tr>\n",
       "    <tr>\n",
       "      <th>14876</th>\n",
       "      <td>0</td>\n",
       "      <td>2.0</td>\n",
       "      <td>1.0</td>\n",
       "      <td>47.0</td>\n",
       "      <td>22.0</td>\n",
       "      <td>7.0</td>\n",
       "      <td>2.0</td>\n",
       "      <td>101</td>\n",
       "      <td>82</td>\n",
       "      <td>2536</td>\n",
       "      <td>...</td>\n",
       "      <td>0</td>\n",
       "      <td>0</td>\n",
       "      <td>1</td>\n",
       "      <td>1</td>\n",
       "      <td>0</td>\n",
       "      <td>1</td>\n",
       "      <td>1</td>\n",
       "      <td>1</td>\n",
       "      <td>1</td>\n",
       "      <td>65334.0</td>\n",
       "    </tr>\n",
       "    <tr>\n",
       "      <th>22929</th>\n",
       "      <td>0</td>\n",
       "      <td>2.0</td>\n",
       "      <td>2.0</td>\n",
       "      <td>1.0</td>\n",
       "      <td>22.0</td>\n",
       "      <td>7.0</td>\n",
       "      <td>2.0</td>\n",
       "      <td>101</td>\n",
       "      <td>82</td>\n",
       "      <td>2615</td>\n",
       "      <td>...</td>\n",
       "      <td>0</td>\n",
       "      <td>0</td>\n",
       "      <td>1</td>\n",
       "      <td>1</td>\n",
       "      <td>0</td>\n",
       "      <td>1</td>\n",
       "      <td>1</td>\n",
       "      <td>1</td>\n",
       "      <td>0</td>\n",
       "      <td>83483.0</td>\n",
       "    </tr>\n",
       "    <tr>\n",
       "      <th>...</th>\n",
       "      <td>...</td>\n",
       "      <td>...</td>\n",
       "      <td>...</td>\n",
       "      <td>...</td>\n",
       "      <td>...</td>\n",
       "      <td>...</td>\n",
       "      <td>...</td>\n",
       "      <td>...</td>\n",
       "      <td>...</td>\n",
       "      <td>...</td>\n",
       "      <td>...</td>\n",
       "      <td>...</td>\n",
       "      <td>...</td>\n",
       "      <td>...</td>\n",
       "      <td>...</td>\n",
       "      <td>...</td>\n",
       "      <td>...</td>\n",
       "      <td>...</td>\n",
       "      <td>...</td>\n",
       "      <td>...</td>\n",
       "      <td>...</td>\n",
       "    </tr>\n",
       "    <tr>\n",
       "      <th>16850</th>\n",
       "      <td>0</td>\n",
       "      <td>1.0</td>\n",
       "      <td>1.0</td>\n",
       "      <td>49.0</td>\n",
       "      <td>44.0</td>\n",
       "      <td>6.0</td>\n",
       "      <td>2.0</td>\n",
       "      <td>144</td>\n",
       "      <td>106</td>\n",
       "      <td>1146</td>\n",
       "      <td>...</td>\n",
       "      <td>0</td>\n",
       "      <td>1</td>\n",
       "      <td>1</td>\n",
       "      <td>1</td>\n",
       "      <td>0</td>\n",
       "      <td>1</td>\n",
       "      <td>1</td>\n",
       "      <td>1</td>\n",
       "      <td>1</td>\n",
       "      <td>30060.0</td>\n",
       "    </tr>\n",
       "    <tr>\n",
       "      <th>6265</th>\n",
       "      <td>0</td>\n",
       "      <td>2.0</td>\n",
       "      <td>2.0</td>\n",
       "      <td>20.0</td>\n",
       "      <td>17.0</td>\n",
       "      <td>5.0</td>\n",
       "      <td>2.0</td>\n",
       "      <td>96</td>\n",
       "      <td>34</td>\n",
       "      <td>586</td>\n",
       "      <td>...</td>\n",
       "      <td>0</td>\n",
       "      <td>0</td>\n",
       "      <td>1</td>\n",
       "      <td>0</td>\n",
       "      <td>0</td>\n",
       "      <td>1</td>\n",
       "      <td>1</td>\n",
       "      <td>0</td>\n",
       "      <td>0</td>\n",
       "      <td>66156.0</td>\n",
       "    </tr>\n",
       "    <tr>\n",
       "      <th>11284</th>\n",
       "      <td>0</td>\n",
       "      <td>1.0</td>\n",
       "      <td>1.0</td>\n",
       "      <td>31.0</td>\n",
       "      <td>21.0</td>\n",
       "      <td>3.0</td>\n",
       "      <td>0.0</td>\n",
       "      <td>151</td>\n",
       "      <td>112</td>\n",
       "      <td>2282</td>\n",
       "      <td>...</td>\n",
       "      <td>0</td>\n",
       "      <td>0</td>\n",
       "      <td>1</td>\n",
       "      <td>1</td>\n",
       "      <td>0</td>\n",
       "      <td>1</td>\n",
       "      <td>1</td>\n",
       "      <td>0</td>\n",
       "      <td>0</td>\n",
       "      <td>258000.0</td>\n",
       "    </tr>\n",
       "    <tr>\n",
       "      <th>860</th>\n",
       "      <td>0</td>\n",
       "      <td>2.0</td>\n",
       "      <td>2.0</td>\n",
       "      <td>3.0</td>\n",
       "      <td>48.0</td>\n",
       "      <td>4.0</td>\n",
       "      <td>2.0</td>\n",
       "      <td>46</td>\n",
       "      <td>34</td>\n",
       "      <td>1418</td>\n",
       "      <td>...</td>\n",
       "      <td>0</td>\n",
       "      <td>0</td>\n",
       "      <td>0</td>\n",
       "      <td>0</td>\n",
       "      <td>0</td>\n",
       "      <td>1</td>\n",
       "      <td>1</td>\n",
       "      <td>0</td>\n",
       "      <td>1</td>\n",
       "      <td>66119.0</td>\n",
       "    </tr>\n",
       "    <tr>\n",
       "      <th>15795</th>\n",
       "      <td>1</td>\n",
       "      <td>2.0</td>\n",
       "      <td>1.0</td>\n",
       "      <td>26.0</td>\n",
       "      <td>19.0</td>\n",
       "      <td>7.0</td>\n",
       "      <td>2.0</td>\n",
       "      <td>151</td>\n",
       "      <td>112</td>\n",
       "      <td>1957</td>\n",
       "      <td>...</td>\n",
       "      <td>0</td>\n",
       "      <td>0</td>\n",
       "      <td>0</td>\n",
       "      <td>0</td>\n",
       "      <td>0</td>\n",
       "      <td>0</td>\n",
       "      <td>0</td>\n",
       "      <td>0</td>\n",
       "      <td>0</td>\n",
       "      <td>135000.0</td>\n",
       "    </tr>\n",
       "  </tbody>\n",
       "</table>\n",
       "<p>25050 rows × 386 columns</p>\n",
       "</div>"
      ],
      "text/plain": [
       "       MainBranch  RemoteWork  EdLevel  YearsCode  YearsCodePro  OrgSize  \\\n",
       "21315           0         1.0      1.0       33.0          11.0      1.0   \n",
       "32655           0         0.0      2.0       15.0           9.0      5.0   \n",
       "33781           0         2.0      2.0        1.0          44.0      0.0   \n",
       "14876           0         2.0      1.0       47.0          22.0      7.0   \n",
       "22929           0         2.0      2.0        1.0          22.0      7.0   \n",
       "...           ...         ...      ...        ...           ...      ...   \n",
       "16850           0         1.0      1.0       49.0          44.0      6.0   \n",
       "6265            0         2.0      2.0       20.0          17.0      5.0   \n",
       "11284           0         1.0      1.0       31.0          21.0      3.0   \n",
       "860             0         2.0      2.0        3.0          48.0      4.0   \n",
       "15795           1         2.0      1.0       26.0          19.0      7.0   \n",
       "\n",
       "       PurchaseInfluence  Country  Currency  CompTotal  ...  \\\n",
       "21315                0.0      151       112       1653  ...   \n",
       "32655                2.0       76        34        543  ...   \n",
       "33781                1.0       88        77       1275  ...   \n",
       "14876                2.0      101        82       2536  ...   \n",
       "22929                2.0      101        82       2615  ...   \n",
       "...                  ...      ...       ...        ...  ...   \n",
       "16850                2.0      144       106       1146  ...   \n",
       "6265                 2.0       96        34        586  ...   \n",
       "11284                0.0      151       112       2282  ...   \n",
       "860                  2.0       46        34       1418  ...   \n",
       "15795                2.0      151       112       1957  ...   \n",
       "\n",
       "       I have autism / an autism spectrum disorder (e.g. Asperger's, etc.)  \\\n",
       "21315                                                  0                     \n",
       "32655                                                  0                     \n",
       "33781                                                  0                     \n",
       "14876                                                  0                     \n",
       "22929                                                  0                     \n",
       "...                                                  ...                     \n",
       "16850                                                  0                     \n",
       "6265                                                   0                     \n",
       "11284                                                  0                     \n",
       "860                                                    0                     \n",
       "15795                                                  0                     \n",
       "\n",
       "       Innersource initiative  \\\n",
       "21315                       0   \n",
       "32655                       0   \n",
       "33781                       0   \n",
       "14876                       0   \n",
       "22929                       0   \n",
       "...                       ...   \n",
       "16850                       1   \n",
       "6265                        0   \n",
       "11284                       0   \n",
       "860                         0   \n",
       "15795                       0   \n",
       "\n",
       "       Developer portal or other central places to find tools/services  \\\n",
       "21315                                                  0                 \n",
       "32655                                                  0                 \n",
       "33781                                                  1                 \n",
       "14876                                                  1                 \n",
       "22929                                                  1                 \n",
       "...                                                  ...                 \n",
       "16850                                                  1                 \n",
       "6265                                                   1                 \n",
       "11284                                                  1                 \n",
       "860                                                    0                 \n",
       "15795                                                  0                 \n",
       "\n",
       "       DevOps function  None of these  \\\n",
       "21315                0              0   \n",
       "32655                0              0   \n",
       "33781                0              0   \n",
       "14876                1              0   \n",
       "22929                1              0   \n",
       "...                ...            ...   \n",
       "16850                1              0   \n",
       "6265                 0              0   \n",
       "11284                1              0   \n",
       "860                  0              0   \n",
       "15795                0              0   \n",
       "\n",
       "       Continuous integration (CI) and (more often) continuous delivery  \\\n",
       "21315                                                  0                  \n",
       "32655                                                  0                  \n",
       "33781                                                  0                  \n",
       "14876                                                  1                  \n",
       "22929                                                  1                  \n",
       "...                                                  ...                  \n",
       "16850                                                  1                  \n",
       "6265                                                   1                  \n",
       "11284                                                  1                  \n",
       "860                                                    1                  \n",
       "15795                                                  0                  \n",
       "\n",
       "       Automated testing  Microservices  Observability tools  \\\n",
       "21315                  0              0                    0   \n",
       "32655                  0              0                    0   \n",
       "33781                  0              0                    0   \n",
       "14876                  1              1                    1   \n",
       "22929                  1              1                    0   \n",
       "...                  ...            ...                  ...   \n",
       "16850                  1              1                    1   \n",
       "6265                   1              0                    0   \n",
       "11284                  1              0                    0   \n",
       "860                    1              0                    1   \n",
       "15795                  0              0                    0   \n",
       "\n",
       "       ConvertedCompYearly  \n",
       "21315              87000.0  \n",
       "32655              60144.0  \n",
       "33781              30108.0  \n",
       "14876              65334.0  \n",
       "22929              83483.0  \n",
       "...                    ...  \n",
       "16850              30060.0  \n",
       "6265               66156.0  \n",
       "11284             258000.0  \n",
       "860                66119.0  \n",
       "15795             135000.0  \n",
       "\n",
       "[25050 rows x 386 columns]"
      ]
     },
     "execution_count": 12,
     "metadata": {},
     "output_type": "execute_result"
    }
   ],
   "source": [
    "X_train_copy"
   ]
  },
  {
   "cell_type": "code",
   "execution_count": 13,
   "metadata": {},
   "outputs": [],
   "source": [
    "idx = y_train_copy.value_counts()[y_train_copy.value_counts() < 300].index"
   ]
  },
  {
   "cell_type": "code",
   "execution_count": 14,
   "metadata": {},
   "outputs": [
    {
     "data": {
      "text/plain": [
       "Int64Index([ 19,  22,  25,  21,  30,  23,  24,  26,  28,  27,  32,  40,  35,\n",
       "             38,  29,  45,  50,  90,  33,  31,  39,  77,  36,  64,  41,  70,\n",
       "             61,  76, 144,  52,  68,  47,  49,  48,  53,  85,  83, 128, 103,\n",
       "             96,  84,  58,  54,  71,  56,  34,  43,  55,  93,  98,  57,  78,\n",
       "             81, 125,  37,  75, 180,  60,  59, 132,  80, 106,  94, 120,  62,\n",
       "             42, 150, 141, 114, 102, 100,  44, 192,  95, 700, 168,  79, 108,\n",
       "             91, 122, 750,  73, 600, 156,  63],\n",
       "           dtype='int64')"
      ]
     },
     "execution_count": 14,
     "metadata": {},
     "output_type": "execute_result"
    }
   ],
   "source": [
    "idx"
   ]
  },
  {
   "cell_type": "code",
   "execution_count": 15,
   "metadata": {},
   "outputs": [],
   "source": [
    "classes = {}\n",
    "for i in idx:\n",
    "    classes[i] = 350\n"
   ]
  },
  {
   "cell_type": "code",
   "execution_count": 16,
   "metadata": {},
   "outputs": [],
   "source": [
    "sm = SMOTE(sampling_strategy=classes ,random_state=42)"
   ]
  },
  {
   "cell_type": "code",
   "execution_count": 17,
   "metadata": {},
   "outputs": [],
   "source": [
    "X_train_copy, y_train_copy = sm.fit_resample(X_train_copy, y_train_copy)"
   ]
  },
  {
   "cell_type": "code",
   "execution_count": 18,
   "metadata": {},
   "outputs": [],
   "source": [
    "X_t_train, X_val, y_t_train, y_val = train_test_split(X_train_copy, y_train_copy, test_size=0.2)"
   ]
  },
  {
   "cell_type": "code",
   "execution_count": 19,
   "metadata": {},
   "outputs": [
    {
     "data": {
      "text/plain": [
       "5      2017\n",
       "6      2014\n",
       "4      1957\n",
       "7      1861\n",
       "2      1828\n",
       "       ... \n",
       "49      350\n",
       "108     350\n",
       "700     350\n",
       "77      350\n",
       "141     350\n",
       "Name: ConvertedCompYearly, Length: 104, dtype: int64"
      ]
     },
     "execution_count": 19,
     "metadata": {},
     "output_type": "execute_result"
    }
   ],
   "source": [
    "y_train_copy.value_counts()"
   ]
  },
  {
   "cell_type": "code",
   "execution_count": 20,
   "metadata": {},
   "outputs": [],
   "source": [
    "param_search = {\n",
    "    \"criterion\" : [\"gini\", \"entropy\", \"log_loss\"],\n",
    "    \"max_depth\" : np.append(np.arange(1, 500, 50), None),\n",
    "    \"min_samples_split\" : np.arange(2, 200, 20),\n",
    "    \"min_samples_leaf\" : np.arange(1, 200, 20),\n",
    "    \"max_leaf_nodes\" : np.append(np.arange(5, 200, 20), None)\n",
    "}"
   ]
  },
  {
   "cell_type": "code",
   "execution_count": 21,
   "metadata": {},
   "outputs": [],
   "source": [
    "bycs = BayesSearchCV(dt, param_search, n_iter = 40, n_jobs = -1)"
   ]
  },
  {
   "cell_type": "code",
   "execution_count": 22,
   "metadata": {},
   "outputs": [
    {
     "name": "stdout",
     "output_type": "stream",
     "text": [
      "244.3310523033142\n"
     ]
    }
   ],
   "source": [
    "start = time.time()\n",
    "count = 0\n",
    "\n",
    "bycs.fit(X_t_train, y_t_train)\n",
    "\n",
    "end = time.time()\n",
    "print(end - start)"
   ]
  },
  {
   "cell_type": "code",
   "execution_count": 23,
   "metadata": {},
   "outputs": [],
   "source": [
    "dt_model = bycs.best_estimator_"
   ]
  },
  {
   "cell_type": "code",
   "execution_count": 24,
   "metadata": {},
   "outputs": [
    {
     "name": "stdout",
     "output_type": "stream",
     "text": [
      "4.431928873062134\n"
     ]
    }
   ],
   "source": [
    "start = time.time()\n",
    "\n",
    "dt_model.fit(X_t_train, y_t_train)\n",
    "\n",
    "end = time.time()\n",
    "print(end - start)"
   ]
  },
  {
   "cell_type": "code",
   "execution_count": 25,
   "metadata": {},
   "outputs": [],
   "source": [
    "#dt_model = convert(dt_model, \"pytorch\")\n",
    "#dt_model.to(\"cuda\")"
   ]
  },
  {
   "cell_type": "code",
   "execution_count": 26,
   "metadata": {},
   "outputs": [
    {
     "name": "stdout",
     "output_type": "stream",
     "text": [
      "0.03000354766845703\n"
     ]
    }
   ],
   "source": [
    "start = time.time()\n",
    "\n",
    "preds_dt = dt_model.predict(X_val)\n",
    "\n",
    "end = time.time()\n",
    "print(end - start)"
   ]
  },
  {
   "cell_type": "code",
   "execution_count": 27,
   "metadata": {},
   "outputs": [
    {
     "data": {
      "text/plain": [
       "0.9996194824961948"
      ]
     },
     "execution_count": 27,
     "metadata": {},
     "output_type": "execute_result"
    }
   ],
   "source": [
    "accuracy_score(y_val, preds_dt)"
   ]
  },
  {
   "cell_type": "code",
   "execution_count": 28,
   "metadata": {},
   "outputs": [],
   "source": [
    "param_search_svm = {\n",
    "    \"C\" : np.linspace(1, 3, 6),\n",
    "    \"kernel\" : [\"linear\", \"poly\", \"rbf\", \"sigmoid\"],\n",
    "    \"degree\" : np.arange(3, 22, 3),\n",
    "    \"probability\" : [True],\n",
    "}"
   ]
  },
  {
   "cell_type": "code",
   "execution_count": 29,
   "metadata": {},
   "outputs": [],
   "source": [
    "svm = SVC(C=param_search_svm[\"C\"][0], kernel=param_search_svm[\"kernel\"][0], degree=param_search_svm[\"degree\"][0], probability=True)"
   ]
  },
  {
   "cell_type": "code",
   "execution_count": 30,
   "metadata": {},
   "outputs": [
    {
     "name": "stdout",
     "output_type": "stream",
     "text": [
      "424.1065583229065\n"
     ]
    }
   ],
   "source": [
    "start = time.time()\n",
    "\n",
    "\n",
    "svm.fit(X_t_train, y_t_train)\n",
    "\n",
    "end = time.time()\n",
    "print(end - start)"
   ]
  },
  {
   "cell_type": "code",
   "execution_count": 31,
   "metadata": {},
   "outputs": [],
   "source": [
    "#svm_model = convert(svm, \"pytorch\")\n",
    "#svm_model.to(\"cuda\")"
   ]
  },
  {
   "cell_type": "code",
   "execution_count": 32,
   "metadata": {},
   "outputs": [],
   "source": [
    "preds_svm = svm.predict(X_val)"
   ]
  },
  {
   "cell_type": "code",
   "execution_count": 33,
   "metadata": {},
   "outputs": [
    {
     "data": {
      "text/plain": [
       "0.9995243531202436"
      ]
     },
     "execution_count": 33,
     "metadata": {},
     "output_type": "execute_result"
    }
   ],
   "source": [
    "accuracy_score(y_val, preds_svm)"
   ]
  },
  {
   "cell_type": "code",
   "execution_count": 34,
   "metadata": {},
   "outputs": [],
   "source": [
    "param_search = {\n",
    "    \"n_neighbors\" : np.arange(5, 50, 10),\n",
    "    \"weights\" : [\"uniform\", \"distance\"],\n",
    "    \"leaf_size\" : np.arange(30, 100, 20),\n",
    "    \"metric\" : [distance.cosine, distance.correlation, distance.chebyshev, distance_metrics()[\"euclidean\"]]\n",
    "}"
   ]
  },
  {
   "cell_type": "code",
   "execution_count": 35,
   "metadata": {},
   "outputs": [],
   "source": [
    "knn = KNeighborsClassifier(n_jobs=-1)"
   ]
  },
  {
   "cell_type": "code",
   "execution_count": 36,
   "metadata": {},
   "outputs": [
    {
     "data": {
      "text/html": [
       "<style>#sk-container-id-1 {color: black;background-color: white;}#sk-container-id-1 pre{padding: 0;}#sk-container-id-1 div.sk-toggleable {background-color: white;}#sk-container-id-1 label.sk-toggleable__label {cursor: pointer;display: block;width: 100%;margin-bottom: 0;padding: 0.3em;box-sizing: border-box;text-align: center;}#sk-container-id-1 label.sk-toggleable__label-arrow:before {content: \"▸\";float: left;margin-right: 0.25em;color: #696969;}#sk-container-id-1 label.sk-toggleable__label-arrow:hover:before {color: black;}#sk-container-id-1 div.sk-estimator:hover label.sk-toggleable__label-arrow:before {color: black;}#sk-container-id-1 div.sk-toggleable__content {max-height: 0;max-width: 0;overflow: hidden;text-align: left;background-color: #f0f8ff;}#sk-container-id-1 div.sk-toggleable__content pre {margin: 0.2em;color: black;border-radius: 0.25em;background-color: #f0f8ff;}#sk-container-id-1 input.sk-toggleable__control:checked~div.sk-toggleable__content {max-height: 200px;max-width: 100%;overflow: auto;}#sk-container-id-1 input.sk-toggleable__control:checked~label.sk-toggleable__label-arrow:before {content: \"▾\";}#sk-container-id-1 div.sk-estimator input.sk-toggleable__control:checked~label.sk-toggleable__label {background-color: #d4ebff;}#sk-container-id-1 div.sk-label input.sk-toggleable__control:checked~label.sk-toggleable__label {background-color: #d4ebff;}#sk-container-id-1 input.sk-hidden--visually {border: 0;clip: rect(1px 1px 1px 1px);clip: rect(1px, 1px, 1px, 1px);height: 1px;margin: -1px;overflow: hidden;padding: 0;position: absolute;width: 1px;}#sk-container-id-1 div.sk-estimator {font-family: monospace;background-color: #f0f8ff;border: 1px dotted black;border-radius: 0.25em;box-sizing: border-box;margin-bottom: 0.5em;}#sk-container-id-1 div.sk-estimator:hover {background-color: #d4ebff;}#sk-container-id-1 div.sk-parallel-item::after {content: \"\";width: 100%;border-bottom: 1px solid gray;flex-grow: 1;}#sk-container-id-1 div.sk-label:hover label.sk-toggleable__label {background-color: #d4ebff;}#sk-container-id-1 div.sk-serial::before {content: \"\";position: absolute;border-left: 1px solid gray;box-sizing: border-box;top: 0;bottom: 0;left: 50%;z-index: 0;}#sk-container-id-1 div.sk-serial {display: flex;flex-direction: column;align-items: center;background-color: white;padding-right: 0.2em;padding-left: 0.2em;position: relative;}#sk-container-id-1 div.sk-item {position: relative;z-index: 1;}#sk-container-id-1 div.sk-parallel {display: flex;align-items: stretch;justify-content: center;background-color: white;position: relative;}#sk-container-id-1 div.sk-item::before, #sk-container-id-1 div.sk-parallel-item::before {content: \"\";position: absolute;border-left: 1px solid gray;box-sizing: border-box;top: 0;bottom: 0;left: 50%;z-index: -1;}#sk-container-id-1 div.sk-parallel-item {display: flex;flex-direction: column;z-index: 1;position: relative;background-color: white;}#sk-container-id-1 div.sk-parallel-item:first-child::after {align-self: flex-end;width: 50%;}#sk-container-id-1 div.sk-parallel-item:last-child::after {align-self: flex-start;width: 50%;}#sk-container-id-1 div.sk-parallel-item:only-child::after {width: 0;}#sk-container-id-1 div.sk-dashed-wrapped {border: 1px dashed gray;margin: 0 0.4em 0.5em 0.4em;box-sizing: border-box;padding-bottom: 0.4em;background-color: white;}#sk-container-id-1 div.sk-label label {font-family: monospace;font-weight: bold;display: inline-block;line-height: 1.2em;}#sk-container-id-1 div.sk-label-container {text-align: center;}#sk-container-id-1 div.sk-container {/* jupyter's `normalize.less` sets `[hidden] { display: none; }` but bootstrap.min.css set `[hidden] { display: none !important; }` so we also need the `!important` here to be able to override the default hidden behavior on the sphinx rendered scikit-learn.org. See: https://github.com/scikit-learn/scikit-learn/issues/21755 */display: inline-block !important;position: relative;}#sk-container-id-1 div.sk-text-repr-fallback {display: none;}</style><div id=\"sk-container-id-1\" class=\"sk-top-container\"><div class=\"sk-text-repr-fallback\"><pre>KNeighborsClassifier(n_jobs=-1)</pre><b>In a Jupyter environment, please rerun this cell to show the HTML representation or trust the notebook. <br />On GitHub, the HTML representation is unable to render, please try loading this page with nbviewer.org.</b></div><div class=\"sk-container\" hidden><div class=\"sk-item\"><div class=\"sk-estimator sk-toggleable\"><input class=\"sk-toggleable__control sk-hidden--visually\" id=\"sk-estimator-id-1\" type=\"checkbox\" checked><label for=\"sk-estimator-id-1\" class=\"sk-toggleable__label sk-toggleable__label-arrow\">KNeighborsClassifier</label><div class=\"sk-toggleable__content\"><pre>KNeighborsClassifier(n_jobs=-1)</pre></div></div></div></div></div>"
      ],
      "text/plain": [
       "KNeighborsClassifier(n_jobs=-1)"
      ]
     },
     "execution_count": 36,
     "metadata": {},
     "output_type": "execute_result"
    }
   ],
   "source": [
    "knn.fit(X_t_train, y_t_train)"
   ]
  },
  {
   "cell_type": "code",
   "execution_count": 37,
   "metadata": {},
   "outputs": [
    {
     "data": {
      "text/plain": [
       "array([0, 1, 2, 3, 4, 5, 6, 7, 8, 9])"
      ]
     },
     "execution_count": 37,
     "metadata": {},
     "output_type": "execute_result"
    }
   ],
   "source": [
    "np.arange(0,10)"
   ]
  },
  {
   "cell_type": "code",
   "execution_count": 38,
   "metadata": {},
   "outputs": [
    {
     "data": {
      "text/html": [
       "<div>\n",
       "<style scoped>\n",
       "    .dataframe tbody tr th:only-of-type {\n",
       "        vertical-align: middle;\n",
       "    }\n",
       "\n",
       "    .dataframe tbody tr th {\n",
       "        vertical-align: top;\n",
       "    }\n",
       "\n",
       "    .dataframe thead th {\n",
       "        text-align: right;\n",
       "    }\n",
       "</style>\n",
       "<table border=\"1\" class=\"dataframe\">\n",
       "  <thead>\n",
       "    <tr style=\"text-align: right;\">\n",
       "      <th></th>\n",
       "      <th>MainBranch</th>\n",
       "      <th>RemoteWork</th>\n",
       "      <th>EdLevel</th>\n",
       "      <th>YearsCode</th>\n",
       "      <th>YearsCodePro</th>\n",
       "      <th>OrgSize</th>\n",
       "      <th>PurchaseInfluence</th>\n",
       "      <th>Country</th>\n",
       "      <th>Currency</th>\n",
       "      <th>CompTotal</th>\n",
       "      <th>...</th>\n",
       "      <th>I have autism / an autism spectrum disorder (e.g. Asperger's, etc.)</th>\n",
       "      <th>Innersource initiative</th>\n",
       "      <th>Developer portal or other central places to find tools/services</th>\n",
       "      <th>DevOps function</th>\n",
       "      <th>None of these</th>\n",
       "      <th>Continuous integration (CI) and (more often) continuous delivery</th>\n",
       "      <th>Automated testing</th>\n",
       "      <th>Microservices</th>\n",
       "      <th>Observability tools</th>\n",
       "      <th>ConvertedCompYearly</th>\n",
       "    </tr>\n",
       "  </thead>\n",
       "  <tbody>\n",
       "    <tr>\n",
       "      <th>4581</th>\n",
       "      <td>0</td>\n",
       "      <td>2.000000</td>\n",
       "      <td>6.000000</td>\n",
       "      <td>1.000000</td>\n",
       "      <td>47.000000</td>\n",
       "      <td>1.000000</td>\n",
       "      <td>1.000000</td>\n",
       "      <td>66</td>\n",
       "      <td>34</td>\n",
       "      <td>981</td>\n",
       "      <td>...</td>\n",
       "      <td>0</td>\n",
       "      <td>0</td>\n",
       "      <td>0</td>\n",
       "      <td>0</td>\n",
       "      <td>1</td>\n",
       "      <td>0</td>\n",
       "      <td>0</td>\n",
       "      <td>0</td>\n",
       "      <td>0</td>\n",
       "      <td>27727.0</td>\n",
       "    </tr>\n",
       "    <tr>\n",
       "      <th>11838</th>\n",
       "      <td>0</td>\n",
       "      <td>1.000000</td>\n",
       "      <td>7.000000</td>\n",
       "      <td>21.000000</td>\n",
       "      <td>12.000000</td>\n",
       "      <td>4.000000</td>\n",
       "      <td>0.000000</td>\n",
       "      <td>149</td>\n",
       "      <td>36</td>\n",
       "      <td>1472</td>\n",
       "      <td>...</td>\n",
       "      <td>0</td>\n",
       "      <td>0</td>\n",
       "      <td>0</td>\n",
       "      <td>1</td>\n",
       "      <td>0</td>\n",
       "      <td>1</td>\n",
       "      <td>1</td>\n",
       "      <td>0</td>\n",
       "      <td>1</td>\n",
       "      <td>84807.0</td>\n",
       "    </tr>\n",
       "    <tr>\n",
       "      <th>5950</th>\n",
       "      <td>1</td>\n",
       "      <td>1.000000</td>\n",
       "      <td>1.000000</td>\n",
       "      <td>5.000000</td>\n",
       "      <td>48.000000</td>\n",
       "      <td>3.000000</td>\n",
       "      <td>0.000000</td>\n",
       "      <td>151</td>\n",
       "      <td>112</td>\n",
       "      <td>1957</td>\n",
       "      <td>...</td>\n",
       "      <td>0</td>\n",
       "      <td>0</td>\n",
       "      <td>0</td>\n",
       "      <td>0</td>\n",
       "      <td>1</td>\n",
       "      <td>0</td>\n",
       "      <td>0</td>\n",
       "      <td>0</td>\n",
       "      <td>0</td>\n",
       "      <td>135000.0</td>\n",
       "    </tr>\n",
       "    <tr>\n",
       "      <th>9948</th>\n",
       "      <td>0</td>\n",
       "      <td>2.000000</td>\n",
       "      <td>2.000000</td>\n",
       "      <td>5.000000</td>\n",
       "      <td>48.000000</td>\n",
       "      <td>5.000000</td>\n",
       "      <td>2.000000</td>\n",
       "      <td>101</td>\n",
       "      <td>112</td>\n",
       "      <td>1496</td>\n",
       "      <td>...</td>\n",
       "      <td>0</td>\n",
       "      <td>0</td>\n",
       "      <td>0</td>\n",
       "      <td>0</td>\n",
       "      <td>0</td>\n",
       "      <td>0</td>\n",
       "      <td>0</td>\n",
       "      <td>0</td>\n",
       "      <td>0</td>\n",
       "      <td>840000.0</td>\n",
       "    </tr>\n",
       "    <tr>\n",
       "      <th>37593</th>\n",
       "      <td>0</td>\n",
       "      <td>1.807711</td>\n",
       "      <td>6.000000</td>\n",
       "      <td>39.116150</td>\n",
       "      <td>18.346509</td>\n",
       "      <td>4.615422</td>\n",
       "      <td>0.807711</td>\n",
       "      <td>19</td>\n",
       "      <td>34</td>\n",
       "      <td>1251</td>\n",
       "      <td>...</td>\n",
       "      <td>0</td>\n",
       "      <td>0</td>\n",
       "      <td>0</td>\n",
       "      <td>0</td>\n",
       "      <td>0</td>\n",
       "      <td>1</td>\n",
       "      <td>0</td>\n",
       "      <td>0</td>\n",
       "      <td>0</td>\n",
       "      <td>614268.0</td>\n",
       "    </tr>\n",
       "    <tr>\n",
       "      <th>...</th>\n",
       "      <td>...</td>\n",
       "      <td>...</td>\n",
       "      <td>...</td>\n",
       "      <td>...</td>\n",
       "      <td>...</td>\n",
       "      <td>...</td>\n",
       "      <td>...</td>\n",
       "      <td>...</td>\n",
       "      <td>...</td>\n",
       "      <td>...</td>\n",
       "      <td>...</td>\n",
       "      <td>...</td>\n",
       "      <td>...</td>\n",
       "      <td>...</td>\n",
       "      <td>...</td>\n",
       "      <td>...</td>\n",
       "      <td>...</td>\n",
       "      <td>...</td>\n",
       "      <td>...</td>\n",
       "      <td>...</td>\n",
       "      <td>...</td>\n",
       "    </tr>\n",
       "    <tr>\n",
       "      <th>26840</th>\n",
       "      <td>0</td>\n",
       "      <td>1.000000</td>\n",
       "      <td>0.580219</td>\n",
       "      <td>2.679123</td>\n",
       "      <td>46.000000</td>\n",
       "      <td>0.419781</td>\n",
       "      <td>1.160438</td>\n",
       "      <td>151</td>\n",
       "      <td>112</td>\n",
       "      <td>2312</td>\n",
       "      <td>...</td>\n",
       "      <td>0</td>\n",
       "      <td>0</td>\n",
       "      <td>0</td>\n",
       "      <td>0</td>\n",
       "      <td>0</td>\n",
       "      <td>0</td>\n",
       "      <td>0</td>\n",
       "      <td>0</td>\n",
       "      <td>0</td>\n",
       "      <td>280000.0</td>\n",
       "    </tr>\n",
       "    <tr>\n",
       "      <th>40500</th>\n",
       "      <td>0</td>\n",
       "      <td>2.000000</td>\n",
       "      <td>1.249129</td>\n",
       "      <td>35.785714</td>\n",
       "      <td>36.736934</td>\n",
       "      <td>6.003484</td>\n",
       "      <td>0.498258</td>\n",
       "      <td>103</td>\n",
       "      <td>34</td>\n",
       "      <td>1398</td>\n",
       "      <td>...</td>\n",
       "      <td>0</td>\n",
       "      <td>0</td>\n",
       "      <td>1</td>\n",
       "      <td>1</td>\n",
       "      <td>0</td>\n",
       "      <td>1</td>\n",
       "      <td>1</td>\n",
       "      <td>1</td>\n",
       "      <td>0</td>\n",
       "      <td>767832.0</td>\n",
       "    </tr>\n",
       "    <tr>\n",
       "      <th>22276</th>\n",
       "      <td>0</td>\n",
       "      <td>1.000000</td>\n",
       "      <td>1.000000</td>\n",
       "      <td>24.000000</td>\n",
       "      <td>1.000000</td>\n",
       "      <td>2.000000</td>\n",
       "      <td>2.000000</td>\n",
       "      <td>151</td>\n",
       "      <td>112</td>\n",
       "      <td>2109</td>\n",
       "      <td>...</td>\n",
       "      <td>1</td>\n",
       "      <td>0</td>\n",
       "      <td>0</td>\n",
       "      <td>0</td>\n",
       "      <td>0</td>\n",
       "      <td>0</td>\n",
       "      <td>0</td>\n",
       "      <td>0</td>\n",
       "      <td>0</td>\n",
       "      <td>175000.0</td>\n",
       "    </tr>\n",
       "    <tr>\n",
       "      <th>19999</th>\n",
       "      <td>0</td>\n",
       "      <td>2.000000</td>\n",
       "      <td>6.000000</td>\n",
       "      <td>46.000000</td>\n",
       "      <td>11.000000</td>\n",
       "      <td>3.000000</td>\n",
       "      <td>2.000000</td>\n",
       "      <td>66</td>\n",
       "      <td>34</td>\n",
       "      <td>1083</td>\n",
       "      <td>...</td>\n",
       "      <td>0</td>\n",
       "      <td>0</td>\n",
       "      <td>0</td>\n",
       "      <td>0</td>\n",
       "      <td>0</td>\n",
       "      <td>0</td>\n",
       "      <td>0</td>\n",
       "      <td>0</td>\n",
       "      <td>0</td>\n",
       "      <td>37325.0</td>\n",
       "    </tr>\n",
       "    <tr>\n",
       "      <th>7868</th>\n",
       "      <td>0</td>\n",
       "      <td>2.000000</td>\n",
       "      <td>7.000000</td>\n",
       "      <td>22.000000</td>\n",
       "      <td>11.000000</td>\n",
       "      <td>6.000000</td>\n",
       "      <td>1.000000</td>\n",
       "      <td>151</td>\n",
       "      <td>112</td>\n",
       "      <td>2097</td>\n",
       "      <td>...</td>\n",
       "      <td>0</td>\n",
       "      <td>1</td>\n",
       "      <td>1</td>\n",
       "      <td>1</td>\n",
       "      <td>0</td>\n",
       "      <td>1</td>\n",
       "      <td>1</td>\n",
       "      <td>1</td>\n",
       "      <td>1</td>\n",
       "      <td>170000.0</td>\n",
       "    </tr>\n",
       "  </tbody>\n",
       "</table>\n",
       "<p>100 rows × 386 columns</p>\n",
       "</div>"
      ],
      "text/plain": [
       "       MainBranch  RemoteWork   EdLevel  YearsCode  YearsCodePro   OrgSize  \\\n",
       "4581            0    2.000000  6.000000   1.000000     47.000000  1.000000   \n",
       "11838           0    1.000000  7.000000  21.000000     12.000000  4.000000   \n",
       "5950            1    1.000000  1.000000   5.000000     48.000000  3.000000   \n",
       "9948            0    2.000000  2.000000   5.000000     48.000000  5.000000   \n",
       "37593           0    1.807711  6.000000  39.116150     18.346509  4.615422   \n",
       "...           ...         ...       ...        ...           ...       ...   \n",
       "26840           0    1.000000  0.580219   2.679123     46.000000  0.419781   \n",
       "40500           0    2.000000  1.249129  35.785714     36.736934  6.003484   \n",
       "22276           0    1.000000  1.000000  24.000000      1.000000  2.000000   \n",
       "19999           0    2.000000  6.000000  46.000000     11.000000  3.000000   \n",
       "7868            0    2.000000  7.000000  22.000000     11.000000  6.000000   \n",
       "\n",
       "       PurchaseInfluence  Country  Currency  CompTotal  ...  \\\n",
       "4581            1.000000       66        34        981  ...   \n",
       "11838           0.000000      149        36       1472  ...   \n",
       "5950            0.000000      151       112       1957  ...   \n",
       "9948            2.000000      101       112       1496  ...   \n",
       "37593           0.807711       19        34       1251  ...   \n",
       "...                  ...      ...       ...        ...  ...   \n",
       "26840           1.160438      151       112       2312  ...   \n",
       "40500           0.498258      103        34       1398  ...   \n",
       "22276           2.000000      151       112       2109  ...   \n",
       "19999           2.000000       66        34       1083  ...   \n",
       "7868            1.000000      151       112       2097  ...   \n",
       "\n",
       "       I have autism / an autism spectrum disorder (e.g. Asperger's, etc.)  \\\n",
       "4581                                                   0                     \n",
       "11838                                                  0                     \n",
       "5950                                                   0                     \n",
       "9948                                                   0                     \n",
       "37593                                                  0                     \n",
       "...                                                  ...                     \n",
       "26840                                                  0                     \n",
       "40500                                                  0                     \n",
       "22276                                                  1                     \n",
       "19999                                                  0                     \n",
       "7868                                                   0                     \n",
       "\n",
       "       Innersource initiative  \\\n",
       "4581                        0   \n",
       "11838                       0   \n",
       "5950                        0   \n",
       "9948                        0   \n",
       "37593                       0   \n",
       "...                       ...   \n",
       "26840                       0   \n",
       "40500                       0   \n",
       "22276                       0   \n",
       "19999                       0   \n",
       "7868                        1   \n",
       "\n",
       "       Developer portal or other central places to find tools/services  \\\n",
       "4581                                                   0                 \n",
       "11838                                                  0                 \n",
       "5950                                                   0                 \n",
       "9948                                                   0                 \n",
       "37593                                                  0                 \n",
       "...                                                  ...                 \n",
       "26840                                                  0                 \n",
       "40500                                                  1                 \n",
       "22276                                                  0                 \n",
       "19999                                                  0                 \n",
       "7868                                                   1                 \n",
       "\n",
       "       DevOps function  None of these  \\\n",
       "4581                 0              1   \n",
       "11838                1              0   \n",
       "5950                 0              1   \n",
       "9948                 0              0   \n",
       "37593                0              0   \n",
       "...                ...            ...   \n",
       "26840                0              0   \n",
       "40500                1              0   \n",
       "22276                0              0   \n",
       "19999                0              0   \n",
       "7868                 1              0   \n",
       "\n",
       "       Continuous integration (CI) and (more often) continuous delivery  \\\n",
       "4581                                                   0                  \n",
       "11838                                                  1                  \n",
       "5950                                                   0                  \n",
       "9948                                                   0                  \n",
       "37593                                                  1                  \n",
       "...                                                  ...                  \n",
       "26840                                                  0                  \n",
       "40500                                                  1                  \n",
       "22276                                                  0                  \n",
       "19999                                                  0                  \n",
       "7868                                                   1                  \n",
       "\n",
       "       Automated testing  Microservices  Observability tools  \\\n",
       "4581                   0              0                    0   \n",
       "11838                  1              0                    1   \n",
       "5950                   0              0                    0   \n",
       "9948                   0              0                    0   \n",
       "37593                  0              0                    0   \n",
       "...                  ...            ...                  ...   \n",
       "26840                  0              0                    0   \n",
       "40500                  1              1                    0   \n",
       "22276                  0              0                    0   \n",
       "19999                  0              0                    0   \n",
       "7868                   1              1                    1   \n",
       "\n",
       "       ConvertedCompYearly  \n",
       "4581               27727.0  \n",
       "11838              84807.0  \n",
       "5950              135000.0  \n",
       "9948              840000.0  \n",
       "37593             614268.0  \n",
       "...                    ...  \n",
       "26840             280000.0  \n",
       "40500             767832.0  \n",
       "22276             175000.0  \n",
       "19999              37325.0  \n",
       "7868              170000.0  \n",
       "\n",
       "[100 rows x 386 columns]"
      ]
     },
     "execution_count": 38,
     "metadata": {},
     "output_type": "execute_result"
    }
   ],
   "source": [
    "X_val.iloc[np.arange(0,100)]"
   ]
  },
  {
   "cell_type": "code",
   "execution_count": 39,
   "metadata": {},
   "outputs": [],
   "source": [
    "preds_knn = knn.predict(X_val.iloc[np.arange(0,400)])"
   ]
  },
  {
   "cell_type": "code",
   "execution_count": 40,
   "metadata": {},
   "outputs": [
    {
     "data": {
      "text/plain": [
       "0.995"
      ]
     },
     "execution_count": 40,
     "metadata": {},
     "output_type": "execute_result"
    }
   ],
   "source": [
    "accuracy_score(preds_knn, y_val.iloc[np.arange(0,400)])"
   ]
  },
  {
   "cell_type": "code",
   "execution_count": 41,
   "metadata": {},
   "outputs": [],
   "source": [
    "mlpc = MLPClassifier((128 , 64, 32, 16, 32, 104))"
   ]
  },
  {
   "cell_type": "code",
   "execution_count": 42,
   "metadata": {},
   "outputs": [
    {
     "data": {
      "text/plain": [
       "104"
      ]
     },
     "execution_count": 42,
     "metadata": {},
     "output_type": "execute_result"
    }
   ],
   "source": [
    "len(y_val.unique())"
   ]
  },
  {
   "cell_type": "code",
   "execution_count": 43,
   "metadata": {},
   "outputs": [
    {
     "data": {
      "text/html": [
       "<style>#sk-container-id-2 {color: black;background-color: white;}#sk-container-id-2 pre{padding: 0;}#sk-container-id-2 div.sk-toggleable {background-color: white;}#sk-container-id-2 label.sk-toggleable__label {cursor: pointer;display: block;width: 100%;margin-bottom: 0;padding: 0.3em;box-sizing: border-box;text-align: center;}#sk-container-id-2 label.sk-toggleable__label-arrow:before {content: \"▸\";float: left;margin-right: 0.25em;color: #696969;}#sk-container-id-2 label.sk-toggleable__label-arrow:hover:before {color: black;}#sk-container-id-2 div.sk-estimator:hover label.sk-toggleable__label-arrow:before {color: black;}#sk-container-id-2 div.sk-toggleable__content {max-height: 0;max-width: 0;overflow: hidden;text-align: left;background-color: #f0f8ff;}#sk-container-id-2 div.sk-toggleable__content pre {margin: 0.2em;color: black;border-radius: 0.25em;background-color: #f0f8ff;}#sk-container-id-2 input.sk-toggleable__control:checked~div.sk-toggleable__content {max-height: 200px;max-width: 100%;overflow: auto;}#sk-container-id-2 input.sk-toggleable__control:checked~label.sk-toggleable__label-arrow:before {content: \"▾\";}#sk-container-id-2 div.sk-estimator input.sk-toggleable__control:checked~label.sk-toggleable__label {background-color: #d4ebff;}#sk-container-id-2 div.sk-label input.sk-toggleable__control:checked~label.sk-toggleable__label {background-color: #d4ebff;}#sk-container-id-2 input.sk-hidden--visually {border: 0;clip: rect(1px 1px 1px 1px);clip: rect(1px, 1px, 1px, 1px);height: 1px;margin: -1px;overflow: hidden;padding: 0;position: absolute;width: 1px;}#sk-container-id-2 div.sk-estimator {font-family: monospace;background-color: #f0f8ff;border: 1px dotted black;border-radius: 0.25em;box-sizing: border-box;margin-bottom: 0.5em;}#sk-container-id-2 div.sk-estimator:hover {background-color: #d4ebff;}#sk-container-id-2 div.sk-parallel-item::after {content: \"\";width: 100%;border-bottom: 1px solid gray;flex-grow: 1;}#sk-container-id-2 div.sk-label:hover label.sk-toggleable__label {background-color: #d4ebff;}#sk-container-id-2 div.sk-serial::before {content: \"\";position: absolute;border-left: 1px solid gray;box-sizing: border-box;top: 0;bottom: 0;left: 50%;z-index: 0;}#sk-container-id-2 div.sk-serial {display: flex;flex-direction: column;align-items: center;background-color: white;padding-right: 0.2em;padding-left: 0.2em;position: relative;}#sk-container-id-2 div.sk-item {position: relative;z-index: 1;}#sk-container-id-2 div.sk-parallel {display: flex;align-items: stretch;justify-content: center;background-color: white;position: relative;}#sk-container-id-2 div.sk-item::before, #sk-container-id-2 div.sk-parallel-item::before {content: \"\";position: absolute;border-left: 1px solid gray;box-sizing: border-box;top: 0;bottom: 0;left: 50%;z-index: -1;}#sk-container-id-2 div.sk-parallel-item {display: flex;flex-direction: column;z-index: 1;position: relative;background-color: white;}#sk-container-id-2 div.sk-parallel-item:first-child::after {align-self: flex-end;width: 50%;}#sk-container-id-2 div.sk-parallel-item:last-child::after {align-self: flex-start;width: 50%;}#sk-container-id-2 div.sk-parallel-item:only-child::after {width: 0;}#sk-container-id-2 div.sk-dashed-wrapped {border: 1px dashed gray;margin: 0 0.4em 0.5em 0.4em;box-sizing: border-box;padding-bottom: 0.4em;background-color: white;}#sk-container-id-2 div.sk-label label {font-family: monospace;font-weight: bold;display: inline-block;line-height: 1.2em;}#sk-container-id-2 div.sk-label-container {text-align: center;}#sk-container-id-2 div.sk-container {/* jupyter's `normalize.less` sets `[hidden] { display: none; }` but bootstrap.min.css set `[hidden] { display: none !important; }` so we also need the `!important` here to be able to override the default hidden behavior on the sphinx rendered scikit-learn.org. See: https://github.com/scikit-learn/scikit-learn/issues/21755 */display: inline-block !important;position: relative;}#sk-container-id-2 div.sk-text-repr-fallback {display: none;}</style><div id=\"sk-container-id-2\" class=\"sk-top-container\"><div class=\"sk-text-repr-fallback\"><pre>MLPClassifier(hidden_layer_sizes=(128, 64, 32, 16, 32, 104))</pre><b>In a Jupyter environment, please rerun this cell to show the HTML representation or trust the notebook. <br />On GitHub, the HTML representation is unable to render, please try loading this page with nbviewer.org.</b></div><div class=\"sk-container\" hidden><div class=\"sk-item\"><div class=\"sk-estimator sk-toggleable\"><input class=\"sk-toggleable__control sk-hidden--visually\" id=\"sk-estimator-id-2\" type=\"checkbox\" checked><label for=\"sk-estimator-id-2\" class=\"sk-toggleable__label sk-toggleable__label-arrow\">MLPClassifier</label><div class=\"sk-toggleable__content\"><pre>MLPClassifier(hidden_layer_sizes=(128, 64, 32, 16, 32, 104))</pre></div></div></div></div></div>"
      ],
      "text/plain": [
       "MLPClassifier(hidden_layer_sizes=(128, 64, 32, 16, 32, 104))"
      ]
     },
     "execution_count": 43,
     "metadata": {},
     "output_type": "execute_result"
    }
   ],
   "source": [
    "mlpc.fit(X_t_train, y_t_train)"
   ]
  },
  {
   "cell_type": "code",
   "execution_count": 44,
   "metadata": {},
   "outputs": [],
   "source": [
    "preds_mlpc = mlpc.predict(X_val)"
   ]
  },
  {
   "cell_type": "code",
   "execution_count": 45,
   "metadata": {},
   "outputs": [
    {
     "data": {
      "text/plain": [
       "0.09170471841704718"
      ]
     },
     "execution_count": 45,
     "metadata": {},
     "output_type": "execute_result"
    }
   ],
   "source": [
    "accuracy_score(y_val, preds_mlpc)"
   ]
  },
  {
   "cell_type": "markdown",
   "metadata": {},
   "source": [
    "# Regression"
   ]
  },
  {
   "cell_type": "code",
   "execution_count": 1,
   "metadata": {},
   "outputs": [],
   "source": [
    "%run funcs.ipynb"
   ]
  },
  {
   "cell_type": "code",
   "execution_count": 2,
   "metadata": {},
   "outputs": [],
   "source": [
    "X_train_com_r, X_test_com_r, y_train_com_r, y_test_com_r = \\\n",
    "pd.read_csv(\"X_train_r\"), pd.read_csv(\"X_test_r\"), pd.read_csv(\"y_train_r\"), pd.read_csv(\"y_test_r\"),"
   ]
  },
  {
   "cell_type": "code",
   "execution_count": 3,
   "metadata": {},
   "outputs": [],
   "source": [
    "X_t_train_r, X_val_r, y_t_train_r, y_val_r  = train_test_split(X_train_com_r, y_train_com_r, test_size=0.2)"
   ]
  },
  {
   "cell_type": "code",
   "execution_count": 4,
   "metadata": {},
   "outputs": [
    {
     "data": {
      "text/html": [
       "<div>\n",
       "<style scoped>\n",
       "    .dataframe tbody tr th:only-of-type {\n",
       "        vertical-align: middle;\n",
       "    }\n",
       "\n",
       "    .dataframe tbody tr th {\n",
       "        vertical-align: top;\n",
       "    }\n",
       "\n",
       "    .dataframe thead th {\n",
       "        text-align: right;\n",
       "    }\n",
       "</style>\n",
       "<table border=\"1\" class=\"dataframe\">\n",
       "  <thead>\n",
       "    <tr style=\"text-align: right;\">\n",
       "      <th></th>\n",
       "      <th>MainBranch</th>\n",
       "      <th>RemoteWork</th>\n",
       "      <th>EdLevel</th>\n",
       "      <th>YearsCode</th>\n",
       "      <th>YearsCodePro</th>\n",
       "      <th>OrgSize</th>\n",
       "      <th>PurchaseInfluence</th>\n",
       "      <th>Country</th>\n",
       "      <th>Currency</th>\n",
       "      <th>CompTotal</th>\n",
       "      <th>...</th>\n",
       "      <th>I have autism / an autism spectrum disorder (e.g. Asperger's, etc.)</th>\n",
       "      <th>Innersource initiative</th>\n",
       "      <th>Developer portal or other central places to find tools/services</th>\n",
       "      <th>DevOps function</th>\n",
       "      <th>None of these</th>\n",
       "      <th>Continuous integration (CI) and (more often) continuous delivery</th>\n",
       "      <th>Automated testing</th>\n",
       "      <th>Microservices</th>\n",
       "      <th>Observability tools</th>\n",
       "      <th>ConvertedCompYearly</th>\n",
       "    </tr>\n",
       "  </thead>\n",
       "  <tbody>\n",
       "    <tr>\n",
       "      <th>22499</th>\n",
       "      <td>0</td>\n",
       "      <td>1.0</td>\n",
       "      <td>2.0</td>\n",
       "      <td>46.0</td>\n",
       "      <td>44.0</td>\n",
       "      <td>0.0</td>\n",
       "      <td>0.0</td>\n",
       "      <td>151</td>\n",
       "      <td>112</td>\n",
       "      <td>2171</td>\n",
       "      <td>...</td>\n",
       "      <td>0</td>\n",
       "      <td>0</td>\n",
       "      <td>0</td>\n",
       "      <td>0</td>\n",
       "      <td>0</td>\n",
       "      <td>0</td>\n",
       "      <td>0</td>\n",
       "      <td>0</td>\n",
       "      <td>0</td>\n",
       "      <td>200000.0</td>\n",
       "    </tr>\n",
       "    <tr>\n",
       "      <th>24524</th>\n",
       "      <td>0</td>\n",
       "      <td>1.0</td>\n",
       "      <td>1.0</td>\n",
       "      <td>12.0</td>\n",
       "      <td>7.0</td>\n",
       "      <td>0.0</td>\n",
       "      <td>1.0</td>\n",
       "      <td>151</td>\n",
       "      <td>112</td>\n",
       "      <td>2270</td>\n",
       "      <td>...</td>\n",
       "      <td>0</td>\n",
       "      <td>0</td>\n",
       "      <td>1</td>\n",
       "      <td>1</td>\n",
       "      <td>0</td>\n",
       "      <td>1</td>\n",
       "      <td>1</td>\n",
       "      <td>1</td>\n",
       "      <td>1</td>\n",
       "      <td>250000.0</td>\n",
       "    </tr>\n",
       "    <tr>\n",
       "      <th>23250</th>\n",
       "      <td>0</td>\n",
       "      <td>2.0</td>\n",
       "      <td>1.0</td>\n",
       "      <td>11.0</td>\n",
       "      <td>50.0</td>\n",
       "      <td>3.0</td>\n",
       "      <td>2.0</td>\n",
       "      <td>151</td>\n",
       "      <td>112</td>\n",
       "      <td>1912</td>\n",
       "      <td>...</td>\n",
       "      <td>0</td>\n",
       "      <td>0</td>\n",
       "      <td>0</td>\n",
       "      <td>0</td>\n",
       "      <td>0</td>\n",
       "      <td>0</td>\n",
       "      <td>0</td>\n",
       "      <td>0</td>\n",
       "      <td>0</td>\n",
       "      <td>125000.0</td>\n",
       "    </tr>\n",
       "    <tr>\n",
       "      <th>23675</th>\n",
       "      <td>0</td>\n",
       "      <td>1.0</td>\n",
       "      <td>1.0</td>\n",
       "      <td>5.0</td>\n",
       "      <td>3.0</td>\n",
       "      <td>0.0</td>\n",
       "      <td>1.0</td>\n",
       "      <td>151</td>\n",
       "      <td>112</td>\n",
       "      <td>1836</td>\n",
       "      <td>...</td>\n",
       "      <td>0</td>\n",
       "      <td>0</td>\n",
       "      <td>1</td>\n",
       "      <td>1</td>\n",
       "      <td>0</td>\n",
       "      <td>1</td>\n",
       "      <td>1</td>\n",
       "      <td>1</td>\n",
       "      <td>0</td>\n",
       "      <td>113000.0</td>\n",
       "    </tr>\n",
       "    <tr>\n",
       "      <th>1089</th>\n",
       "      <td>0</td>\n",
       "      <td>0.0</td>\n",
       "      <td>1.0</td>\n",
       "      <td>17.0</td>\n",
       "      <td>6.0</td>\n",
       "      <td>0.0</td>\n",
       "      <td>1.0</td>\n",
       "      <td>149</td>\n",
       "      <td>36</td>\n",
       "      <td>1146</td>\n",
       "      <td>...</td>\n",
       "      <td>0</td>\n",
       "      <td>0</td>\n",
       "      <td>1</td>\n",
       "      <td>1</td>\n",
       "      <td>0</td>\n",
       "      <td>1</td>\n",
       "      <td>0</td>\n",
       "      <td>1</td>\n",
       "      <td>0</td>\n",
       "      <td>50256.0</td>\n",
       "    </tr>\n",
       "    <tr>\n",
       "      <th>...</th>\n",
       "      <td>...</td>\n",
       "      <td>...</td>\n",
       "      <td>...</td>\n",
       "      <td>...</td>\n",
       "      <td>...</td>\n",
       "      <td>...</td>\n",
       "      <td>...</td>\n",
       "      <td>...</td>\n",
       "      <td>...</td>\n",
       "      <td>...</td>\n",
       "      <td>...</td>\n",
       "      <td>...</td>\n",
       "      <td>...</td>\n",
       "      <td>...</td>\n",
       "      <td>...</td>\n",
       "      <td>...</td>\n",
       "      <td>...</td>\n",
       "      <td>...</td>\n",
       "      <td>...</td>\n",
       "      <td>...</td>\n",
       "      <td>...</td>\n",
       "    </tr>\n",
       "    <tr>\n",
       "      <th>25174</th>\n",
       "      <td>0</td>\n",
       "      <td>1.0</td>\n",
       "      <td>2.0</td>\n",
       "      <td>48.0</td>\n",
       "      <td>33.0</td>\n",
       "      <td>2.0</td>\n",
       "      <td>2.0</td>\n",
       "      <td>124</td>\n",
       "      <td>34</td>\n",
       "      <td>472</td>\n",
       "      <td>...</td>\n",
       "      <td>0</td>\n",
       "      <td>1</td>\n",
       "      <td>1</td>\n",
       "      <td>1</td>\n",
       "      <td>0</td>\n",
       "      <td>1</td>\n",
       "      <td>1</td>\n",
       "      <td>1</td>\n",
       "      <td>1</td>\n",
       "      <td>51192.0</td>\n",
       "    </tr>\n",
       "    <tr>\n",
       "      <th>17837</th>\n",
       "      <td>0</td>\n",
       "      <td>2.0</td>\n",
       "      <td>1.0</td>\n",
       "      <td>31.0</td>\n",
       "      <td>23.0</td>\n",
       "      <td>5.0</td>\n",
       "      <td>0.0</td>\n",
       "      <td>96</td>\n",
       "      <td>34</td>\n",
       "      <td>1547</td>\n",
       "      <td>...</td>\n",
       "      <td>0</td>\n",
       "      <td>0</td>\n",
       "      <td>0</td>\n",
       "      <td>1</td>\n",
       "      <td>0</td>\n",
       "      <td>1</td>\n",
       "      <td>1</td>\n",
       "      <td>0</td>\n",
       "      <td>0</td>\n",
       "      <td>959796.0</td>\n",
       "    </tr>\n",
       "    <tr>\n",
       "      <th>11681</th>\n",
       "      <td>0</td>\n",
       "      <td>2.0</td>\n",
       "      <td>1.0</td>\n",
       "      <td>8.0</td>\n",
       "      <td>49.0</td>\n",
       "      <td>0.0</td>\n",
       "      <td>1.0</td>\n",
       "      <td>149</td>\n",
       "      <td>36</td>\n",
       "      <td>1636</td>\n",
       "      <td>...</td>\n",
       "      <td>0</td>\n",
       "      <td>0</td>\n",
       "      <td>0</td>\n",
       "      <td>1</td>\n",
       "      <td>0</td>\n",
       "      <td>1</td>\n",
       "      <td>1</td>\n",
       "      <td>1</td>\n",
       "      <td>1</td>\n",
       "      <td>106793.0</td>\n",
       "    </tr>\n",
       "    <tr>\n",
       "      <th>14482</th>\n",
       "      <td>0</td>\n",
       "      <td>2.0</td>\n",
       "      <td>6.0</td>\n",
       "      <td>44.0</td>\n",
       "      <td>44.0</td>\n",
       "      <td>0.0</td>\n",
       "      <td>2.0</td>\n",
       "      <td>48</td>\n",
       "      <td>34</td>\n",
       "      <td>567</td>\n",
       "      <td>...</td>\n",
       "      <td>0</td>\n",
       "      <td>0</td>\n",
       "      <td>1</td>\n",
       "      <td>1</td>\n",
       "      <td>0</td>\n",
       "      <td>1</td>\n",
       "      <td>0</td>\n",
       "      <td>1</td>\n",
       "      <td>1</td>\n",
       "      <td>63984.0</td>\n",
       "    </tr>\n",
       "    <tr>\n",
       "      <th>2243</th>\n",
       "      <td>0</td>\n",
       "      <td>2.0</td>\n",
       "      <td>6.0</td>\n",
       "      <td>47.0</td>\n",
       "      <td>44.0</td>\n",
       "      <td>5.0</td>\n",
       "      <td>2.0</td>\n",
       "      <td>151</td>\n",
       "      <td>112</td>\n",
       "      <td>1935</td>\n",
       "      <td>...</td>\n",
       "      <td>0</td>\n",
       "      <td>0</td>\n",
       "      <td>0</td>\n",
       "      <td>1</td>\n",
       "      <td>0</td>\n",
       "      <td>1</td>\n",
       "      <td>1</td>\n",
       "      <td>1</td>\n",
       "      <td>1</td>\n",
       "      <td>130000.0</td>\n",
       "    </tr>\n",
       "  </tbody>\n",
       "</table>\n",
       "<p>20405 rows × 386 columns</p>\n",
       "</div>"
      ],
      "text/plain": [
       "       MainBranch  RemoteWork  EdLevel  YearsCode  YearsCodePro  OrgSize  \\\n",
       "22499           0         1.0      2.0       46.0          44.0      0.0   \n",
       "24524           0         1.0      1.0       12.0           7.0      0.0   \n",
       "23250           0         2.0      1.0       11.0          50.0      3.0   \n",
       "23675           0         1.0      1.0        5.0           3.0      0.0   \n",
       "1089            0         0.0      1.0       17.0           6.0      0.0   \n",
       "...           ...         ...      ...        ...           ...      ...   \n",
       "25174           0         1.0      2.0       48.0          33.0      2.0   \n",
       "17837           0         2.0      1.0       31.0          23.0      5.0   \n",
       "11681           0         2.0      1.0        8.0          49.0      0.0   \n",
       "14482           0         2.0      6.0       44.0          44.0      0.0   \n",
       "2243            0         2.0      6.0       47.0          44.0      5.0   \n",
       "\n",
       "       PurchaseInfluence  Country  Currency  CompTotal  ...  \\\n",
       "22499                0.0      151       112       2171  ...   \n",
       "24524                1.0      151       112       2270  ...   \n",
       "23250                2.0      151       112       1912  ...   \n",
       "23675                1.0      151       112       1836  ...   \n",
       "1089                 1.0      149        36       1146  ...   \n",
       "...                  ...      ...       ...        ...  ...   \n",
       "25174                2.0      124        34        472  ...   \n",
       "17837                0.0       96        34       1547  ...   \n",
       "11681                1.0      149        36       1636  ...   \n",
       "14482                2.0       48        34        567  ...   \n",
       "2243                 2.0      151       112       1935  ...   \n",
       "\n",
       "       I have autism / an autism spectrum disorder (e.g. Asperger's, etc.)  \\\n",
       "22499                                                  0                     \n",
       "24524                                                  0                     \n",
       "23250                                                  0                     \n",
       "23675                                                  0                     \n",
       "1089                                                   0                     \n",
       "...                                                  ...                     \n",
       "25174                                                  0                     \n",
       "17837                                                  0                     \n",
       "11681                                                  0                     \n",
       "14482                                                  0                     \n",
       "2243                                                   0                     \n",
       "\n",
       "       Innersource initiative  \\\n",
       "22499                       0   \n",
       "24524                       0   \n",
       "23250                       0   \n",
       "23675                       0   \n",
       "1089                        0   \n",
       "...                       ...   \n",
       "25174                       1   \n",
       "17837                       0   \n",
       "11681                       0   \n",
       "14482                       0   \n",
       "2243                        0   \n",
       "\n",
       "       Developer portal or other central places to find tools/services  \\\n",
       "22499                                                  0                 \n",
       "24524                                                  1                 \n",
       "23250                                                  0                 \n",
       "23675                                                  1                 \n",
       "1089                                                   1                 \n",
       "...                                                  ...                 \n",
       "25174                                                  1                 \n",
       "17837                                                  0                 \n",
       "11681                                                  0                 \n",
       "14482                                                  1                 \n",
       "2243                                                   0                 \n",
       "\n",
       "       DevOps function  None of these  \\\n",
       "22499                0              0   \n",
       "24524                1              0   \n",
       "23250                0              0   \n",
       "23675                1              0   \n",
       "1089                 1              0   \n",
       "...                ...            ...   \n",
       "25174                1              0   \n",
       "17837                1              0   \n",
       "11681                1              0   \n",
       "14482                1              0   \n",
       "2243                 1              0   \n",
       "\n",
       "       Continuous integration (CI) and (more often) continuous delivery  \\\n",
       "22499                                                  0                  \n",
       "24524                                                  1                  \n",
       "23250                                                  0                  \n",
       "23675                                                  1                  \n",
       "1089                                                   1                  \n",
       "...                                                  ...                  \n",
       "25174                                                  1                  \n",
       "17837                                                  1                  \n",
       "11681                                                  1                  \n",
       "14482                                                  1                  \n",
       "2243                                                   1                  \n",
       "\n",
       "       Automated testing  Microservices  Observability tools  \\\n",
       "22499                  0              0                    0   \n",
       "24524                  1              1                    1   \n",
       "23250                  0              0                    0   \n",
       "23675                  1              1                    0   \n",
       "1089                   0              1                    0   \n",
       "...                  ...            ...                  ...   \n",
       "25174                  1              1                    1   \n",
       "17837                  1              0                    0   \n",
       "11681                  1              1                    1   \n",
       "14482                  0              1                    1   \n",
       "2243                   1              1                    1   \n",
       "\n",
       "       ConvertedCompYearly  \n",
       "22499             200000.0  \n",
       "24524             250000.0  \n",
       "23250             125000.0  \n",
       "23675             113000.0  \n",
       "1089               50256.0  \n",
       "...                    ...  \n",
       "25174              51192.0  \n",
       "17837             959796.0  \n",
       "11681             106793.0  \n",
       "14482              63984.0  \n",
       "2243              130000.0  \n",
       "\n",
       "[20405 rows x 386 columns]"
      ]
     },
     "execution_count": 4,
     "metadata": {},
     "output_type": "execute_result"
    }
   ],
   "source": []
  },
  {
   "cell_type": "code",
   "execution_count": 7,
   "metadata": {},
   "outputs": [],
   "source": [
    "dtR = DecisionTreeRegressor()"
   ]
  },
  {
   "cell_type": "code",
   "execution_count": 8,
   "metadata": {},
   "outputs": [
    {
     "data": {
      "text/plain": [
       "DecisionTreeRegressor()"
      ]
     },
     "execution_count": 8,
     "metadata": {},
     "output_type": "execute_result"
    }
   ],
   "source": [
    "dtR.fit(X_t_train_r, y_t_train_r)"
   ]
  },
  {
   "cell_type": "code",
   "execution_count": 9,
   "metadata": {},
   "outputs": [],
   "source": [
    "preds_dtR = dtR.predict(X_val_r)"
   ]
  },
  {
   "cell_type": "code",
   "execution_count": 10,
   "metadata": {},
   "outputs": [
    {
     "data": {
      "text/plain": [
       "array([ 94230., 115000.,  67186., ...,  35832.,  64000.,  66026.])"
      ]
     },
     "execution_count": 10,
     "metadata": {},
     "output_type": "execute_result"
    }
   ],
   "source": [
    "preds_dtR"
   ]
  },
  {
   "cell_type": "code",
   "execution_count": 11,
   "metadata": {},
   "outputs": [
    {
     "data": {
      "text/html": [
       "<div>\n",
       "<style scoped>\n",
       "    .dataframe tbody tr th:only-of-type {\n",
       "        vertical-align: middle;\n",
       "    }\n",
       "\n",
       "    .dataframe tbody tr th {\n",
       "        vertical-align: top;\n",
       "    }\n",
       "\n",
       "    .dataframe thead th {\n",
       "        text-align: right;\n",
       "    }\n",
       "</style>\n",
       "<table border=\"1\" class=\"dataframe\">\n",
       "  <thead>\n",
       "    <tr style=\"text-align: right;\">\n",
       "      <th></th>\n",
       "      <th>ConvertedCompYearly</th>\n",
       "    </tr>\n",
       "  </thead>\n",
       "  <tbody>\n",
       "    <tr>\n",
       "      <th>7015</th>\n",
       "      <td>94230.0</td>\n",
       "    </tr>\n",
       "    <tr>\n",
       "      <th>8777</th>\n",
       "      <td>115000.0</td>\n",
       "    </tr>\n",
       "    <tr>\n",
       "      <th>11895</th>\n",
       "      <td>67186.0</td>\n",
       "    </tr>\n",
       "    <tr>\n",
       "      <th>10311</th>\n",
       "      <td>1547664.0</td>\n",
       "    </tr>\n",
       "    <tr>\n",
       "      <th>1253</th>\n",
       "      <td>45048.0</td>\n",
       "    </tr>\n",
       "    <tr>\n",
       "      <th>...</th>\n",
       "      <td>...</td>\n",
       "    </tr>\n",
       "    <tr>\n",
       "      <th>123</th>\n",
       "      <td>51504.0</td>\n",
       "    </tr>\n",
       "    <tr>\n",
       "      <th>22366</th>\n",
       "      <td>525557.0</td>\n",
       "    </tr>\n",
       "    <tr>\n",
       "      <th>18212</th>\n",
       "      <td>35832.0</td>\n",
       "    </tr>\n",
       "    <tr>\n",
       "      <th>24611</th>\n",
       "      <td>64000.0</td>\n",
       "    </tr>\n",
       "    <tr>\n",
       "      <th>17819</th>\n",
       "      <td>66070.0</td>\n",
       "    </tr>\n",
       "  </tbody>\n",
       "</table>\n",
       "<p>5102 rows × 1 columns</p>\n",
       "</div>"
      ],
      "text/plain": [
       "       ConvertedCompYearly\n",
       "7015               94230.0\n",
       "8777              115000.0\n",
       "11895              67186.0\n",
       "10311            1547664.0\n",
       "1253               45048.0\n",
       "...                    ...\n",
       "123                51504.0\n",
       "22366             525557.0\n",
       "18212              35832.0\n",
       "24611              64000.0\n",
       "17819              66070.0\n",
       "\n",
       "[5102 rows x 1 columns]"
      ]
     },
     "execution_count": 11,
     "metadata": {},
     "output_type": "execute_result"
    }
   ],
   "source": [
    "y_val_r"
   ]
  },
  {
   "cell_type": "code",
   "execution_count": 12,
   "metadata": {},
   "outputs": [
    {
     "data": {
      "text/plain": [
       "array([ 94230., 115000.,  67186., ...,  35832.,  64000.,  66026.])"
      ]
     },
     "execution_count": 12,
     "metadata": {},
     "output_type": "execute_result"
    }
   ],
   "source": [
    "preds_dtR"
   ]
  },
  {
   "cell_type": "code",
   "execution_count": 13,
   "metadata": {},
   "outputs": [
    {
     "data": {
      "text/plain": [
       "array([ 94230., 115000.,  67186., ...,  35832.,  64000.,  66070.])"
      ]
     },
     "execution_count": 13,
     "metadata": {},
     "output_type": "execute_result"
    }
   ],
   "source": [
    "y_val_r.to_numpy().reshape(-1)"
   ]
  },
  {
   "cell_type": "code",
   "execution_count": 14,
   "metadata": {},
   "outputs": [
    {
     "data": {
      "text/plain": [
       "8457914704.115249"
      ]
     },
     "execution_count": 14,
     "metadata": {},
     "output_type": "execute_result"
    }
   ],
   "source": [
    "mean_squared_error(y_val_r.to_numpy().reshape(-1), preds_dtR)"
   ]
  },
  {
   "cell_type": "code",
   "execution_count": 15,
   "metadata": {},
   "outputs": [
    {
     "data": {
      "text/plain": [
       "0.9812396713383323"
      ]
     },
     "execution_count": 15,
     "metadata": {},
     "output_type": "execute_result"
    }
   ],
   "source": [
    "r2_score(y_val_r, preds_dtR)"
   ]
  },
  {
   "cell_type": "code",
   "execution_count": 16,
   "metadata": {},
   "outputs": [
    {
     "data": {
      "text/plain": [
       "array([ 94230., 115000.,  67186., ...,  35832.,  64000.,  66070.])"
      ]
     },
     "execution_count": 16,
     "metadata": {},
     "output_type": "execute_result"
    }
   ],
   "source": [
    "y_val_r.to_numpy().reshape(-1)"
   ]
  },
  {
   "cell_type": "code",
   "execution_count": 17,
   "metadata": {},
   "outputs": [
    {
     "data": {
      "image/png": "[encoded data removed]",
      "text/plain": [
       "<Figure size 432x288 with 1 Axes>"
      ]
     },
     "metadata": {
      "needs_background": "light"
     },
     "output_type": "display_data"
    }
   ],
   "source": [
    "plt.Figure(dpi=200)\n",
    "sns.scatterplot(x=range(len(y_val_r)), y=y_val_r.to_numpy().reshape(-1))\n",
    "sns.lineplot(x=range(len(y_val_r)), y=preds_dtR, color=\"r\")\n",
    "plt.show()"
   ]
  },
  {
   "cell_type": "code",
   "execution_count": 18,
   "metadata": {},
   "outputs": [],
   "source": [
    "lr = LinearRegression()"
   ]
  },
  {
   "cell_type": "code",
   "execution_count": 19,
   "metadata": {},
   "outputs": [
    {
     "data": {
      "text/plain": [
       "array([[0.00000e+00, 2.00000e+00, 1.00000e+00, ..., 1.00000e+00,\n",
       "        1.00000e+00, 8.35500e+04],\n",
       "       [0.00000e+00, 1.00000e+00, 2.00000e+00, ..., 0.00000e+00,\n",
       "        1.00000e+00, 6.63720e+04],\n",
       "       [0.00000e+00, 1.00000e+00, 2.00000e+00, ..., 0.00000e+00,\n",
       "        1.00000e+00, 1.91959e+05],\n",
       "       ...,\n",
       "       [0.00000e+00, 2.00000e+00, 1.00000e+00, ..., 0.00000e+00,\n",
       "        0.00000e+00, 7.47600e+03],\n",
       "       [0.00000e+00, 0.00000e+00, 1.00000e+00, ..., 0.00000e+00,\n",
       "        0.00000e+00, 5.44940e+04],\n",
       "       [0.00000e+00, 1.00000e+00, 6.00000e+00, ..., 0.00000e+00,\n",
       "        0.00000e+00, 1.74480e+04]])"
      ]
     },
     "execution_count": 19,
     "metadata": {},
     "output_type": "execute_result"
    }
   ],
   "source": [
    "X_t_train_r.values"
   ]
  },
  {
   "cell_type": "code",
   "execution_count": 20,
   "metadata": {},
   "outputs": [
    {
     "data": {
      "text/plain": [
       "array([ 83550.,  66372., 191959., ...,   7476.,  54494.,  17448.])"
      ]
     },
     "execution_count": 20,
     "metadata": {},
     "output_type": "execute_result"
    }
   ],
   "source": [
    "y_t_train_r.values.reshape(-1)"
   ]
  },
  {
   "cell_type": "code",
   "execution_count": 21,
   "metadata": {},
   "outputs": [
    {
     "data": {
      "text/plain": [
       "LinearRegression()"
      ]
     },
     "execution_count": 21,
     "metadata": {},
     "output_type": "execute_result"
    }
   ],
   "source": [
    "lr.fit(X_t_train_r.values, y_t_train_r.values.reshape(-1))"
   ]
  },
  {
   "cell_type": "code",
   "execution_count": 22,
   "metadata": {},
   "outputs": [],
   "source": [
    "preds_lR = lr.predict(X_val_r.values)"
   ]
  },
  {
   "cell_type": "code",
   "execution_count": 23,
   "metadata": {},
   "outputs": [
    {
     "data": {
      "text/plain": [
       "array([ 94230., 115000.,  67186., ...,  35832.,  64000.,  66070.])"
      ]
     },
     "execution_count": 23,
     "metadata": {},
     "output_type": "execute_result"
    }
   ],
   "source": [
    "preds_lR"
   ]
  },
  {
   "cell_type": "code",
   "execution_count": 24,
   "metadata": {},
   "outputs": [
    {
     "data": {
      "text/plain": [
       "9.131150204038773e-19"
      ]
     },
     "execution_count": 24,
     "metadata": {},
     "output_type": "execute_result"
    }
   ],
   "source": [
    "mean_squared_error(y_val_r, preds_lR)"
   ]
  },
  {
   "cell_type": "code",
   "execution_count": 25,
   "metadata": {},
   "outputs": [
    {
     "data": {
      "text/plain": [
       "1.0"
      ]
     },
     "execution_count": 25,
     "metadata": {},
     "output_type": "execute_result"
    }
   ],
   "source": [
    "r2_score(y_val_r, preds_lR)"
   ]
  },
  {
   "cell_type": "code",
   "execution_count": 26,
   "metadata": {},
   "outputs": [
    {
     "data": {
      "text/plain": [
       "array([ 94230., 115000.,  67186., ...,  35832.,  64000.,  66070.])"
      ]
     },
     "execution_count": 26,
     "metadata": {},
     "output_type": "execute_result"
    }
   ],
   "source": [
    "y_val_r.to_numpy().reshape(-1)"
   ]
  },
  {
   "cell_type": "code",
   "execution_count": 27,
   "metadata": {},
   "outputs": [
    {
     "data": {
      "text/plain": [
       "array([ 94230., 115000.,  67186., ...,  35832.,  64000.,  66070.])"
      ]
     },
     "execution_count": 27,
     "metadata": {},
     "output_type": "execute_result"
    }
   ],
   "source": [
    "preds_lR"
   ]
  },
  {
   "cell_type": "code",
   "execution_count": 28,
   "metadata": {},
   "outputs": [
    {
     "data": {
      "image/png": "[encoded data removed]",
      "text/plain": [
       "<Figure size 432x288 with 1 Axes>"
      ]
     },
     "metadata": {
      "needs_background": "light"
     },
     "output_type": "display_data"
    }
   ],
   "source": [
    "plt.Figure(dpi=200)\n",
    "plt.plot(range(len(y_val_r)),preds_lR.reshape(-1))\n",
    "plt.show()"
   ]
  },
  {
   "cell_type": "code",
   "execution_count": 18,
   "metadata": {},
   "outputs": [],
   "source": [
    "svr = SVR(kernel=\"linear\", C=1.4)"
   ]
  },
  {
   "cell_type": "code",
   "execution_count": 12,
   "metadata": {},
   "outputs": [
    {
     "data": {
      "text/plain": [
       "array([[0.0000e+00, 1.0000e+00, 2.0000e+00, ..., 0.0000e+00, 0.0000e+00,\n",
       "        2.0000e+05],\n",
       "       [0.0000e+00, 1.0000e+00, 1.0000e+00, ..., 1.0000e+00, 1.0000e+00,\n",
       "        2.5000e+05],\n",
       "       [0.0000e+00, 2.0000e+00, 1.0000e+00, ..., 0.0000e+00, 0.0000e+00,\n",
       "        1.2500e+05],\n",
       "       ...,\n",
       "       [0.0000e+00, 1.0000e+00, 1.0000e+00, ..., 0.0000e+00, 0.0000e+00,\n",
       "        5.9050e+04],\n",
       "       [0.0000e+00, 2.0000e+00, 2.0000e+00, ..., 0.0000e+00, 0.0000e+00,\n",
       "        5.2895e+04],\n",
       "       [0.0000e+00, 2.0000e+00, 2.0000e+00, ..., 0.0000e+00, 0.0000e+00,\n",
       "        6.6119e+04]])"
      ]
     },
     "execution_count": 12,
     "metadata": {},
     "output_type": "execute_result"
    }
   ],
   "source": [
    "X_t_train_r.to_numpy()[0:100]"
   ]
  },
  {
   "cell_type": "code",
   "execution_count": 15,
   "metadata": {},
   "outputs": [],
   "source": [
    "x = X_t_train_r.to_numpy()[0:130]"
   ]
  },
  {
   "cell_type": "code",
   "execution_count": 16,
   "metadata": {},
   "outputs": [],
   "source": [
    "y = y_t_train_r.to_numpy().reshape(-1)[0:130]"
   ]
  },
  {
   "cell_type": "code",
   "execution_count": 33,
   "metadata": {},
   "outputs": [
    {
     "data": {
      "text/plain": [
       "SVR(C=1.4, kernel='linear')"
      ]
     },
     "execution_count": 33,
     "metadata": {},
     "output_type": "execute_result"
    }
   ],
   "source": [
    "svr.fit(x, y)"
   ]
  },
  {
   "cell_type": "code",
   "execution_count": 29,
   "metadata": {},
   "outputs": [],
   "source": [
    "preds_svr = svr.predict(X_val_r.to_numpy())"
   ]
  },
  {
   "cell_type": "code",
   "execution_count": 34,
   "metadata": {},
   "outputs": [
    {
     "data": {
      "text/html": [
       "<div>\n",
       "<style scoped>\n",
       "    .dataframe tbody tr th:only-of-type {\n",
       "        vertical-align: middle;\n",
       "    }\n",
       "\n",
       "    .dataframe tbody tr th {\n",
       "        vertical-align: top;\n",
       "    }\n",
       "\n",
       "    .dataframe thead th {\n",
       "        text-align: right;\n",
       "    }\n",
       "</style>\n",
       "<table border=\"1\" class=\"dataframe\">\n",
       "  <thead>\n",
       "    <tr style=\"text-align: right;\">\n",
       "      <th></th>\n",
       "      <th>ConvertedCompYearly</th>\n",
       "    </tr>\n",
       "  </thead>\n",
       "  <tbody>\n",
       "    <tr>\n",
       "      <th>count</th>\n",
       "      <td>5.102000e+03</td>\n",
       "    </tr>\n",
       "    <tr>\n",
       "      <th>mean</th>\n",
       "      <td>1.620189e+05</td>\n",
       "    </tr>\n",
       "    <tr>\n",
       "      <th>std</th>\n",
       "      <td>5.947645e+05</td>\n",
       "    </tr>\n",
       "    <tr>\n",
       "      <th>min</th>\n",
       "      <td>1.000000e+00</td>\n",
       "    </tr>\n",
       "    <tr>\n",
       "      <th>25%</th>\n",
       "      <td>3.732500e+04</td>\n",
       "    </tr>\n",
       "    <tr>\n",
       "      <th>50%</th>\n",
       "      <td>6.931800e+04</td>\n",
       "    </tr>\n",
       "    <tr>\n",
       "      <th>75%</th>\n",
       "      <td>1.200000e+05</td>\n",
       "    </tr>\n",
       "    <tr>\n",
       "      <th>max</th>\n",
       "      <td>1.300000e+07</td>\n",
       "    </tr>\n",
       "  </tbody>\n",
       "</table>\n",
       "</div>"
      ],
      "text/plain": [
       "       ConvertedCompYearly\n",
       "count         5.102000e+03\n",
       "mean          1.620189e+05\n",
       "std           5.947645e+05\n",
       "min           1.000000e+00\n",
       "25%           3.732500e+04\n",
       "50%           6.931800e+04\n",
       "75%           1.200000e+05\n",
       "max           1.300000e+07"
      ]
     },
     "execution_count": 34,
     "metadata": {},
     "output_type": "execute_result"
    }
   ],
   "source": []
  },
  {
   "cell_type": "code",
   "execution_count": 30,
   "metadata": {},
   "outputs": [
    {
     "data": {
      "text/plain": [
       "0.00933877343520296"
      ]
     },
     "execution_count": 30,
     "metadata": {},
     "output_type": "execute_result"
    }
   ],
   "source": [
    "mean_squared_error(y_val_r, preds_svr)"
   ]
  },
  {
   "cell_type": "code",
   "execution_count": 32,
   "metadata": {},
   "outputs": [
    {
     "data": {
      "text/plain": [
       "0.9999999999999736"
      ]
     },
     "execution_count": 32,
     "metadata": {},
     "output_type": "execute_result"
    }
   ],
   "source": [
    "r2_score(y_val_r, preds_svr)"
   ]
  },
  {
   "cell_type": "markdown",
   "metadata": {},
   "source": [
    "mlpr = MLPRegressor((200, 100, 50, 10, 50, 100, 200))"
   ]
  },
  {
   "cell_type": "markdown",
   "metadata": {},
   "source": [
    "mlpr.fit(X_train_r, y_train_r)"
   ]
  },
  {
   "cell_type": "code",
   "execution_count": 75,
   "metadata": {},
   "outputs": [],
   "source": [
    "#mlpr.score(X_train_r, y_train_r)"
   ]
  },
  {
   "cell_type": "markdown",
   "metadata": {},
   "source": [
    "# Clustering"
   ]
  },
  {
   "cell_type": "code",
   "execution_count": 2,
   "metadata": {},
   "outputs": [],
   "source": [
    "km = KMeans(n_clusters=10)"
   ]
  },
  {
   "cell_type": "code",
   "execution_count": 4,
   "metadata": {},
   "outputs": [],
   "source": [
    "X_t_train = pd.read_csv(\"X_train\")"
   ]
  },
  {
   "cell_type": "code",
   "execution_count": 5,
   "metadata": {},
   "outputs": [
    {
     "data": {
      "text/plain": [
       "KMeans(n_clusters=10)"
      ]
     },
     "execution_count": 5,
     "metadata": {},
     "output_type": "execute_result"
    }
   ],
   "source": [
    "km.fit(X_t_train)"
   ]
  },
  {
   "cell_type": "code",
   "execution_count": 7,
   "metadata": {},
   "outputs": [
    {
     "name": "stdout",
     "output_type": "stream",
     "text": [
      "1\n",
      "2\n",
      "3\n",
      "4\n",
      "5\n",
      "6\n",
      "7\n",
      "8\n",
      "9\n",
      "10\n",
      "11\n",
      "12\n",
      "13\n",
      "14\n",
      "15\n",
      "16\n",
      "17\n",
      "18\n",
      "19\n"
     ]
    }
   ],
   "source": [
    "sses = []\n",
    "for i in range(1,20):\n",
    "    km = KMeans(n_clusters=i)\n",
    "    km.fit(X_t_train)\n",
    "    sses.append(km.inertia_)\n",
    "    print(i)\n",
    "    \n"
   ]
  },
  {
   "cell_type": "code",
   "execution_count": 12,
   "metadata": {},
   "outputs": [
    {
     "name": "stdout",
     "output_type": "stream",
     "text": [
      "19\n",
      "20\n",
      "21\n",
      "22\n",
      "23\n",
      "24\n",
      "25\n",
      "26\n",
      "27\n",
      "28\n",
      "29\n",
      "30\n",
      "31\n",
      "32\n",
      "33\n",
      "34\n",
      "35\n",
      "36\n",
      "37\n",
      "38\n",
      "39\n"
     ]
    }
   ],
   "source": [
    "sses = []\n",
    "for i in range(19,40):\n",
    "    km = KMeans(n_clusters=i)\n",
    "    km.fit(X_t_train)\n",
    "    sses.append(km.inertia_)\n",
    "    print(i)"
   ]
  },
  {
   "cell_type": "code",
   "execution_count": 16,
   "metadata": {},
   "outputs": [
    {
     "name": "stdout",
     "output_type": "stream",
     "text": [
      "39\n",
      "40\n",
      "41\n",
      "42\n",
      "43\n",
      "44\n",
      "45\n",
      "46\n",
      "47\n",
      "48\n",
      "49\n",
      "50\n",
      "51\n",
      "52\n",
      "53\n",
      "54\n",
      "55\n",
      "56\n",
      "57\n",
      "58\n",
      "59\n",
      "60\n",
      "61\n",
      "62\n",
      "63\n",
      "64\n",
      "65\n",
      "66\n",
      "67\n",
      "68\n",
      "69\n",
      "70\n",
      "71\n",
      "72\n",
      "73\n",
      "74\n",
      "75\n",
      "76\n",
      "77\n",
      "78\n",
      "79\n"
     ]
    }
   ],
   "source": [
    "sses = []\n",
    "for i in range(39,80):\n",
    "    km = KMeans(n_clusters=i)\n",
    "    km.fit(X_t_train)\n",
    "    sses.append(km.inertia_)\n",
    "    print(i)"
   ]
  },
  {
   "cell_type": "code",
   "execution_count": 20,
   "metadata": {},
   "outputs": [
    {
     "name": "stdout",
     "output_type": "stream",
     "text": [
      "79\n",
      "80\n",
      "81\n",
      "82\n",
      "83\n",
      "84\n",
      "85\n",
      "86\n",
      "87\n",
      "88\n",
      "89\n",
      "90\n",
      "91\n",
      "92\n",
      "93\n",
      "94\n",
      "95\n",
      "96\n",
      "97\n",
      "98\n",
      "99\n",
      "100\n",
      "101\n",
      "102\n",
      "103\n",
      "104\n",
      "105\n",
      "106\n",
      "107\n",
      "108\n",
      "109\n",
      "110\n",
      "111\n",
      "112\n",
      "113\n",
      "114\n",
      "115\n",
      "116\n",
      "117\n",
      "118\n",
      "119\n",
      "120\n",
      "121\n",
      "122\n",
      "123\n",
      "124\n",
      "125\n",
      "126\n",
      "127\n",
      "128\n",
      "129\n",
      "130\n",
      "131\n",
      "132\n",
      "133\n",
      "134\n",
      "135\n",
      "136\n",
      "137\n",
      "138\n",
      "139\n",
      "140\n",
      "141\n",
      "142\n",
      "143\n",
      "144\n",
      "145\n",
      "146\n",
      "147\n",
      "148\n",
      "149\n",
      "150\n",
      "151\n",
      "152\n",
      "153\n",
      "154\n",
      "155\n",
      "156\n",
      "157\n",
      "158\n",
      "159\n",
      "160\n",
      "161\n",
      "162\n",
      "163\n",
      "164\n",
      "165\n",
      "166\n",
      "167\n",
      "168\n",
      "169\n",
      "170\n",
      "171\n",
      "172\n",
      "173\n",
      "174\n",
      "175\n",
      "176\n",
      "177\n",
      "178\n",
      "179\n",
      "180\n",
      "181\n",
      "182\n",
      "183\n",
      "184\n",
      "185\n",
      "186\n",
      "187\n",
      "188\n",
      "189\n",
      "190\n",
      "191\n",
      "192\n",
      "193\n",
      "194\n",
      "195\n",
      "196\n",
      "197\n",
      "198\n",
      "199\n"
     ]
    }
   ],
   "source": [
    "sses = []\n",
    "for i in range(79,200):\n",
    "    km = KMeans(n_clusters=i)\n",
    "    km.fit(X_t_train)\n",
    "    sses.append(km.inertia_)\n",
    "    print(i)"
   ]
  },
  {
   "cell_type": "code",
   "execution_count": 26,
   "metadata": {},
   "outputs": [
    {
     "data": {
      "text/plain": [
       "123540666906.11302"
      ]
     },
     "execution_count": 26,
     "metadata": {},
     "output_type": "execute_result"
    }
   ],
   "source": [
    "sses[10]"
   ]
  },
  {
   "cell_type": "code",
   "execution_count": 22,
   "metadata": {},
   "outputs": [
    {
     "data": {
      "text/plain": [
       "121"
      ]
     },
     "execution_count": 22,
     "metadata": {},
     "output_type": "execute_result"
    }
   ],
   "source": [
    "len(sses)"
   ]
  },
  {
   "cell_type": "code",
   "execution_count": 25,
   "metadata": {},
   "outputs": [
    {
     "data": {
      "text/plain": [
       "10"
      ]
     },
     "execution_count": 25,
     "metadata": {},
     "output_type": "execute_result"
    }
   ],
   "source": [
    "np.argmin(sses)"
   ]
  },
  {
   "cell_type": "code",
   "execution_count": 11,
   "metadata": {},
   "outputs": [
    {
     "data": {
      "text/plain": [
       "[1.8020763694133788e+16,\n",
       " 8105745616586971.0,\n",
       " 3228599566503269.5,\n",
       " 2127096254221563.8,\n",
       " 1374895958778310.0,\n",
       " 943196143875658.0,\n",
       " 692374420086677.2,\n",
       " 539542874100364.0,\n",
       " 423681880430401.06,\n",
       " 340336183986132.5,\n",
       " 266429881712616.56,\n",
       " 219666498844904.03,\n",
       " 181272069093512.56,\n",
       " 160289546403899.2,\n",
       " 144221887705190.25,\n",
       " 130423522152995.4,\n",
       " 114549413196801.84,\n",
       " 104885004642881.88,\n",
       " 85653387261688.2]"
      ]
     },
     "execution_count": 11,
     "metadata": {},
     "output_type": "execute_result"
    }
   ],
   "source": [
    "sses"
   ]
  },
  {
   "cell_type": "code",
   "execution_count": 79,
   "metadata": {},
   "outputs": [
    {
     "data": {
      "text/plain": [
       "269700321063989.53"
      ]
     },
     "execution_count": 79,
     "metadata": {},
     "output_type": "execute_result"
    }
   ],
   "source": [
    "km.inertia_"
   ]
  },
  {
   "cell_type": "code",
   "execution_count": 77,
   "metadata": {},
   "outputs": [
    {
     "data": {
      "text/plain": [
       "269700321063989.53"
      ]
     },
     "execution_count": 77,
     "metadata": {},
     "output_type": "execute_result"
    }
   ],
   "source": [
    "km.inertia_"
   ]
  },
  {
   "cell_type": "code",
   "execution_count": 35,
   "metadata": {},
   "outputs": [],
   "source": [
    "lofm = LocalOutlierFactor()\n",
    "lof = LocalOutlierFactor(novelty=True)"
   ]
  },
  {
   "cell_type": "code",
   "execution_count": 37,
   "metadata": {},
   "outputs": [
    {
     "data": {
      "text/plain": [
       "LocalOutlierFactor(novelty=True)"
      ]
     },
     "execution_count": 37,
     "metadata": {},
     "output_type": "execute_result"
    }
   ],
   "source": [
    "lof.fit(X_t_train_r)"
   ]
  },
  {
   "cell_type": "code",
   "execution_count": null,
   "metadata": {},
   "outputs": [],
   "source": [
    "lof.fit(y_t_train_r)"
   ]
  },
  {
   "cell_type": "code",
   "execution_count": 39,
   "metadata": {},
   "outputs": [
    {
     "name": "stderr",
     "output_type": "stream",
     "text": [
      "c:\\Users\\robin\\anaconda3\\envs\\tf\\lib\\site-packages\\sklearn\\base.py:450: UserWarning: X does not have valid feature names, but LocalOutlierFactor was fitted with feature names\n",
      "  warnings.warn(\n"
     ]
    }
   ],
   "source": [
    "preds = lof.predict(X_val_r)"
   ]
  },
  {
   "cell_type": "code",
   "execution_count": 40,
   "metadata": {},
   "outputs": [
    {
     "data": {
      "text/plain": [
       " 1    0.825167\n",
       "-1    0.174833\n",
       "dtype: float64"
      ]
     },
     "execution_count": 40,
     "metadata": {},
     "output_type": "execute_result"
    }
   ],
   "source": [
    "pd.Series(preds).value_counts()/len(preds)"
   ]
  },
  {
   "cell_type": "code",
   "execution_count": 51,
   "metadata": {},
   "outputs": [
    {
     "data": {
      "text/html": [
       "<div>\n",
       "<style scoped>\n",
       "    .dataframe tbody tr th:only-of-type {\n",
       "        vertical-align: middle;\n",
       "    }\n",
       "\n",
       "    .dataframe tbody tr th {\n",
       "        vertical-align: top;\n",
       "    }\n",
       "\n",
       "    .dataframe thead th {\n",
       "        text-align: right;\n",
       "    }\n",
       "</style>\n",
       "<table border=\"1\" class=\"dataframe\">\n",
       "  <thead>\n",
       "    <tr style=\"text-align: right;\">\n",
       "      <th></th>\n",
       "      <th>MainBranch</th>\n",
       "      <th>RemoteWork</th>\n",
       "      <th>EdLevel</th>\n",
       "      <th>YearsCode</th>\n",
       "      <th>YearsCodePro</th>\n",
       "      <th>OrgSize</th>\n",
       "      <th>PurchaseInfluence</th>\n",
       "      <th>Country</th>\n",
       "      <th>Currency</th>\n",
       "      <th>CompTotal</th>\n",
       "      <th>...</th>\n",
       "      <th>I have autism / an autism spectrum disorder (e.g. Asperger's, etc.)</th>\n",
       "      <th>Innersource initiative</th>\n",
       "      <th>Developer portal or other central places to find tools/services</th>\n",
       "      <th>DevOps function</th>\n",
       "      <th>None of these</th>\n",
       "      <th>Continuous integration (CI) and (more often) continuous delivery</th>\n",
       "      <th>Automated testing</th>\n",
       "      <th>Microservices</th>\n",
       "      <th>Observability tools</th>\n",
       "      <th>ConvertedCompYearly</th>\n",
       "    </tr>\n",
       "  </thead>\n",
       "  <tbody>\n",
       "    <tr>\n",
       "      <th>11930</th>\n",
       "      <td>0</td>\n",
       "      <td>1.0</td>\n",
       "      <td>1.0</td>\n",
       "      <td>4.0</td>\n",
       "      <td>2.0</td>\n",
       "      <td>6.0</td>\n",
       "      <td>0.0</td>\n",
       "      <td>151</td>\n",
       "      <td>112</td>\n",
       "      <td>2109</td>\n",
       "      <td>...</td>\n",
       "      <td>0</td>\n",
       "      <td>1</td>\n",
       "      <td>1</td>\n",
       "      <td>1</td>\n",
       "      <td>0</td>\n",
       "      <td>1</td>\n",
       "      <td>1</td>\n",
       "      <td>1</td>\n",
       "      <td>1</td>\n",
       "      <td>175000.0</td>\n",
       "    </tr>\n",
       "    <tr>\n",
       "      <th>2395</th>\n",
       "      <td>0</td>\n",
       "      <td>1.0</td>\n",
       "      <td>1.0</td>\n",
       "      <td>5.0</td>\n",
       "      <td>5.0</td>\n",
       "      <td>2.0</td>\n",
       "      <td>1.0</td>\n",
       "      <td>151</td>\n",
       "      <td>112</td>\n",
       "      <td>1795</td>\n",
       "      <td>...</td>\n",
       "      <td>0</td>\n",
       "      <td>0</td>\n",
       "      <td>0</td>\n",
       "      <td>1</td>\n",
       "      <td>0</td>\n",
       "      <td>0</td>\n",
       "      <td>0</td>\n",
       "      <td>0</td>\n",
       "      <td>0</td>\n",
       "      <td>106000.0</td>\n",
       "    </tr>\n",
       "    <tr>\n",
       "      <th>7127</th>\n",
       "      <td>0</td>\n",
       "      <td>1.0</td>\n",
       "      <td>7.0</td>\n",
       "      <td>49.0</td>\n",
       "      <td>44.0</td>\n",
       "      <td>4.0</td>\n",
       "      <td>2.0</td>\n",
       "      <td>48</td>\n",
       "      <td>34</td>\n",
       "      <td>1123</td>\n",
       "      <td>...</td>\n",
       "      <td>0</td>\n",
       "      <td>0</td>\n",
       "      <td>1</td>\n",
       "      <td>0</td>\n",
       "      <td>0</td>\n",
       "      <td>0</td>\n",
       "      <td>1</td>\n",
       "      <td>1</td>\n",
       "      <td>0</td>\n",
       "      <td>486300.0</td>\n",
       "    </tr>\n",
       "    <tr>\n",
       "      <th>7088</th>\n",
       "      <td>0</td>\n",
       "      <td>2.0</td>\n",
       "      <td>3.0</td>\n",
       "      <td>14.0</td>\n",
       "      <td>1.0</td>\n",
       "      <td>3.0</td>\n",
       "      <td>1.0</td>\n",
       "      <td>133</td>\n",
       "      <td>99</td>\n",
       "      <td>1357</td>\n",
       "      <td>...</td>\n",
       "      <td>0</td>\n",
       "      <td>0</td>\n",
       "      <td>0</td>\n",
       "      <td>0</td>\n",
       "      <td>0</td>\n",
       "      <td>1</td>\n",
       "      <td>1</td>\n",
       "      <td>0</td>\n",
       "      <td>0</td>\n",
       "      <td>68628.0</td>\n",
       "    </tr>\n",
       "    <tr>\n",
       "      <th>24811</th>\n",
       "      <td>0</td>\n",
       "      <td>1.0</td>\n",
       "      <td>7.0</td>\n",
       "      <td>0.0</td>\n",
       "      <td>0.0</td>\n",
       "      <td>5.0</td>\n",
       "      <td>1.0</td>\n",
       "      <td>149</td>\n",
       "      <td>36</td>\n",
       "      <td>1146</td>\n",
       "      <td>...</td>\n",
       "      <td>0</td>\n",
       "      <td>0</td>\n",
       "      <td>0</td>\n",
       "      <td>0</td>\n",
       "      <td>0</td>\n",
       "      <td>1</td>\n",
       "      <td>0</td>\n",
       "      <td>0</td>\n",
       "      <td>0</td>\n",
       "      <td>50256.0</td>\n",
       "    </tr>\n",
       "    <tr>\n",
       "      <th>...</th>\n",
       "      <td>...</td>\n",
       "      <td>...</td>\n",
       "      <td>...</td>\n",
       "      <td>...</td>\n",
       "      <td>...</td>\n",
       "      <td>...</td>\n",
       "      <td>...</td>\n",
       "      <td>...</td>\n",
       "      <td>...</td>\n",
       "      <td>...</td>\n",
       "      <td>...</td>\n",
       "      <td>...</td>\n",
       "      <td>...</td>\n",
       "      <td>...</td>\n",
       "      <td>...</td>\n",
       "      <td>...</td>\n",
       "      <td>...</td>\n",
       "      <td>...</td>\n",
       "      <td>...</td>\n",
       "      <td>...</td>\n",
       "      <td>...</td>\n",
       "    </tr>\n",
       "    <tr>\n",
       "      <th>4542</th>\n",
       "      <td>0</td>\n",
       "      <td>2.0</td>\n",
       "      <td>2.0</td>\n",
       "      <td>48.0</td>\n",
       "      <td>48.0</td>\n",
       "      <td>0.0</td>\n",
       "      <td>1.0</td>\n",
       "      <td>46</td>\n",
       "      <td>34</td>\n",
       "      <td>1678</td>\n",
       "      <td>...</td>\n",
       "      <td>0</td>\n",
       "      <td>0</td>\n",
       "      <td>0</td>\n",
       "      <td>0</td>\n",
       "      <td>0</td>\n",
       "      <td>0</td>\n",
       "      <td>0</td>\n",
       "      <td>0</td>\n",
       "      <td>0</td>\n",
       "      <td>95979.0</td>\n",
       "    </tr>\n",
       "    <tr>\n",
       "      <th>14590</th>\n",
       "      <td>0</td>\n",
       "      <td>1.0</td>\n",
       "      <td>7.0</td>\n",
       "      <td>6.0</td>\n",
       "      <td>6.0</td>\n",
       "      <td>0.0</td>\n",
       "      <td>2.0</td>\n",
       "      <td>151</td>\n",
       "      <td>112</td>\n",
       "      <td>2046</td>\n",
       "      <td>...</td>\n",
       "      <td>0</td>\n",
       "      <td>0</td>\n",
       "      <td>0</td>\n",
       "      <td>1</td>\n",
       "      <td>0</td>\n",
       "      <td>1</td>\n",
       "      <td>0</td>\n",
       "      <td>0</td>\n",
       "      <td>0</td>\n",
       "      <td>155000.0</td>\n",
       "    </tr>\n",
       "    <tr>\n",
       "      <th>13255</th>\n",
       "      <td>0</td>\n",
       "      <td>2.0</td>\n",
       "      <td>1.0</td>\n",
       "      <td>10.0</td>\n",
       "      <td>3.0</td>\n",
       "      <td>3.0</td>\n",
       "      <td>0.0</td>\n",
       "      <td>96</td>\n",
       "      <td>34</td>\n",
       "      <td>1579</td>\n",
       "      <td>...</td>\n",
       "      <td>0</td>\n",
       "      <td>0</td>\n",
       "      <td>0</td>\n",
       "      <td>0</td>\n",
       "      <td>0</td>\n",
       "      <td>0</td>\n",
       "      <td>0</td>\n",
       "      <td>0</td>\n",
       "      <td>0</td>\n",
       "      <td>84170.0</td>\n",
       "    </tr>\n",
       "    <tr>\n",
       "      <th>16006</th>\n",
       "      <td>0</td>\n",
       "      <td>1.0</td>\n",
       "      <td>2.0</td>\n",
       "      <td>6.0</td>\n",
       "      <td>1.0</td>\n",
       "      <td>3.0</td>\n",
       "      <td>1.0</td>\n",
       "      <td>66</td>\n",
       "      <td>34</td>\n",
       "      <td>1496</td>\n",
       "      <td>...</td>\n",
       "      <td>0</td>\n",
       "      <td>0</td>\n",
       "      <td>0</td>\n",
       "      <td>1</td>\n",
       "      <td>0</td>\n",
       "      <td>1</td>\n",
       "      <td>1</td>\n",
       "      <td>1</td>\n",
       "      <td>1</td>\n",
       "      <td>74651.0</td>\n",
       "    </tr>\n",
       "    <tr>\n",
       "      <th>5769</th>\n",
       "      <td>0</td>\n",
       "      <td>2.0</td>\n",
       "      <td>3.0</td>\n",
       "      <td>19.0</td>\n",
       "      <td>6.0</td>\n",
       "      <td>5.0</td>\n",
       "      <td>2.0</td>\n",
       "      <td>151</td>\n",
       "      <td>112</td>\n",
       "      <td>2039</td>\n",
       "      <td>...</td>\n",
       "      <td>0</td>\n",
       "      <td>0</td>\n",
       "      <td>0</td>\n",
       "      <td>0</td>\n",
       "      <td>0</td>\n",
       "      <td>1</td>\n",
       "      <td>1</td>\n",
       "      <td>0</td>\n",
       "      <td>0</td>\n",
       "      <td>153000.0</td>\n",
       "    </tr>\n",
       "  </tbody>\n",
       "</table>\n",
       "<p>4210 rows × 386 columns</p>\n",
       "</div>"
      ],
      "text/plain": [
       "       MainBranch  RemoteWork  EdLevel  YearsCode  YearsCodePro  OrgSize  \\\n",
       "11930           0         1.0      1.0        4.0           2.0      6.0   \n",
       "2395            0         1.0      1.0        5.0           5.0      2.0   \n",
       "7127            0         1.0      7.0       49.0          44.0      4.0   \n",
       "7088            0         2.0      3.0       14.0           1.0      3.0   \n",
       "24811           0         1.0      7.0        0.0           0.0      5.0   \n",
       "...           ...         ...      ...        ...           ...      ...   \n",
       "4542            0         2.0      2.0       48.0          48.0      0.0   \n",
       "14590           0         1.0      7.0        6.0           6.0      0.0   \n",
       "13255           0         2.0      1.0       10.0           3.0      3.0   \n",
       "16006           0         1.0      2.0        6.0           1.0      3.0   \n",
       "5769            0         2.0      3.0       19.0           6.0      5.0   \n",
       "\n",
       "       PurchaseInfluence  Country  Currency  CompTotal  ...  \\\n",
       "11930                0.0      151       112       2109  ...   \n",
       "2395                 1.0      151       112       1795  ...   \n",
       "7127                 2.0       48        34       1123  ...   \n",
       "7088                 1.0      133        99       1357  ...   \n",
       "24811                1.0      149        36       1146  ...   \n",
       "...                  ...      ...       ...        ...  ...   \n",
       "4542                 1.0       46        34       1678  ...   \n",
       "14590                2.0      151       112       2046  ...   \n",
       "13255                0.0       96        34       1579  ...   \n",
       "16006                1.0       66        34       1496  ...   \n",
       "5769                 2.0      151       112       2039  ...   \n",
       "\n",
       "       I have autism / an autism spectrum disorder (e.g. Asperger's, etc.)  \\\n",
       "11930                                                  0                     \n",
       "2395                                                   0                     \n",
       "7127                                                   0                     \n",
       "7088                                                   0                     \n",
       "24811                                                  0                     \n",
       "...                                                  ...                     \n",
       "4542                                                   0                     \n",
       "14590                                                  0                     \n",
       "13255                                                  0                     \n",
       "16006                                                  0                     \n",
       "5769                                                   0                     \n",
       "\n",
       "       Innersource initiative  \\\n",
       "11930                       1   \n",
       "2395                        0   \n",
       "7127                        0   \n",
       "7088                        0   \n",
       "24811                       0   \n",
       "...                       ...   \n",
       "4542                        0   \n",
       "14590                       0   \n",
       "13255                       0   \n",
       "16006                       0   \n",
       "5769                        0   \n",
       "\n",
       "       Developer portal or other central places to find tools/services  \\\n",
       "11930                                                  1                 \n",
       "2395                                                   0                 \n",
       "7127                                                   1                 \n",
       "7088                                                   0                 \n",
       "24811                                                  0                 \n",
       "...                                                  ...                 \n",
       "4542                                                   0                 \n",
       "14590                                                  0                 \n",
       "13255                                                  0                 \n",
       "16006                                                  0                 \n",
       "5769                                                   0                 \n",
       "\n",
       "       DevOps function  None of these  \\\n",
       "11930                1              0   \n",
       "2395                 1              0   \n",
       "7127                 0              0   \n",
       "7088                 0              0   \n",
       "24811                0              0   \n",
       "...                ...            ...   \n",
       "4542                 0              0   \n",
       "14590                1              0   \n",
       "13255                0              0   \n",
       "16006                1              0   \n",
       "5769                 0              0   \n",
       "\n",
       "       Continuous integration (CI) and (more often) continuous delivery  \\\n",
       "11930                                                  1                  \n",
       "2395                                                   0                  \n",
       "7127                                                   0                  \n",
       "7088                                                   1                  \n",
       "24811                                                  1                  \n",
       "...                                                  ...                  \n",
       "4542                                                   0                  \n",
       "14590                                                  1                  \n",
       "13255                                                  0                  \n",
       "16006                                                  1                  \n",
       "5769                                                   1                  \n",
       "\n",
       "       Automated testing  Microservices  Observability tools  \\\n",
       "11930                  1              1                    1   \n",
       "2395                   0              0                    0   \n",
       "7127                   1              1                    0   \n",
       "7088                   1              0                    0   \n",
       "24811                  0              0                    0   \n",
       "...                  ...            ...                  ...   \n",
       "4542                   0              0                    0   \n",
       "14590                  0              0                    0   \n",
       "13255                  0              0                    0   \n",
       "16006                  1              1                    1   \n",
       "5769                   1              0                    0   \n",
       "\n",
       "       ConvertedCompYearly  \n",
       "11930             175000.0  \n",
       "2395              106000.0  \n",
       "7127              486300.0  \n",
       "7088               68628.0  \n",
       "24811              50256.0  \n",
       "...                    ...  \n",
       "4542               95979.0  \n",
       "14590             155000.0  \n",
       "13255              84170.0  \n",
       "16006              74651.0  \n",
       "5769              153000.0  \n",
       "\n",
       "[4210 rows x 386 columns]"
      ]
     },
     "execution_count": 51,
     "metadata": {},
     "output_type": "execute_result"
    }
   ],
   "source": [
    "X_val_r.iloc[(preds == 1)]"
   ]
  },
  {
   "cell_type": "code",
   "execution_count": 41,
   "metadata": {},
   "outputs": [
    {
     "name": "stderr",
     "output_type": "stream",
     "text": [
      "c:\\Users\\robin\\anaconda3\\envs\\tf\\lib\\site-packages\\sklearn\\base.py:450: UserWarning: X does not have valid feature names, but LocalOutlierFactor was fitted with feature names\n",
      "  warnings.warn(\n"
     ]
    },
    {
     "data": {
      "text/plain": [
       "array([-1.0329405 , -1.17247752, -3.89001856, ..., -0.98208878,\n",
       "       -1.27232398, -1.05947718])"
      ]
     },
     "execution_count": 41,
     "metadata": {},
     "output_type": "execute_result"
    }
   ],
   "source": [
    "lof.score_samples(X_val_r)"
   ]
  },
  {
   "cell_type": "markdown",
   "metadata": {},
   "source": [
    "# Plots"
   ]
  },
  {
   "cell_type": "code",
   "execution_count": 176,
   "metadata": {},
   "outputs": [
    {
     "data": {
      "image/png": "[encoded data removed]",
      "text/plain": [
       "<Figure size 3000x3000 with 1 Axes>"
      ]
     },
     "metadata": {},
     "output_type": "display_data"
    }
   ],
   "source": [
    "plt.figure(dpi=150, figsize=(20,20))\n",
    "plot_tree(dt_model)\n",
    "plt.show()"
   ]
  },
  {
   "cell_type": "markdown",
   "metadata": {},
   "source": [
    "# Deep Learning with Keras"
   ]
  },
  {
   "cell_type": "code",
   "execution_count": null,
   "metadata": {},
   "outputs": [],
   "source": [
    "model = keras.Sequential()\n",
    "# Add an Embedding layer expecting input vocab of size 1000, and\n",
    "# output embedding dimension of size 64.\n",
    "model.add(layers.Embedding(input_dim=100, output_dim=64))\n",
    "\n",
    "# Add a LSTM layer with 128 internal units.\n",
    "model.add(layers.LSTM(128))\n",
    "\n",
    "# Add a Dense layer with 10 units.\n",
    "model.add(layers.Dense(10))"
   ]
  }
 ],
 "metadata": {
  "kernelspec": {
   "display_name": "Python 3.9.7 ('tf')",
   "language": "python",
   "name": "python3"
  },
  "language_info": {
   "codemirror_mode": {
    "name": "ipython",
    "version": 3
   },
   "file_extension": ".py",
   "mimetype": "text/x-python",
   "name": "python",
   "nbconvert_exporter": "python",
   "pygments_lexer": "ipython3",
   "version": "3.9.7"
  },
  "orig_nbformat": 4,
  "vscode": {
   "interpreter": {
    "hash": "f79d89a4613cb4f5f761fd9872f218a4ad945f662a47310fed6bc257a115d4fa"
   }
  }
 },
 "nbformat": 4,
 "nbformat_minor": 2
}
